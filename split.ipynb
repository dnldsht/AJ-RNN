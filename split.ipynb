{
 "cells": [
  {
   "cell_type": "markdown",
   "metadata": {},
   "source": [
    "labels.npy corrisponde alla struttura che contiene le info di classe, oggetto e posizione sulla griglia. Nel caso del codice che ho su github, \n",
    "\n",
    " 0 = row_id, 1 = col_id, 2 = class_id, colonna 3 = object_id"
   ]
  },
  {
   "cell_type": "code",
   "execution_count": 1,
   "metadata": {},
   "outputs": [],
   "source": [
    "import numpy as np\n",
    "lut = np.load('SITS-Missing-Data/D3_balaruc_lut.npy')\n",
    "masks = np.load('SITS-Missing-Data/D2_balaruc_masks.npy')"
   ]
  },
  {
   "cell_type": "code",
   "execution_count": 6,
   "metadata": {},
   "outputs": [],
   "source": [
    "a = masks.flatten()"
   ]
  },
  {
   "cell_type": "code",
   "execution_count": 19,
   "metadata": {},
   "outputs": [
    {
     "data": {
      "text/plain": [
       "(137606, 54)"
      ]
     },
     "execution_count": 19,
     "metadata": {},
     "output_type": "execute_result"
    }
   ],
   "source": [
    "np.where(a == 1)\n",
    "a.shape, np.count_nonzero(a)\n",
    "#np.count_nonzero(a)\n",
    "masks.shape\n",
    "#np.count_nonzero(masks, keepdims=True)"
   ]
  },
  {
   "cell_type": "code",
   "execution_count": 2,
   "metadata": {},
   "outputs": [
    {
     "data": {
      "text/plain": [
       "(137606, 4)"
      ]
     },
     "execution_count": 2,
     "metadata": {},
     "output_type": "execute_result"
    }
   ],
   "source": [
    "lut.shape\n",
    "# 0: IdObject, 1: Class, 2: ?, 3: ?"
   ]
  },
  {
   "cell_type": "code",
   "execution_count": 3,
   "metadata": {},
   "outputs": [],
   "source": [
    "clID_col = lut[:, 1]\n",
    "clID = np.unique(clID_col)\n",
    "hashClID2obj = {}\n",
    "for val in clID:\n",
    "        idx = np.where(clID_col == val)\n",
    "        t_labels = lut[idx]\n",
    "        hashClID2obj[val] = np.unique( t_labels[:,0] )"
   ]
  },
  {
   "cell_type": "code",
   "execution_count": 5,
   "metadata": {},
   "outputs": [
    {
     "data": {
      "text/plain": [
       "dict_keys([0, 1, 2, 3, 4, 5, 6, 7])"
      ]
     },
     "execution_count": 5,
     "metadata": {},
     "output_type": "execute_result"
    }
   ],
   "source": [
    "hashClID2obj.keys()"
   ]
  },
  {
   "cell_type": "code",
   "execution_count": 7,
   "metadata": {},
   "outputs": [
    {
     "data": {
      "text/plain": [
       "array([ 711,  712,  713,  714,  715,  716,  717,  718,  719,  720,  721,\n",
       "        722,  723,  724,  725,  726,  727,  728,  729,  730,  731,  732,\n",
       "        733,  734,  735,  736,  737,  738,  739,  740,  741,  742,  743,\n",
       "        744,  745,  746,  747,  748,  749,  750,  751,  752,  753,  754,\n",
       "        755,  756,  757,  758,  759,  760,  761,  762,  763,  764,  765,\n",
       "        766,  767,  768,  769,  770,  771,  772,  773,  774,  775,  776,\n",
       "        777,  778,  779,  780,  781,  782,  783,  784,  785,  786,  787,\n",
       "        788,  789,  790,  791,  792,  793,  794,  795,  796,  797,  798,\n",
       "        799,  800,  801,  802,  803,  804,  805,  806,  807,  808,  809,\n",
       "        810,  811,  812,  813,  814,  815,  816,  817,  818,  819,  820,\n",
       "        821,  822,  823,  824,  825,  826,  827,  828,  829,  830,  831,\n",
       "        832,  833,  834,  835,  836,  837,  838,  839,  840,  841,  842,\n",
       "        843,  844,  845,  846,  847,  848,  849,  850,  851,  852,  853,\n",
       "        854,  855,  856,  857,  858,  859,  860,  861,  862,  863,  864,\n",
       "        865,  866,  867,  868,  869,  870,  871,  872,  873,  874,  875,\n",
       "        876,  877,  878,  879,  880,  881,  882,  883,  884,  885,  886,\n",
       "        887,  888,  889,  890,  891,  892,  893,  894,  895,  896,  897,\n",
       "        898,  899,  900,  901,  902,  903,  904,  905,  906,  907,  908,\n",
       "        909,  910,  911,  912,  913,  914,  915,  916,  917,  918,  919,\n",
       "        920,  921,  922,  923,  924,  925,  926,  927,  928,  929,  930,\n",
       "        931,  932,  933,  934,  935,  936,  937,  938,  939,  940,  941,\n",
       "        942,  943,  944,  945,  946,  947,  948,  949,  950,  951,  952,\n",
       "        953,  954,  955,  956,  957,  958,  959,  960,  961,  962,  963,\n",
       "        964,  965,  966,  967,  968,  969,  970,  971,  972,  973,  974,\n",
       "        975,  976,  977,  978,  979,  980,  981,  982,  983,  984,  985,\n",
       "        986,  987,  988,  989,  990,  991,  992,  993,  994,  995,  996,\n",
       "        997,  998,  999, 1000, 1001, 1002, 1003, 1004, 1005, 1006, 1007,\n",
       "       1008, 1009, 1010, 1011, 1012, 1013, 1014, 1015, 1016, 1017, 1018,\n",
       "       1019, 1020, 1021, 1022, 1023, 1024, 1025, 1026, 1027, 1028, 1029,\n",
       "       1030, 1031, 1032, 1033, 1034, 1035, 1036, 1037, 1038])"
      ]
     },
     "execution_count": 7,
     "metadata": {},
     "output_type": "execute_result"
    }
   ],
   "source": [
    "hashClID2obj[1]"
   ]
  },
  {
   "cell_type": "code",
   "execution_count": 1,
   "metadata": {},
   "outputs": [
    {
     "name": "stderr",
     "output_type": "stream",
     "text": [
      "2022-03-01 18:09:30.166785: W tensorflow/stream_executor/platform/default/dso_loader.cc:64] Could not load dynamic library 'libcudart.so.11.0'; dlerror: libcudart.so.11.0: cannot open shared object file: No such file or directory\n",
      "2022-03-01 18:09:30.166822: I tensorflow/stream_executor/cuda/cudart_stub.cc:29] Ignore above cudart dlerror if you do not have a GPU set up on your machine.\n"
     ]
    }
   ],
   "source": [
    "import utils"
   ]
  },
  {
   "cell_type": "code",
   "execution_count": 6,
   "metadata": {},
   "outputs": [],
   "source": [
    "training, validation, test, num_classes, num_steps, num_bands = utils.load_sits()"
   ]
  },
  {
   "cell_type": "code",
   "execution_count": 9,
   "metadata": {},
   "outputs": [
    {
     "data": {
      "text/plain": [
       "(<tf.Tensor: shape=(), dtype=int64, numpy=59764>,\n",
       " <tf.Tensor: shape=(), dtype=int64, numpy=49175>,\n",
       " <tf.Tensor: shape=(), dtype=int64, numpy=28667>)"
      ]
     },
     "execution_count": 9,
     "metadata": {},
     "output_type": "execute_result"
    }
   ],
   "source": [
    "training.cardinality(), validation.cardinality(), test.cardinality()"
   ]
  },
  {
   "cell_type": "code",
   "execution_count": 5,
   "metadata": {},
   "outputs": [
    {
     "data": {
      "text/plain": [
       "(<tf.Tensor: shape=(), dtype=int64, numpy=56336>,\n",
       " <tf.Tensor: shape=(), dtype=int64, numpy=32095>,\n",
       " <tf.Tensor: shape=(), dtype=int64, numpy=49175>)"
      ]
     },
     "execution_count": 5,
     "metadata": {},
     "output_type": "execute_result"
    }
   ],
   "source": [
    "training.cardinality(), validation.cardinality(), test.cardinality()"
   ]
  }
 ],
 "metadata": {
  "interpreter": {
   "hash": "949777d72b0d2535278d3dc13498b2535136f6dfe0678499012e853ee9abcab1"
  },
  "kernelspec": {
   "display_name": "Python 3.9.7 64-bit",
   "language": "python",
   "name": "python3"
  },
  "language_info": {
   "codemirror_mode": {
    "name": "ipython",
    "version": 3
   },
   "file_extension": ".py",
   "mimetype": "text/x-python",
   "name": "python",
   "nbconvert_exporter": "python",
   "pygments_lexer": "ipython3",
   "version": "3.9.7"
  },
  "orig_nbformat": 4
 },
 "nbformat": 4,
 "nbformat_minor": 2
}
