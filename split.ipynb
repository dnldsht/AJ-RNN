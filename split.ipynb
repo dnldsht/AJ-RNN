{
 "cells": [
  {
   "cell_type": "markdown",
   "metadata": {},
   "source": [
    "labels.npy corrisponde alla struttura che contiene le info di classe, oggetto e posizione sulla griglia. Nel caso del codice che ho su github, \n",
    "\n",
    " 0 = row_id, 1 = col_id, 2 = class_id, colonna 3 = object_id"
   ]
  },
  {
   "cell_type": "code",
   "execution_count": 1,
   "metadata": {},
   "outputs": [],
   "source": [
    "import numpy as np\n",
    "from sklearn.utils import shuffle\n",
    "from utils import *\n",
    "\n",
    "data = np.load('SITS-Missing-Data/D1_balaruc_samples.npy')\n",
    "masks = np.load('SITS-Missing-Data/D2_balaruc_masks.npy')\n",
    "lut = np.load('SITS-Missing-Data/D3_balaruc_lut.npy')"
   ]
  },
  {
   "cell_type": "code",
   "execution_count": null,
   "metadata": {},
   "outputs": [],
   "source": []
  },
  {
   "cell_type": "code",
   "execution_count": 2,
   "metadata": {},
   "outputs": [
    {
     "data": {
      "text/plain": [
       "((137606, 54, 16), (137606, 54), (137606, 4))"
      ]
     },
     "execution_count": 2,
     "metadata": {},
     "output_type": "execute_result"
    }
   ],
   "source": [
    "data.shape, masks.shape, lut.shape"
   ]
  },
  {
   "cell_type": "code",
   "execution_count": 12,
   "metadata": {},
   "outputs": [
    {
     "data": {
      "text/plain": [
       "array([704, 701, 702, ..., 253, 254, 255])"
      ]
     },
     "execution_count": 12,
     "metadata": {},
     "output_type": "execute_result"
    }
   ],
   "source": [
    "lut[:,3]#, np.unique(, return_counts=True)"
   ]
  },
  {
   "cell_type": "code",
   "execution_count": 53,
   "metadata": {},
   "outputs": [],
   "source": [
    "def get_unique_ids_by_class(lut):\n",
    "    labels = lut[:, 1]\n",
    "    unique_labels = np.unique(labels)\n",
    "    ids_by_class = {}\n",
    "    for label in unique_labels:\n",
    "      idx = np.where(labels == label)\n",
    "      lut_subset = lut[idx]\n",
    "      ids_by_class[label] = np.unique(lut_subset[:, 0])\n",
    "    return ids_by_class\n",
    "\n",
    "def get_idx_of_object_ids(ids, lut):\n",
    "    lut_ids = lut[:, 0]\n",
    "    tot_idx = []\n",
    "    for i in ids:\n",
    "        tot_idx.append(np.where(lut_ids == i)[0])\n",
    "    tot_idx = np.concatenate(tot_idx, axis=0)\n",
    "    return tot_idx\n",
    "\n",
    "def get_split_idx(lut, train_perc=.6, val_perc=.2):\n",
    "  train_idx, valid_idx, test_idx = [], [], []\n",
    "  unique_ids_by_class = get_unique_ids_by_class(lut)\n",
    "\n",
    "  for label in unique_ids_by_class:\n",
    "    ids = unique_ids_by_class[label]\n",
    "    ids = shuffle(ids)\n",
    "    \n",
    "    limit_train = int(len(ids)* train_perc )\n",
    "    limit_val = limit_train + int(len(ids)* val_perc)\n",
    "    \n",
    "    train_idx.extend(get_idx_of_object_ids(ids[0:limit_train], lut))\n",
    "    valid_idx.extend(get_idx_of_object_ids(ids[limit_train:limit_val], lut))\n",
    "    test_idx.extend(get_idx_of_object_ids(ids[limit_val::], lut))\n",
    "  return (train_idx,), (valid_idx,), (test_idx,)\n",
    "\n",
    "train_idx, val_idx, test_idx = get_split_idx(lut)"
   ]
  },
  {
   "cell_type": "code",
   "execution_count": 54,
   "metadata": {},
   "outputs": [],
   "source": [
    "unique_ids_by_class = get_unique_ids_by_class(lut)"
   ]
  },
  {
   "cell_type": "code",
   "execution_count": 64,
   "metadata": {},
   "outputs": [
    {
     "name": "stdout",
     "output_type": "stream",
     "text": [
      "0 712\n",
      "1 328\n",
      "2 82\n",
      "3 172\n",
      "4 223\n",
      "5 32\n",
      "6 39\n",
      "7 56\n",
      "1644\n"
     ]
    }
   ],
   "source": [
    "a = 0\n",
    "for c, ids in unique_ids_by_class.items():\n",
    "  print(c, len(ids))\n",
    "  a += len(ids)\n",
    "print(a)"
   ]
  },
  {
   "cell_type": "code",
   "execution_count": 3,
   "metadata": {},
   "outputs": [],
   "source": [
    "data[np.where(masks == 1)] = MISSING_VALUE\n",
    "\n",
    "num_steps = data.shape[1]\n",
    "num_bands = data.shape[2]\n",
    "labels, num_classes = transfer_labels(lut[:, 1])\n",
    "# labels = convert_to_one_hot(labels, num_classes=len(np.unique(labels)))\n",
    "prediction_target = data[:, 1:]\n",
    "mask = np.ones_like(prediction_target)\n",
    "mask[np.where(prediction_target == MISSING_VALUE)] = 0"
   ]
  },
  {
   "cell_type": "code",
   "execution_count": 4,
   "metadata": {},
   "outputs": [
    {
     "name": "stdout",
     "output_type": "stream",
     "text": [
      "MISSING RATIO: 0.339\n"
     ]
    }
   ],
   "source": [
    "check_missing_ratio(mask)"
   ]
  },
  {
   "cell_type": "code",
   "execution_count": 7,
   "metadata": {},
   "outputs": [
    {
     "name": "stdout",
     "output_type": "stream",
     "text": [
      "MISSING RATIO: 0.339\n",
      "MISSING RATIO: 0.337\n",
      "MISSING RATIO: 0.341\n"
     ]
    }
   ],
   "source": [
    "for idx in [train_idx, val_idx, test_idx]:\n",
    "  check_missing_ratio(np.array(mask[idx]))"
   ]
  },
  {
   "cell_type": "code",
   "execution_count": 65,
   "metadata": {},
   "outputs": [],
   "source": [
    "object_ids = lut[:,0]"
   ]
  },
  {
   "cell_type": "code",
   "execution_count": 66,
   "metadata": {},
   "outputs": [
    {
     "data": {
      "text/plain": [
       "(137606,)"
      ]
     },
     "execution_count": 66,
     "metadata": {},
     "output_type": "execute_result"
    }
   ],
   "source": [
    "object_ids.shape"
   ]
  },
  {
   "cell_type": "code",
   "execution_count": 67,
   "metadata": {},
   "outputs": [
    {
     "name": "stdout",
     "output_type": "stream",
     "text": [
      "1 712 10412\n",
      "2 328 5165\n",
      "3 82 32095\n",
      "4 172 49175\n",
      "5 223 28667\n",
      "6 32 2075\n",
      "7 39 5205\n",
      "8 56 4812\n",
      "137606 1644\n"
     ]
    }
   ],
   "source": [
    "a, b = 0, 0\n",
    "for l in np.unique(labels):\n",
    "  lab = l+1\n",
    "  pixels =  np.where(labels == l)[0].shape[0]\n",
    "  p = len(np.unique(object_ids[np.where(labels == l)]))\n",
    "  a += pixels\n",
    "  b += p\n",
    "  print(lab, p, pixels)\n",
    "print(a, b)"
   ]
  },
  {
   "cell_type": "code",
   "execution_count": 20,
   "metadata": {},
   "outputs": [
    {
     "data": {
      "text/plain": [
       "999"
      ]
     },
     "execution_count": 20,
     "metadata": {},
     "output_type": "execute_result"
    }
   ],
   "source": [
    "len(np.unique(object_ids))"
   ]
  },
  {
   "cell_type": "code",
   "execution_count": 26,
   "metadata": {},
   "outputs": [],
   "source": [
    "a,b = np.unique(object_ids, return_counts=True)"
   ]
  },
  {
   "cell_type": "code",
   "execution_count": 45,
   "metadata": {},
   "outputs": [],
   "source": [
    "idx5 = np.where(labels[test_idx] == 5)"
   ]
  },
  {
   "cell_type": "code",
   "execution_count": null,
   "metadata": {},
   "outputs": [],
   "source": [
    "object_ids[idx5]"
   ]
  },
  {
   "cell_type": "code",
   "execution_count": 42,
   "metadata": {},
   "outputs": [
    {
     "data": {
      "text/plain": [
       "((220,), (137606,))"
      ]
     },
     "execution_count": 42,
     "metadata": {},
     "output_type": "execute_result"
    }
   ],
   "source": [
    "np.where(labels[test_idx] == 5)[0].shape, labels.shape"
   ]
  },
  {
   "cell_type": "code",
   "execution_count": 41,
   "metadata": {},
   "outputs": [
    {
     "data": {
      "text/plain": [
       "((220,), (29402,))"
      ]
     },
     "execution_count": 41,
     "metadata": {},
     "output_type": "execute_result"
    }
   ],
   "source": [
    "test_labels = labels[test_idx]\n",
    "np.where(test_labels == 5)[0].shape, test_labels.shape"
   ]
  },
  {
   "cell_type": "code",
   "execution_count": 81,
   "metadata": {},
   "outputs": [
    {
     "name": "stdout",
     "output_type": "stream",
     "text": [
      "----\n",
      "1 & \t 427 & \t 6486 (7.53\\%)\n",
      "2 & \t 196 & \t 3369 (3.91\\%)\n",
      "3 & \t 49 & \t 21298 (24.73\\%)\n",
      "4 & \t 103 & \t 30631 (35.56\\%)\n",
      "5 & \t 133 & \t 16933 (19.66\\%)\n",
      "6 & \t 19 & \t 1428 (1.66\\%)\n",
      "7 & \t 23 & \t 3399 (3.95\\%)\n",
      "8 & \t 33 & \t 2595 (3.01\\%)\n",
      "983 86139\n",
      "----\n",
      "1 & \t 142 & \t 2266 (8.84\\%)\n",
      "2 & \t 65 & \t 803 (3.13\\%)\n",
      "3 & \t 16 & \t 5308 (20.70\\%)\n",
      "4 & \t 34 & \t 8194 (31.95\\%)\n",
      "5 & \t 44 & \t 6362 (24.81\\%)\n",
      "6 & \t 6 & \t 309 (1.20\\%)\n",
      "7 & \t 7 & \t 948 (3.70\\%)\n",
      "8 & \t 11 & \t 1455 (5.67\\%)\n",
      "325 25645\n",
      "----\n",
      "1 & \t 143 & \t 1660 (6.43\\%)\n",
      "2 & \t 67 & \t 993 (3.85\\%)\n",
      "3 & \t 17 & \t 5489 (21.26\\%)\n",
      "4 & \t 35 & \t 10350 (40.08\\%)\n",
      "5 & \t 46 & \t 5372 (20.80\\%)\n",
      "6 & \t 7 & \t 338 (1.31\\%)\n",
      "7 & \t 9 & \t 858 (3.32\\%)\n",
      "8 & \t 12 & \t 762 (2.95\\%)\n",
      "336 25822\n"
     ]
    }
   ],
   "source": [
    "tota, totb = 0,0\n",
    "for idx in [train_idx, val_idx, test_idx]:\n",
    "  print(\"----\")\n",
    "  a,b = 0,0\n",
    "  for l in np.unique(labels):\n",
    "    lab = l+1\n",
    "    pixels =  np.where(labels[idx] == l)[0].shape[0]\n",
    "    polygons = len(np.unique(object_ids[idx][np.where(labels[idx] == l)]))\n",
    "    percentage_of_pixels = round(((pixels / labels[idx].shape[0])*100),2)\n",
    "    print(f\"{lab} & \\t {polygons} & \\t {pixels} ({percentage_of_pixels:.2f}\\%)\")\n",
    "    a += pixels\n",
    "    b += polygons     \n",
    "  print(b, a)\n",
    "\n",
    "  "
   ]
  },
  {
   "cell_type": "code",
   "execution_count": 45,
   "metadata": {},
   "outputs": [
    {
     "name": "stdout",
     "output_type": "stream",
     "text": [
      "[ 2  3  5  7  8  9 10 11 13 14 15 16 17 19 21 23 25 26 28 31]\n",
      "[ 1  4  6 18 22 24 27 29 30 36 43 44 47 49 52 61 64 68 71 73]\n",
      "[ 0 12 20 34 38 39 42 46 48 54 66 69 74 76 85 95 96 97 98 99]\n"
     ]
    }
   ],
   "source": [
    "for idx in [train_idx, val_idx, test_idx]:\n",
    "  l = lut[idx]\n",
    "  print(np.unique(l[:, 0])[0:20])"
   ]
  }
 ],
 "metadata": {
  "kernelspec": {
   "display_name": "tf-metal",
   "language": "python",
   "name": "python3"
  },
  "language_info": {
   "codemirror_mode": {
    "name": "ipython",
    "version": 3
   },
   "file_extension": ".py",
   "mimetype": "text/x-python",
   "name": "python",
   "nbconvert_exporter": "python",
   "pygments_lexer": "ipython3",
   "version": "3.10.6"
  },
  "orig_nbformat": 4,
  "vscode": {
   "interpreter": {
    "hash": "8a1bd572fd0f4f67cef828f420abb2a48a986357b672298ff9e029f8a13a5ab1"
   }
  }
 },
 "nbformat": 4,
 "nbformat_minor": 2
}
