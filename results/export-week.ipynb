{
 "cells": [
  {
   "cell_type": "code",
   "execution_count": 1,
   "metadata": {},
   "outputs": [],
   "source": [
    "import json\n",
    "import os\n",
    "import collections.abc\n",
    "import csv\n",
    "from tabulate import tabulate\n",
    "\n",
    "def get_metrics(res_dir):\n",
    "  with open(f\"{res_dir}/trainlog.csv\") as f:\n",
    "    reader = csv.reader(f)\n",
    "    keys =next(reader)\n",
    "    metrics = {k:[] for k in keys}\n",
    "    \n",
    "    for row in reader:\n",
    "      for k,v in zip(keys, row):\n",
    "        metrics[k].append(float(v))\n",
    "  return metrics\n",
    "\n",
    "def get_accs_at_epoch(m, epoch, test_acc=None):\n",
    "  accs = {}\n",
    "  for k in ['accuracy', 'val_accuracy', 'test_accuracy']:\n",
    "    if k in m:\n",
    "      accs[k] = round(m[k][epoch] * 100, 1)\n",
    "  if test_acc is not None and 'test_accuracy' not in accs:\n",
    "    accs['test_accuracy'] = round(test_acc * 100, 1)\n",
    "  \n",
    "  return accs\n",
    "\n",
    "def get_results(week):\n",
    "  results = []\n",
    "  for name in os.listdir(f\"{week}\"):\n",
    "    if name.startswith(\"-\"):\n",
    "      continue\n",
    "    for seed in os.listdir(f\"{week}/{name}\"):\n",
    "      if seed.startswith(\"-\"):\n",
    "        continue\n",
    "      item = {\n",
    "        \"name\": name,\n",
    "        'week': week,\n",
    "        'seed': seed[4:]\n",
    "      }\n",
    "\n",
    "      \n",
    "      if os.path.exists(f\"{week}/{name}/{seed}/config.json\"):\n",
    "        with open(f\"{week}/{name}/{seed}/config.json\") as f:\n",
    "          config = json.load(f)\n",
    "\n",
    "        item.update(config)\n",
    "        \n",
    "      \n",
    "      if os.path.exists(f\"{week}/{name}/{seed}/overview.json\"):\n",
    "        with open(f\"{week}/{name}/{seed}/overview.json\") as f:\n",
    "          overview = json.load(f)\n",
    "        \n",
    "        test_accuracy = overview.get(\"test_accuracy\", None)\n",
    "        if isinstance(test_accuracy, collections.abc.Sequence):\n",
    "          test_accuracy = test_accuracy[0]\n",
    "\n",
    "        item.update({\"test_accuracy\": test_accuracy, 'train_time': round(overview.get(\"train_time\", 0) / (60*60), 2)})\n",
    "      \n",
    "      if os.path.exists(f\"{week}/{name}/{seed}/trainlog.csv\"):\n",
    "        train_log = get_metrics(f\"{week}/{name}/{seed}\")\n",
    "        max_val = train_log['val_accuracy'].index(max(train_log['val_accuracy']))\n",
    "        accs = get_accs_at_epoch(train_log, max_val, item.get('test_accuracy', None))\n",
    "        item.update(accs)\n",
    "        item.update({\"best_val_epoch\": max_val + 1})\n",
    "      else: \n",
    "        continue\n",
    "\n",
    "      results.append(item)\n",
    "  return results\n",
    "\n",
    "def print_table(data, keys):\n",
    "  data = [[r.get(k, '') for k in keys] for r in data]\n",
    "  print(tabulate(data, headers=keys))\n",
    "\n",
    "keys = ['name', 'week', 'seed', 'accuracy', 'val_accuracy',  'test_accuracy', 'best_val_epoch', 'G_epoch', 'hidden_size', 'batch_size', 'learning_rate', 'dropout', 'train_time',]\n",
    "\n",
    "def print_week(week):\n",
    "  results = get_results(week)\n",
    "  print_table(results, keys)\n",
    "\n",
    "all_keys = ['name', 'runs', 'accuracy', 'val_accuracy',  'test_accuracy', 'best_val_epoch', 'G_epoch', 'hidden_size', 'batch_size', 'learning_rate', 'dropout', 'train_time',]\n",
    "average_keys = ['accuracy', 'val_accuracy',  'test_accuracy', 'best_val_epoch']\n",
    "\n",
    "def print_week_average(week):\n",
    "  results = get_results(week)\n",
    "  names = set([r['name'] for r in results])\n",
    "  aggregates = []\n",
    "  for name in names:\n",
    "      seeds = [r for r in results if r['name'] == name]\n",
    "      item = seeds[0]\n",
    "      item['runs'] = len(seeds)\n",
    "      for k in average_keys:\n",
    "        vals = [s[k] for s in seeds if k in s]\n",
    "        item[k] = round(sum([r for r in vals]) / len(vals),1)\n",
    "      aggregates.append(item)\n",
    "  print_table(aggregates, all_keys)"
   ]
  },
  {
   "cell_type": "code",
   "execution_count": 81,
   "metadata": {},
   "outputs": [
    {
     "name": "stdout",
     "output_type": "stream",
     "text": [
      "name                          week      seed    accuracy    val_accuracy    test_accuracy    best_val_epoch    G_epoch    hidden_size    batch_size    learning_rate  dropout    train_time\n",
      "----------------------------  ------  ------  ----------  --------------  ---------------  ----------------  ---------  -------------  ------------  ---------------  ---------  ------------\n",
      "GRU128-G1-LR3-BS32-REG-DROP   week48      89        97.8            20.4             29.3               306          1            128            32            0.001  0.5        17.45\n",
      "GRU128-G1-LR3-BS256           week48     196        97.9            87.7             82.5               600          1            128           256            0.001             9.67\n",
      "GRU128-G1-LR3-BS32-REG        week48      89        98.2            20.6             30.1               492          1            128            32            0.001  0          16.07\n",
      "GRU128-G1-LR3-BS256-REG-DROP  week48     196        85.3            84.5             82.6               578          1            128           256            0.001  0.5        9.71\n",
      "GRU128-G1-LR3-BS256-REG-DROP  week48      89        97.8            87.1             88.3               588          1            128           256            0.001  0.5        10.33\n",
      "GRU128-G5-LR6-BS256           week48     196        85.8            76.8             76.6                90          5            128           256            1e-06             30.68\n",
      "GRU128-G5-LR6-BS32-REG-DROP   week48      89        99              19.4             27.8               351          5            128            32            1e-06  0.5\n",
      "GRU128-G5-LR6-BS256-REG-DROP  week48     196        87              78.1             77.3               256          5            128           256            1e-06  0.5        29.86\n",
      "GRU128-G5-LR6-BS256-REG-DROP  week48      89        84.8            71.2             76.8                47          5            128           256            1e-06  0.5        29.9\n",
      "GRU128-G5-LR6-BS32            week48     196        90.7            27.8             29.6                 7          5            128            32            1e-06             52.79\n",
      "GRU128-G1-LR3-BS256-REG       week48     196        87.9            84.9             81.1               521          1            128           256            0.001  0\n",
      "GRU128-G1-LR3-BS256-REG       week48      89        96.1            83.9             76.2               585          1            128           256            0.001  0          9.91\n"
     ]
    }
   ],
   "source": [
    "\n",
    "#print(\"\\t\".join(keys))\n",
    "#print_week(\"week47\")\n",
    "#print_week(\"week48\")\n",
    "print_week(\"week48\")"
   ]
  },
  {
   "cell_type": "code",
   "execution_count": 76,
   "metadata": {},
   "outputs": [],
   "source": []
  },
  {
   "cell_type": "code",
   "execution_count": 82,
   "metadata": {},
   "outputs": [
    {
     "name": "stdout",
     "output_type": "stream",
     "text": [
      "name                            runs    accuracy    val_accuracy    test_accuracy    best_val_epoch    G_epoch    hidden_size    batch_size    learning_rate  dropout    train_time\n",
      "----------------------------  ------  ----------  --------------  ---------------  ----------------  ---------  -------------  ------------  ---------------  ---------  ------------\n",
      "GRU128-G5-LR6-BS32                 1        90.7            27.8             29.6               7            5            128            32            1e-06             52.79\n",
      "GRU128-G1-LR3-BS256-REG            2        92              84.4             78.7             553            1            128           256            0.001  0\n",
      "GRU128-G5-LR6-BS256-REG-DROP       2        85.9            74.7             77               151.5          5            128           256            1e-06  0.5        29.86\n",
      "GRU128-G1-LR3-BS256                1        97.9            87.7             82.5             600            1            128           256            0.001             9.67\n",
      "GRU128-G1-LR3-BS32-REG-DROP        1        97.8            20.4             29.3             306            1            128            32            0.001  0.5        17.45\n",
      "GRU128-G5-LR6-BS256                1        85.8            76.8             76.6              90            5            128           256            1e-06             30.68\n",
      "GRU128-G5-LR6-BS32-REG-DROP        1        99              19.4             27.8             351            5            128            32            1e-06  0.5\n",
      "GRU128-G1-LR3-BS32-REG             1        98.2            20.6             30.1             492            1            128            32            0.001  0          16.07\n",
      "GRU128-G1-LR3-BS256-REG-DROP       2        91.5            85.8             85.4             583            1            128           256            0.001  0.5        9.71\n"
     ]
    }
   ],
   "source": [
    "print_week_average(\"week48\")"
   ]
  }
 ],
 "metadata": {
  "kernelspec": {
   "display_name": "venv",
   "language": "python",
   "name": "python3"
  },
  "language_info": {
   "codemirror_mode": {
    "name": "ipython",
    "version": 3
   },
   "file_extension": ".py",
   "mimetype": "text/x-python",
   "name": "python",
   "nbconvert_exporter": "python",
   "pygments_lexer": "ipython3",
   "version": "3.10.7"
  },
  "orig_nbformat": 4,
  "vscode": {
   "interpreter": {
    "hash": "11abb7938f87972a7a147dfe2eeaff64b9125be73dc813bcf12e1ed54919820b"
   }
  }
 },
 "nbformat": 4,
 "nbformat_minor": 2
}
