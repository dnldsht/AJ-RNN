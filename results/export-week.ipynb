{
 "cells": [
  {
   "cell_type": "code",
   "execution_count": 12,
   "metadata": {},
   "outputs": [],
   "source": [
    "import json\n",
    "import os\n",
    "import collections.abc\n",
    "import csv\n",
    "from tabulate import tabulate\n",
    "\n",
    "def get_metrics(res_dir):\n",
    "  with open(f\"{res_dir}/trainlog.csv\") as f:\n",
    "    reader = csv.reader(f)\n",
    "    keys =next(reader)\n",
    "    metrics = {k:[] for k in keys}\n",
    "    \n",
    "    for row in reader:\n",
    "      for k,v in zip(keys, row):\n",
    "        metrics[k].append(float(v))\n",
    "  return metrics\n",
    "\n",
    "def get_accs_at_epoch(m, epoch, test_acc=None):\n",
    "  accs = {}\n",
    "  for k in ['accuracy', 'val_accuracy', 'test_accuracy']:\n",
    "    if k in m:\n",
    "      accs[k] = round(m[k][epoch] * 100, 1)\n",
    "  if test_acc is not None and 'test_accuracy' not in accs:\n",
    "    accs['test_accuracy'] = round(test_acc * 100, 1)\n",
    "  \n",
    "  return accs\n",
    "\n",
    "def get_results(week):\n",
    "  results = []\n",
    "  for name in os.listdir(f\"{week}\"):\n",
    "    if name.startswith(\"-\"):\n",
    "      continue\n",
    "    for seed in os.listdir(f\"{week}/{name}\"):\n",
    "      if seed.startswith(\"-\"):\n",
    "        continue\n",
    "      item = {\n",
    "        \"name\": name,\n",
    "        'week': week,\n",
    "        'seed': seed[4:]\n",
    "      }\n",
    "\n",
    "      \n",
    "      if os.path.exists(f\"{week}/{name}/{seed}/config.json\"):\n",
    "        with open(f\"{week}/{name}/{seed}/config.json\") as f:\n",
    "          config = json.load(f)\n",
    "\n",
    "        item.update(config)\n",
    "        \n",
    "      \n",
    "      if os.path.exists(f\"{week}/{name}/{seed}/overview.json\"):\n",
    "        with open(f\"{week}/{name}/{seed}/overview.json\") as f:\n",
    "          overview = json.load(f)\n",
    "        \n",
    "        test_accuracy = overview.get(\"test_accuracy\", None)\n",
    "        if isinstance(test_accuracy, collections.abc.Sequence):\n",
    "          test_accuracy = test_accuracy[0]\n",
    "\n",
    "        item.update({\"test_accuracy\": test_accuracy, 'train_time': round(overview.get(\"train_time\", 0) / (60*60), 2)})\n",
    "      \n",
    "      if os.path.exists(f\"{week}/{name}/{seed}/trainlog.csv\"):\n",
    "        train_log = get_metrics(f\"{week}/{name}/{seed}\")\n",
    "        max_val = train_log['val_accuracy'].index(max(train_log['val_accuracy']))\n",
    "        accs = get_accs_at_epoch(train_log, max_val, item.get('test_accuracy', None))\n",
    "        item.update(accs)\n",
    "        item.update({\"best_val_epoch\": max_val + 1})\n",
    "      else: \n",
    "        continue\n",
    "\n",
    "      results.append(item)\n",
    "  return results\n",
    "\n",
    "def print_table(data, keys):\n",
    "  data = [[r.get(k, '') for k in keys] for r in data]\n",
    "  print(tabulate(data, headers=keys))\n",
    "\n",
    "keys = ['name', 'week', 'seed', 'accuracy', 'val_accuracy',  'test_accuracy', 'best_val_epoch', 'G_epoch', 'hidden_size', 'batch_size', 'learning_rate', 'dropout', 'train_time',]\n",
    "\n",
    "def print_week(week):\n",
    "  results = get_results(week)\n",
    "  print_table(results, keys)\n",
    "\n",
    "all_keys = ['name', 'runs', 'accuracy', 'val_accuracy',  'test_accuracy', 'best_val_epoch', 'G_epoch', 'hidden_size', 'batch_size', 'learning_rate', 'dropout', 'train_time',]\n",
    "average_keys = ['accuracy', 'val_accuracy',  'test_accuracy', 'best_val_epoch']\n",
    "sum_keys = ['train_time']\n",
    "\n",
    "def print_week_average(week):\n",
    "  results = get_results(week)\n",
    "  names = set([r['name'] for r in results])\n",
    "  aggregates = []\n",
    "  for name in names:\n",
    "      seeds = [r for r in results if r['name'] == name]\n",
    "      item = seeds[0]\n",
    "      item['runs'] = len(seeds)\n",
    "      for k in average_keys:\n",
    "        vals = [s[k] for s in seeds if k in s]\n",
    "        if(len(vals) > 0):\n",
    "          item[k] = round(sum([r for r in vals]) / len(vals),1)\n",
    "      for k in sum_keys:\n",
    "        vals = [s[k] for s in seeds if k in s]\n",
    "        if(len(vals) > 0):\n",
    "          item[k] = round(sum([r for r in vals]),1)\n",
    "          \n",
    "      aggregates.append(item)\n",
    "  print_table(aggregates, all_keys)"
   ]
  },
  {
   "cell_type": "code",
   "execution_count": 33,
   "metadata": {},
   "outputs": [
    {
     "name": "stdout",
     "output_type": "stream",
     "text": [
      "name                                 week      seed    accuracy    val_accuracy  test_accuracy      best_val_epoch    G_epoch    hidden_size    batch_size    learning_rate    dropout  train_time\n",
      "-----------------------------------  ------  ------  ----------  --------------  ---------------  ----------------  ---------  -------------  ------------  ---------------  ---------  ------------\n",
      "G-LIGHT-GRU128-G1-LR7-B256-REG       week50      89        82.1            80.7  84.1                          998          1            128           256            1e-07        0    7.15\n",
      "G-LIGHT-GRU128-G1-LR7-B256-REG       week50     196        83.1            81.6  79.4                          998          1            128           256            1e-07        0    7.59\n",
      "G-LIGHT-GRU128-G1-LR9-B32-REG-DROP   week50     196        88.1            41.9  44.3                         1000          1            128            32            1e-09        0.5  13.73\n",
      "G-LIGHT-GRU128-G1-LR9-B32-REG-DROP   week50      89        88.2            56.1  60.4                         1000          1            128            32            1e-09        0.5  12.66\n",
      "G-LIGHT-GRU128-G1-LR7-B256-REG-DROP  week50      89        82.2            80.8  84.0                         1000          1            128           256            1e-07        0.5  7.91\n",
      "G-LIGHT-GRU128-G1-LR7-B256-REG-DROP  week50     196        82.1            80.4                                425          1            128           256            1e-07        0.5\n",
      "G-LIGHT-GRU128-G1-LR9-B32-REG        week50     196        78.4            42.3  42.1                            1          1            128            32            1e-09        0    1.4\n",
      "G-LIGHT-GRU128-G1-LR9-B32-REG        week50      89        88.5            58.6  65.7                          998          1            128            32            1e-09        0    16.38\n"
     ]
    }
   ],
   "source": [
    "\n",
    "#print(\"\\t\".join(keys))\n",
    "#print_week(\"week47\")\n",
    "#print_week(\"week48\")\n",
    "#print_week(\"week49\")\n",
    "print_week(\"week50\")"
   ]
  },
  {
   "cell_type": "code",
   "execution_count": 29,
   "metadata": {},
   "outputs": [
    {
     "name": "stdout",
     "output_type": "stream",
     "text": [
      "name                                   runs    accuracy    val_accuracy    test_accuracy    best_val_epoch    G_epoch    hidden_size    batch_size    learning_rate    dropout    train_time\n",
      "-----------------------------------  ------  ----------  --------------  ---------------  ----------------  ---------  -------------  ------------  ---------------  ---------  ------------\n",
      "G-LIGHT-GRU128-G1-LR3-B32-REG-DROP        1        98.6            22.1             30.9             169            1            128            32           0.001         0.5           3.6\n",
      "G-LIGHT-GRU128-G1-LR4-B256-REG            2        91.5            87               86.6             353            1            128           256           0.0001        0             7.6\n",
      "G-LIGHT-GRU128-G1-LR6-B256-REG            2        84.7            82.7             85.6             744.5          1            128           256           1e-06         0             7.5\n",
      "G-LIGHT-GRU128-G1-LR5-B256-REG            2        85.4            84               83.3             272.5          1            128           256           1e-05         0             5.7\n",
      "G-LIGHT-GRU128-G1-LR8-B32-REG             3        85.5            56.8             57.1             665.3          1            128            32           1e-08         0            27.2\n",
      "G-LIGHT-GRU128-G1-LR6-B32-REG             2        86.1            49               54.3              89.5          1            128            32           1e-06         0             5.1\n",
      "G-LIGHT-GRU128-G1-LR3-B256-REG-DROP       1        78.6            77.7             78.5              26            1            128           256           0.001         0.5           1\n",
      "G-LIGHT-GRU128-G1-LR3-B256-REG            3        80.6            78.2             75.1             150.7          1            128           256           0.001         0             7.1\n",
      "G-LIGHT-GRU128-G1-LR7-B32-REG             2        84.1            51.8             53               499            1            128            32           1e-07         0            14\n",
      "G-LIGHT-GRU128-G1-LR5-B32-REG             2        85.8            40.2             44.2              10.5          1            128            32           1e-05         0             2.9\n",
      "name                                   runs    accuracy    val_accuracy    test_accuracy    best_val_epoch    G_epoch    hidden_size    batch_size    learning_rate    dropout    train_time\n",
      "-----------------------------------  ------  ----------  --------------  ---------------  ----------------  ---------  -------------  ------------  ---------------  ---------  ------------\n",
      "G-LIGHT-GRU128-G1-LR9-B32-REG-DROP        2        88.2            49               52.3            1000            1            128            32            1e-09        0.5          26.4\n",
      "G-LIGHT-GRU128-G1-LR7-B256-REG-DROP       2        70.7            77.3             84               501            1            128           256            1e-07        0.5           7.9\n",
      "G-LIGHT-GRU128-G1-LR9-B32-REG             2        83.5            50.5             53.9             499.5          1            128            32            1e-09        0            17.8\n",
      "G-LIGHT-GRU128-G1-LR7-B256-REG            2        82.6            81.2             81.8             998            1            128           256            1e-07        0            14.7\n"
     ]
    }
   ],
   "source": [
    "print_week_average(\"week49\")\n",
    "print_week_average(\"week50\")"
   ]
  }
 ],
 "metadata": {
  "kernelspec": {
   "display_name": "tf-metal",
   "language": "python",
   "name": "python3"
  },
  "language_info": {
   "codemirror_mode": {
    "name": "ipython",
    "version": 3
   },
   "file_extension": ".py",
   "mimetype": "text/x-python",
   "name": "python",
   "nbconvert_exporter": "python",
   "pygments_lexer": "ipython3",
   "version": "3.10.6"
  },
  "orig_nbformat": 4,
  "vscode": {
   "interpreter": {
    "hash": "8a1bd572fd0f4f67cef828f420abb2a48a986357b672298ff9e029f8a13a5ab1"
   }
  }
 },
 "nbformat": 4,
 "nbformat_minor": 2
}
