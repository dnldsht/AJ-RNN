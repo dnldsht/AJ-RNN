{
 "cells": [
  {
   "cell_type": "code",
   "execution_count": 2,
   "metadata": {},
   "outputs": [],
   "source": [
    "import json\n",
    "import os\n",
    "import collections.abc\n",
    "import csv\n",
    "\n",
    "def get_metrics(res_dir):\n",
    "  with open(f\"{res_dir}/trainlog.csv\") as f:\n",
    "    reader = csv.reader(f)\n",
    "    keys =next(reader)\n",
    "    metrics = {k:[] for k in keys}\n",
    "    \n",
    "    for row in reader:\n",
    "      for k,v in zip(keys, row):\n",
    "        metrics[k].append(float(v))\n",
    "  return metrics\n",
    "\n",
    "def get_accs_at_epoch(m, epoch, test_acc=None):\n",
    "  accs = {}\n",
    "  for k in ['accuracy', 'val_accuracy', 'test_accuracy']:\n",
    "    if k in m:\n",
    "      accs[k] = round(m[k][epoch] * 100, 1)\n",
    "  if test_acc is not None and 'test_accuracy' not in accs:\n",
    "    accs['test_accuracy'] = round(test_acc * 100, 1)\n",
    "  \n",
    "  return accs\n",
    "\n",
    "def get_results(week):\n",
    "  results = []\n",
    "  for name in os.listdir(f\"{week}\"):\n",
    "    if name.startswith(\"-\"):\n",
    "      continue\n",
    "    for seed in os.listdir(f\"{week}/{name}\"):\n",
    "      if seed.startswith(\"-\"):\n",
    "        continue\n",
    "      item = {\n",
    "        \"name\": name,\n",
    "        'week': week,\n",
    "        'seed': seed[4:]\n",
    "      }\n",
    "\n",
    "      \n",
    "      if os.path.exists(f\"{week}/{name}/{seed}/config.json\"):\n",
    "        with open(f\"{week}/{name}/{seed}/config.json\") as f:\n",
    "          config = json.load(f)\n",
    "\n",
    "        item.update(config)\n",
    "        \n",
    "      \n",
    "      if os.path.exists(f\"{week}/{name}/{seed}/overview.json\"):\n",
    "        with open(f\"{week}/{name}/{seed}/overview.json\") as f:\n",
    "          overview = json.load(f)\n",
    "        \n",
    "        test_accuracy = overview.get(\"test_accuracy\", None)\n",
    "        if isinstance(test_accuracy, collections.abc.Sequence):\n",
    "          test_accuracy = test_accuracy[0]\n",
    "\n",
    "        item.update({\"test_accuracy\": test_accuracy, 'train_time': round(overview.get(\"train_time\", 0) / (60*60), 2)})\n",
    "      \n",
    "      if os.path.exists(f\"{week}/{name}/{seed}/trainlog.csv\"):\n",
    "        train_log = get_metrics(f\"{week}/{name}/{seed}\")\n",
    "        max_val = train_log['val_accuracy'].index(max(train_log['val_accuracy']))\n",
    "        accs = get_accs_at_epoch(train_log, max_val, item.get('test_accuracy', None))\n",
    "        item.update(accs)\n",
    "        item.update({\"best_val_epoch\": max_val + 1})\n",
    "      else: \n",
    "        continue\n",
    "\n",
    "      results.append(item)\n",
    "  return results\n",
    "       "
   ]
  },
  {
   "cell_type": "code",
   "execution_count": 29,
   "metadata": {},
   "outputs": [],
   "source": [
    "keys = ['name', 'week', 'seed', 'accuracy', 'val_accuracy',  'test_accuracy', 'best_val_epoch', 'G_epoch', 'hidden_size', 'batch_size', 'learning_rate', 'dropout', 'train_time',]\n",
    "from tabulate import tabulate\n",
    "def print_week(week):\n",
    "  results = get_results(week)\n",
    "  data = [[r.get(k, '') for k in keys] for r in results]\n",
    "  #print(data)\n",
    "  print(tabulate(data, headers=keys))\n",
    "  #print (tabulate(results, headers=tuple(keys)))#, headers=keys))\n",
    "  # for r in results:\n",
    "  #   print(\"\\t\".join([str(r.get(k, '')) for k in keys]))"
   ]
  },
  {
   "cell_type": "code",
   "execution_count": 30,
   "metadata": {},
   "outputs": [
    {
     "name": "stdout",
     "output_type": "stream",
     "text": [
      "name                                 week      seed    accuracy    val_accuracy  test_accuracy      best_val_epoch    G_epoch    hidden_size    batch_size    learning_rate    dropout  train_time\n",
      "-----------------------------------  ------  ------  ----------  --------------  ---------------  ----------------  ---------  -------------  ------------  ---------------  ---------  ------------\n",
      "G-LIGHT-GRU128-G1-LR3-B32-REG-DROP   week49      89        98.6            22.1  30.9                          169          1            128            32           0.001         0.5  3.56\n",
      "G-LIGHT-GRU128-G1-LR7-B32-REG        week49     196        78.6            48                                    1          1            128            32           1e-07         0\n",
      "G-LIGHT-GRU128-G1-LR7-B32-REG        week49      89        89.6            55.5  63.7                          997          1            128            32           1e-07         0    12.58\n",
      "G-LIGHT-GRU128-G1-LR4-B256-REG       week49      89        89.9            86.6  86.3                          352          1            128           256           0.0001        0    3.99\n",
      "G-LIGHT-GRU128-G1-LR3-B256-REG-DROP  week49      89        78.6            77.7  78.5                           26          1            128           256           0.001         0.5  0.99\n",
      "G-LIGHT-GRU128-G1-LR8-B32-REG        week49      23        88.9            58.4  54.3                         1000          1            128            32           1e-08         0    13.66\n",
      "G-LIGHT-GRU128-G1-LR8-B32-REG        week49     196        78.9            52    48.3                            1          1            128            32           1e-08         0    1.44\n",
      "G-LIGHT-GRU128-G1-LR8-B32-REG        week49      89        88.7            60.1  68.6                          995          1            128            32           1e-08         0    12.14\n",
      "G-LIGHT-GRU128-G1-LR3-B256-REG       week49      23        76.8            75.9  67.4                           77          1            128           256           0.001         0    1.63\n",
      "G-LIGHT-GRU128-G1-LR3-B256-REG       week49     196        79.6            79.3  77.6                           99          1            128           256           0.001         0    1.75\n",
      "G-LIGHT-GRU128-G1-LR3-B256-REG       week49      89        85.3            79.3  80.4                          276          1            128           256           0.001         0    3.69\n"
     ]
    }
   ],
   "source": [
    "\n",
    "#print(\"\\t\".join(keys))\n",
    "#print_week(\"week47\")\n",
    "#print_week(\"week48\")\n",
    "print_week(\"week49\")"
   ]
  }
 ],
 "metadata": {
  "kernelspec": {
   "display_name": "tf-metal",
   "language": "python",
   "name": "python3"
  },
  "language_info": {
   "codemirror_mode": {
    "name": "ipython",
    "version": 3
   },
   "file_extension": ".py",
   "mimetype": "text/x-python",
   "name": "python",
   "nbconvert_exporter": "python",
   "pygments_lexer": "ipython3",
   "version": "3.10.6"
  },
  "orig_nbformat": 4,
  "vscode": {
   "interpreter": {
    "hash": "8a1bd572fd0f4f67cef828f420abb2a48a986357b672298ff9e029f8a13a5ab1"
   }
  }
 },
 "nbformat": 4,
 "nbformat_minor": 2
}
