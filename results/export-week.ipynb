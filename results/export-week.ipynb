{
 "cells": [
  {
   "cell_type": "code",
   "execution_count": 1,
   "metadata": {},
   "outputs": [],
   "source": [
    "import json\n",
    "import os\n",
    "import collections.abc\n",
    "import csv\n",
    "from tabulate import tabulate\n",
    "\n",
    "def get_metrics(res_dir):\n",
    "  with open(f\"{res_dir}/trainlog.csv\") as f:\n",
    "    reader = csv.reader(f)\n",
    "    keys =next(reader)\n",
    "    metrics = {k:[] for k in keys}\n",
    "    \n",
    "    for row in reader:\n",
    "      for k,v in zip(keys, row):\n",
    "        metrics[k].append(float(v))\n",
    "  return metrics\n",
    "\n",
    "def get_accs_at_epoch(m, epoch, test_acc=None):\n",
    "  accs = {}\n",
    "  for k in ['accuracy', 'val_accuracy', 'test_accuracy']:\n",
    "    if k in m:\n",
    "      accs[k] = round(m[k][epoch] * 100, 1)\n",
    "  if test_acc is not None and 'test_accuracy' not in accs:\n",
    "    accs['test_accuracy'] = round(test_acc * 100, 1)\n",
    "  \n",
    "  return accs\n",
    "\n",
    "def get_results(week):\n",
    "  results = []\n",
    "  for name in os.listdir(f\"{week}\"):\n",
    "    if name.startswith(\"-\"):\n",
    "      continue\n",
    "    for seed in os.listdir(f\"{week}/{name}\"):\n",
    "      if seed.startswith(\"-\"):\n",
    "        continue\n",
    "      item = {\n",
    "        \"name\": name,\n",
    "        'week': week,\n",
    "        'seed': seed[4:]\n",
    "      }\n",
    "\n",
    "      \n",
    "      if os.path.exists(f\"{week}/{name}/{seed}/config.json\"):\n",
    "        with open(f\"{week}/{name}/{seed}/config.json\") as f:\n",
    "          config = json.load(f)\n",
    "\n",
    "        item.update(config)\n",
    "        \n",
    "      \n",
    "      if os.path.exists(f\"{week}/{name}/{seed}/overview.json\"):\n",
    "        with open(f\"{week}/{name}/{seed}/overview.json\") as f:\n",
    "          overview = json.load(f)\n",
    "        \n",
    "        test_accuracy = overview.get(\"test_accuracy\", None)\n",
    "        if isinstance(test_accuracy, collections.abc.Sequence):\n",
    "          test_accuracy = test_accuracy[0]\n",
    "\n",
    "        item.update({\"test_accuracy\": test_accuracy, 'train_time': round(overview.get(\"train_time\", 0) / (60*60), 2)})\n",
    "      \n",
    "      if os.path.exists(f\"{week}/{name}/{seed}/trainlog.csv\"):\n",
    "        train_log = get_metrics(f\"{week}/{name}/{seed}\")\n",
    "        max_val = train_log['val_accuracy'].index(max(train_log['val_accuracy']))\n",
    "        accs = get_accs_at_epoch(train_log, max_val, item.get('test_accuracy', None))\n",
    "        item.update(accs)\n",
    "        item.update({\"best_val_epoch\": max_val + 1})\n",
    "      else: \n",
    "        continue\n",
    "\n",
    "      results.append(item)\n",
    "  return results\n",
    "\n",
    "def print_table(data, keys):\n",
    "  data = [[r.get(k, '') for k in keys] for r in data]\n",
    "  print(tabulate(data, headers=keys))\n",
    "\n",
    "keys = ['name', 'week', 'seed', 'accuracy', 'val_accuracy',  'test_accuracy', 'best_val_epoch', 'G_epoch', 'hidden_size', 'batch_size', 'learning_rate', 'dropout', 'train_time',]\n",
    "\n",
    "def print_week(week):\n",
    "  results = get_results(week)\n",
    "  print_table(results, keys)\n",
    "\n",
    "all_keys = ['name', 'runs', 'accuracy', 'val_accuracy',  'test_accuracy', 'best_val_epoch', 'G_epoch', 'hidden_size', 'batch_size', 'learning_rate', 'dropout', 'train_time',]\n",
    "average_keys = ['accuracy', 'val_accuracy',  'test_accuracy', 'best_val_epoch']\n",
    "\n",
    "def print_week_average(week):\n",
    "  results = get_results(week)\n",
    "  names = set([r['name'] for r in results])\n",
    "  aggregates = []\n",
    "  for name in names:\n",
    "      seeds = [r for r in results if r['name'] == name]\n",
    "      item = seeds[0]\n",
    "      item['runs'] = len(seeds)\n",
    "      for k in average_keys:\n",
    "        vals = [s[k] for s in seeds if k in s]\n",
    "        item[k] = round(sum([r for r in vals]) / len(vals),1)\n",
    "      aggregates.append(item)\n",
    "  print_table(aggregates, all_keys)"
   ]
  },
  {
   "cell_type": "code",
   "execution_count": 2,
   "metadata": {},
   "outputs": [
    {
     "name": "stdout",
     "output_type": "stream",
     "text": [
      "name                          week      seed    accuracy    val_accuracy  test_accuracy      best_val_epoch    G_epoch    hidden_size    batch_size    learning_rate    dropout  train_time\n",
      "----------------------------  ------  ------  ----------  --------------  ---------------  ----------------  ---------  -------------  ------------  ---------------  ---------  ------------\n",
      "GRU128-G1-LR8-BS32            week49      89        85              63.9  71.0                           99          1            128            32            1e-08        0    20.91\n",
      "GRU128-G1-LR8-BS32            week49      23        87.9            76.5                                692          1            128            32            1e-08        0\n",
      "GRU128-G1-LR8-BS32            week49     196        86.9            72.1                                840          1            128            32            1e-08        0\n",
      "GRU128-G1-LR3-BS256-REG-DROP  week49      89        98.3            87.2  85.5                          305          1            128           256            0.001        0.5  13.44\n",
      "GRU128-G1-LR3-BS256-REG-DROP  week49      23        80.6            82.5  76.8                          154          1            128           256            0.001        0.5  8.79\n"
     ]
    }
   ],
   "source": [
    "\n",
    "#print(\"\\t\".join(keys))\n",
    "#print_week(\"week47\")\n",
    "#print_week(\"week48\")\n",
    "print_week(\"week49\")"
   ]
  },
  {
   "cell_type": "code",
   "execution_count": 76,
   "metadata": {},
   "outputs": [],
   "source": []
  },
  {
   "cell_type": "code",
   "execution_count": 4,
   "metadata": {},
   "outputs": [
    {
     "name": "stdout",
     "output_type": "stream",
     "text": [
      "name                            runs    accuracy    val_accuracy    test_accuracy    best_val_epoch    G_epoch    hidden_size    batch_size    learning_rate    dropout    train_time\n",
      "----------------------------  ------  ----------  --------------  ---------------  ----------------  ---------  -------------  ------------  ---------------  ---------  ------------\n",
      "GRU128-G1-LR8-BS32                 3        86.6            70.8             71               544.7          1            128            32            1e-08        0           20.91\n",
      "GRU128-G1-LR3-BS256-REG-DROP       2        89.4            84.8             81.2             229.5          1            128           256            0.001        0.5         13.44\n"
     ]
    }
   ],
   "source": [
    "print_week_average(\"week49\")"
   ]
  }
 ],
 "metadata": {
  "kernelspec": {
   "display_name": "venv",
   "language": "python",
   "name": "python3"
  },
  "language_info": {
   "codemirror_mode": {
    "name": "ipython",
    "version": 3
   },
   "file_extension": ".py",
   "mimetype": "text/x-python",
   "name": "python",
   "nbconvert_exporter": "python",
   "pygments_lexer": "ipython3",
   "version": "3.10.7"
  },
  "orig_nbformat": 4,
  "vscode": {
   "interpreter": {
    "hash": "11abb7938f87972a7a147dfe2eeaff64b9125be73dc813bcf12e1ed54919820b"
   }
  }
 },
 "nbformat": 4,
 "nbformat_minor": 2
}
