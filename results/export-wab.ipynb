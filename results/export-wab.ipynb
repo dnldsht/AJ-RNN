{
 "cells": [
  {
   "cell_type": "code",
   "execution_count": 21,
   "metadata": {},
   "outputs": [],
   "source": [
    "import json\n",
    "import os\n",
    "import collections.abc\n",
    "import csv\n",
    "from tabulate import tabulate\n",
    "\n",
    "def get_metrics(res_dir):\n",
    "  with open(f\"{res_dir}/trainlog.csv\") as f:\n",
    "    reader = csv.reader(f)\n",
    "    keys =next(reader)\n",
    "    metrics = []\n",
    "    \n",
    "    for row in reader:\n",
    "      metrics.append({k:float(v) for k,v in zip(keys, row)})\n",
    "  return metrics\n",
    "\n",
    "def get_accs_at_epoch(m, epoch, test_acc=None):\n",
    "  accs = {}\n",
    "  for k in ['accuracy', 'val_accuracy', 'test_accuracy']:\n",
    "    if k in m:\n",
    "      accs[k] = round(m[k][epoch] * 100, 1)\n",
    "  if test_acc is not None and 'test_accuracy' not in accs:\n",
    "    accs['test_accuracy'] = round(test_acc * 100, 1)\n",
    "  \n",
    "  return accs\n",
    "\n",
    "def get_results(week):\n",
    "  results = []\n",
    "  for name in os.listdir(f\"{week}\"):\n",
    "    if name.startswith(\"-\"):\n",
    "      continue\n",
    "    for seed in os.listdir(f\"{week}/{name}\"):\n",
    "      if seed.startswith(\"-\"):\n",
    "        continue\n",
    "      item = {\n",
    "        \"name\": name,\n",
    "        'week': week,\n",
    "        'seed': seed[4:]\n",
    "      }\n",
    "\n",
    "      \n",
    "      if os.path.exists(f\"{week}/{name}/{seed}/config.json\"):\n",
    "        with open(f\"{week}/{name}/{seed}/config.json\") as f:\n",
    "          config = json.load(f)\n",
    "\n",
    "        item.update(config)\n",
    "        \n",
    "      \n",
    "      if os.path.exists(f\"{week}/{name}/{seed}/overview.json\"):\n",
    "        with open(f\"{week}/{name}/{seed}/overview.json\") as f:\n",
    "          overview = json.load(f)\n",
    "        \n",
    "        test_accuracy = overview.get(\"test_accuracy\", None)\n",
    "        if isinstance(test_accuracy, collections.abc.Sequence):\n",
    "          test_accuracy = test_accuracy[0]\n",
    "\n",
    "        item.update({\"test_accuracy\": test_accuracy, 'train_time': round(overview.get(\"train_time\", 0) / (60*60), 2)})\n",
    "      \n",
    "      if os.path.exists(f\"{week}/{name}/{seed}/trainlog.csv\"):\n",
    "        train_log = get_metrics(f\"{week}/{name}/{seed}\")\n",
    "        max_val = train_log['val_accuracy'].index(max(train_log['val_accuracy']))\n",
    "        accs = get_accs_at_epoch(train_log, max_val, item.get('test_accuracy', None))\n",
    "        item.update(accs)\n",
    "        item.update({\"best_val_epoch\": max_val + 1})\n",
    "      else: \n",
    "        continue\n",
    "\n",
    "      results.append(item)\n",
    "  return results\n",
    "\n",
    "def print_table(data, keys):\n",
    "  data = [[r.get(k, '') for k in keys] for r in data]\n",
    "  print(tabulate(data, headers=keys))\n",
    "\n",
    "keys = ['name', 'week', 'seed', 'accuracy', 'val_accuracy',  'test_accuracy', 'best_val_epoch', 'G_epoch', 'hidden_size', 'batch_size', 'learning_rate', 'dropout', 'train_time',]\n",
    "\n",
    "def print_week(week):\n",
    "  results = get_results(week)\n",
    "  print_table(results, keys)\n",
    "\n",
    "all_keys = ['name', 'runs', 'accuracy', 'val_accuracy',  'test_accuracy', 'best_val_epoch', 'G_epoch', 'hidden_size', 'batch_size', 'learning_rate', 'dropout', 'train_time',]\n",
    "average_keys = ['accuracy', 'val_accuracy',  'test_accuracy', 'best_val_epoch']\n",
    "sum_keys = ['train_time']\n",
    "\n",
    "def print_week_average(week):\n",
    "  results = get_results(week)\n",
    "  names = set([r['name'] for r in results])\n",
    "  aggregates = []\n",
    "  for name in names:\n",
    "      seeds = [r for r in results if r['name'] == name]\n",
    "      item = seeds[0]\n",
    "      item['runs'] = len(seeds)\n",
    "      for k in average_keys:\n",
    "        vals = [s[k] for s in seeds if k in s]\n",
    "        if(len(vals) > 0):\n",
    "          item[k] = round(sum([r for r in vals]) / len(vals),1)\n",
    "      for k in sum_keys:\n",
    "        vals = [s[k] for s in seeds if k in s]\n",
    "        if(len(vals) > 0):\n",
    "          item[k] = round(sum([r for r in vals]),1)\n",
    "          \n",
    "      aggregates.append(item)\n",
    "  print_table(aggregates, all_keys)"
   ]
  },
  {
   "cell_type": "code",
   "execution_count": 22,
   "metadata": {},
   "outputs": [],
   "source": [
    "import wandb"
   ]
  },
  {
   "cell_type": "code",
   "execution_count": 29,
   "metadata": {},
   "outputs": [],
   "source": [
    "def import_wandb(dir):\n",
    "  if os.path.exists(f\"{dir}/config.json\"):\n",
    "    with open(f\"{dir}/config.json\") as f:\n",
    "      config = json.load(f)\n",
    "      #print(config)\n",
    "        \n",
    "      if os.path.exists(f\"{dir}/overview.json\"):\n",
    "        with open(f\"{dir}/overview.json\") as f:\n",
    "          overview = json.load(f)\n",
    "        \n",
    "        test_accuracy = overview.get(\"test_accuracy\", None)\n",
    "        if isinstance(test_accuracy, collections.abc.Sequence):\n",
    "          overview['test_accuracy'] = test_accuracy[0]\n",
    "      else:\n",
    "        print(\"no overview\",dir)\n",
    "        return\n",
    "\n",
    "      \n",
    "      if os.path.exists(f\"{dir}/trainlog.csv\"):\n",
    "        train_log = get_metrics(f\"{dir}\")\n",
    "        \n",
    "        light_ajrnn = config.get('light_ajrnn', False)\n",
    "\n",
    "        wandb.init(\n",
    "          project=\"light-ajrnn\" if light_ajrnn else \"ajrnn\",\n",
    "          config=config,\n",
    "        )\n",
    "        for l in train_log:\n",
    "          \n",
    "          wandb.log({ f\"epoch/{k}\":l[k] for k in l})\n",
    "        \n",
    "        overview_keys = ['test_accuracy', 'train_time', 'test_time', 'best_val_epoch']\n",
    "        overview = {k: overview[k] for k in overview_keys if k in overview}\n",
    "        wandb.log(overview)\n",
    "        wandb.finish()"
   ]
  },
  {
   "cell_type": "code",
   "execution_count": 30,
   "metadata": {},
   "outputs": [
    {
     "data": {
      "text/html": [
       "Tracking run with wandb version 0.13.7"
      ],
      "text/plain": [
       "<IPython.core.display.HTML object>"
      ]
     },
     "metadata": {},
     "output_type": "display_data"
    },
    {
     "data": {
      "text/html": [
       "Run data is saved locally in <code>/Users/donald/personal/AJ-RNN/results/wandb/run-20221226_103050-1lmu94fm</code>"
      ],
      "text/plain": [
       "<IPython.core.display.HTML object>"
      ]
     },
     "metadata": {},
     "output_type": "display_data"
    },
    {
     "data": {
      "text/html": [
       "Syncing run <strong><a href=\"https://wandb.ai/barbanish/light-ajrnn/runs/1lmu94fm\" target=\"_blank\">earnest-pyramid-2</a></strong> to <a href=\"https://wandb.ai/barbanish/light-ajrnn\" target=\"_blank\">Weights & Biases</a> (<a href=\"https://wandb.me/run\" target=\"_blank\">docs</a>)<br/>"
      ],
      "text/plain": [
       "<IPython.core.display.HTML object>"
      ]
     },
     "metadata": {},
     "output_type": "display_data"
    },
    {
     "data": {
      "text/html": [
       "Waiting for W&B process to finish... <strong style=\"color:green\">(success).</strong>"
      ],
      "text/plain": [
       "<IPython.core.display.HTML object>"
      ]
     },
     "metadata": {},
     "output_type": "display_data"
    },
    {
     "data": {
      "text/html": [
       "<style>\n",
       "    table.wandb td:nth-child(1) { padding: 0 10px; text-align: left ; width: auto;} td:nth-child(2) {text-align: left ; width: 100%}\n",
       "    .wandb-row { display: flex; flex-direction: row; flex-wrap: wrap; justify-content: flex-start; width: 100% }\n",
       "    .wandb-col { display: flex; flex-direction: column; flex-basis: 100%; flex: 1; padding: 10px; }\n",
       "    </style>\n",
       "<div class=\"wandb-row\"><div class=\"wandb-col\"><h3>Run history:</h3><br/><table class=\"wandb\"><tr><td>best_val_epoch</td><td>▁</td></tr><tr><td>epoch/accuracy</td><td>▁▆▆▇▇▇▇▇▇▇▇▇▇▇▇▇▇███████████████████████</td></tr><tr><td>epoch/c_loss</td><td>█▄▃▃▂▂▂▂▂▂▂▂▂▂▂▂▂▂▂▁▁▁▁▁▁▁▁▁▁▁▁▁▁▁▁▁▁▁▁▁</td></tr><tr><td>epoch/epoch</td><td>▁▁▁▂▂▂▂▂▂▃▃▃▃▃▄▄▄▄▄▄▅▅▅▅▅▅▆▆▆▆▆▇▇▇▇▇▇███</td></tr><tr><td>epoch/reg_loss</td><td>▁▁▂▂▂▂▃▃▃▃▃▃▄▄▄▄▄▄▄▅▅▅▅▅▅▆▆▆▆▆▆▇▇▇▇▇▇███</td></tr><tr><td>epoch/total_g_loss</td><td>▄▁▁▁▁▁▂▂▂▂▂▂▃▃▃▃▃▄▄▄▄▄▄▅▅▅▅▅▆▆▆▆▆▇▇▇▇███</td></tr><tr><td>epoch/val_accuracy</td><td>▁▄▅▅▅▅▆▆▆▆▆▇▇▇▇▇▇▇▇▇▇▇▇▇████████████████</td></tr><tr><td>epoch/val_c_loss</td><td>█▃▂▂▂▂▂▂▂▂▂▂▂▂▂▂▂▂▂▂▁▁▁▁▁▁▁▁▁▁▁▁▁▁▁▁▁▁▁▁</td></tr><tr><td>epoch/val_reg_loss</td><td>▁▁▂▂▂▂▃▃▃▃▃▃▄▄▄▄▄▄▄▅▅▅▅▅▅▆▆▆▆▆▆▇▇▇▇▇▇███</td></tr><tr><td>epoch/val_total_g_loss</td><td>▃▁▁▁▁▂▂▂▂▂▃▃▃▃▃▃▄▄▄▄▄▅▅▅▅▅▅▆▆▆▆▆▇▇▇▇▇███</td></tr><tr><td>test_accuracy</td><td>▁</td></tr><tr><td>test_time</td><td>▁</td></tr><tr><td>train_time</td><td>▁</td></tr></table><br/></div><div class=\"wandb-col\"><h3>Run summary:</h3><br/><table class=\"wandb\"><tr><td>best_val_epoch</td><td>999</td></tr><tr><td>epoch/accuracy</td><td>0.83218</td></tr><tr><td>epoch/c_loss</td><td>0.56608</td></tr><tr><td>epoch/epoch</td><td>999.0</td></tr><tr><td>epoch/reg_loss</td><td>0.78145</td></tr><tr><td>epoch/total_g_loss</td><td>1.34753</td></tr><tr><td>epoch/val_accuracy</td><td>0.81491</td></tr><tr><td>epoch/val_c_loss</td><td>0.60355</td></tr><tr><td>epoch/val_reg_loss</td><td>0.78235</td></tr><tr><td>epoch/val_total_g_loss</td><td>1.3859</td></tr><tr><td>test_accuracy</td><td>0.79486</td></tr><tr><td>test_time</td><td>4.42</td></tr><tr><td>train_time</td><td>35301.95</td></tr></table><br/></div></div>"
      ],
      "text/plain": [
       "<IPython.core.display.HTML object>"
      ]
     },
     "metadata": {},
     "output_type": "display_data"
    },
    {
     "data": {
      "text/html": [
       "Synced <strong style=\"color:#cdcd00\">earnest-pyramid-2</strong>: <a href=\"https://wandb.ai/barbanish/light-ajrnn/runs/1lmu94fm\" target=\"_blank\">https://wandb.ai/barbanish/light-ajrnn/runs/1lmu94fm</a><br/>Synced 5 W&B file(s), 0 media file(s), 0 artifact file(s) and 0 other file(s)"
      ],
      "text/plain": [
       "<IPython.core.display.HTML object>"
      ]
     },
     "metadata": {},
     "output_type": "display_data"
    },
    {
     "data": {
      "text/html": [
       "Find logs at: <code>./wandb/run-20221226_103050-1lmu94fm/logs</code>"
      ],
      "text/plain": [
       "<IPython.core.display.HTML object>"
      ]
     },
     "metadata": {},
     "output_type": "display_data"
    }
   ],
   "source": [
    "import_wandb(\"week50/G-LIGHT-GRU128-G1-LR7-B256-REG-DROP/see196\") # imac"
   ]
  },
  {
   "cell_type": "code",
   "execution_count": 33,
   "metadata": {},
   "outputs": [
    {
     "data": {
      "text/html": [
       "Tracking run with wandb version 0.13.7"
      ],
      "text/plain": [
       "<IPython.core.display.HTML object>"
      ]
     },
     "metadata": {},
     "output_type": "display_data"
    },
    {
     "data": {
      "text/html": [
       "Run data is saved locally in <code>/Users/donald/personal/AJ-RNN/results/wandb/run-20221226_103741-1w3334hm</code>"
      ],
      "text/plain": [
       "<IPython.core.display.HTML object>"
      ]
     },
     "metadata": {},
     "output_type": "display_data"
    },
    {
     "data": {
      "text/html": [
       "Syncing run <strong><a href=\"https://wandb.ai/barbanish/light-ajrnn/runs/1w3334hm\" target=\"_blank\">fearless-deluge-33</a></strong> to <a href=\"https://wandb.ai/barbanish/light-ajrnn\" target=\"_blank\">Weights & Biases</a> (<a href=\"https://wandb.me/run\" target=\"_blank\">docs</a>)<br/>"
      ],
      "text/plain": [
       "<IPython.core.display.HTML object>"
      ]
     },
     "metadata": {},
     "output_type": "display_data"
    },
    {
     "data": {
      "text/html": [
       "Waiting for W&B process to finish... <strong style=\"color:green\">(success).</strong>"
      ],
      "text/plain": [
       "<IPython.core.display.HTML object>"
      ]
     },
     "metadata": {},
     "output_type": "display_data"
    },
    {
     "data": {
      "text/html": [
       "<style>\n",
       "    table.wandb td:nth-child(1) { padding: 0 10px; text-align: left ; width: auto;} td:nth-child(2) {text-align: left ; width: 100%}\n",
       "    .wandb-row { display: flex; flex-direction: row; flex-wrap: wrap; justify-content: flex-start; width: 100% }\n",
       "    .wandb-col { display: flex; flex-direction: column; flex-basis: 100%; flex: 1; padding: 10px; }\n",
       "    </style>\n",
       "<div class=\"wandb-row\"><div class=\"wandb-col\"><h3>Run history:</h3><br/><table class=\"wandb\"><tr><td>best_val_epoch</td><td>▁</td></tr><tr><td>epoch/accuracy</td><td>▁▅▆▆▆▇▇▇▇▇▇▇▇▇▇▇▇▇▇▇▇▇▇█████████████████</td></tr><tr><td>epoch/c_loss</td><td>█▄▃▃▃▂▂▂▂▂▂▂▂▂▂▂▂▂▂▂▂▂▁▁▁▁▁▁▁▁▁▁▁▁▁▁▁▁▁▁</td></tr><tr><td>epoch/epoch</td><td>▁▁▁▂▂▂▂▂▂▃▃▃▃▃▄▄▄▄▄▄▅▅▅▅▅▅▆▆▆▆▆▇▇▇▇▇▇███</td></tr><tr><td>epoch/reg_loss</td><td>▁▁▂▂▂▂▂▃▃▃▃▃▃▃▄▄▄▄▄▄▄▅▅▅▅▅▅▆▆▆▆▆▇▇▇▇▇███</td></tr><tr><td>epoch/total_g_loss</td><td>▄▁▁▁▁▁▁▂▂▂▂▂▂▂▃▃▃▃▃▄▄▄▄▄▄▅▅▅▅▆▆▆▆▆▇▇▇▇██</td></tr><tr><td>epoch/val_accuracy</td><td>▁▅▅▆▆▆▇▇▇▇▇▇▇▇▇▇▇▇▇▇▇▇▇█████████████████</td></tr><tr><td>epoch/val_c_loss</td><td>█▄▃▂▂▂▂▂▂▂▂▂▂▂▂▂▂▂▁▁▁▁▁▁▁▁▁▁▁▁▁▁▁▁▁▁▁▁▁▁</td></tr><tr><td>epoch/val_reg_loss</td><td>▁▁▂▂▂▂▂▃▃▃▃▃▃▃▄▄▄▄▄▄▄▅▅▅▅▅▅▆▆▆▆▆▇▇▇▇▇███</td></tr><tr><td>epoch/val_total_g_loss</td><td>▃▁▁▁▁▁▂▂▂▂▂▂▃▃▃▃▃▃▄▄▄▄▄▅▅▅▅▅▆▆▆▆▆▇▇▇▇███</td></tr><tr><td>test_accuracy</td><td>▁</td></tr><tr><td>test_time</td><td>▁</td></tr><tr><td>train_time</td><td>▁</td></tr></table><br/></div><div class=\"wandb-col\"><h3>Run summary:</h3><br/><table class=\"wandb\"><tr><td>best_val_epoch</td><td>998</td></tr><tr><td>epoch/accuracy</td><td>0.82075</td></tr><tr><td>epoch/c_loss</td><td>0.58235</td></tr><tr><td>epoch/epoch</td><td>999.0</td></tr><tr><td>epoch/reg_loss</td><td>0.84736</td></tr><tr><td>epoch/total_g_loss</td><td>1.42971</td></tr><tr><td>epoch/val_accuracy</td><td>0.80737</td></tr><tr><td>epoch/val_c_loss</td><td>0.66175</td></tr><tr><td>epoch/val_reg_loss</td><td>0.8484</td></tr><tr><td>epoch/val_total_g_loss</td><td>1.51016</td></tr><tr><td>test_accuracy</td><td>0.84067</td></tr><tr><td>test_time</td><td>4.14</td></tr><tr><td>train_time</td><td>25738.59</td></tr></table><br/></div></div>"
      ],
      "text/plain": [
       "<IPython.core.display.HTML object>"
      ]
     },
     "metadata": {},
     "output_type": "display_data"
    },
    {
     "data": {
      "text/html": [
       "Synced <strong style=\"color:#cdcd00\">fearless-deluge-33</strong>: <a href=\"https://wandb.ai/barbanish/light-ajrnn/runs/1w3334hm\" target=\"_blank\">https://wandb.ai/barbanish/light-ajrnn/runs/1w3334hm</a><br/>Synced 5 W&B file(s), 0 media file(s), 0 artifact file(s) and 0 other file(s)"
      ],
      "text/plain": [
       "<IPython.core.display.HTML object>"
      ]
     },
     "metadata": {},
     "output_type": "display_data"
    },
    {
     "data": {
      "text/html": [
       "Find logs at: <code>./wandb/run-20221226_103741-1w3334hm/logs</code>"
      ],
      "text/plain": [
       "<IPython.core.display.HTML object>"
      ]
     },
     "metadata": {},
     "output_type": "display_data"
    },
    {
     "data": {
      "application/vnd.jupyter.widget-view+json": {
       "model_id": "00791d5d3b404ccea1dbffd7a3ef170c",
       "version_major": 2,
       "version_minor": 0
      },
      "text/plain": [
       "VBox(children=(Label(value='Waiting for wandb.init()...\\r'), FloatProgress(value=0.016751371525848904, max=1.0…"
      ]
     },
     "metadata": {},
     "output_type": "display_data"
    },
    {
     "data": {
      "text/html": [
       "Tracking run with wandb version 0.13.7"
      ],
      "text/plain": [
       "<IPython.core.display.HTML object>"
      ]
     },
     "metadata": {},
     "output_type": "display_data"
    },
    {
     "data": {
      "text/html": [
       "Run data is saved locally in <code>/Users/donald/personal/AJ-RNN/results/wandb/run-20221226_103750-zvzh8797</code>"
      ],
      "text/plain": [
       "<IPython.core.display.HTML object>"
      ]
     },
     "metadata": {},
     "output_type": "display_data"
    },
    {
     "data": {
      "text/html": [
       "Syncing run <strong><a href=\"https://wandb.ai/barbanish/light-ajrnn/runs/zvzh8797\" target=\"_blank\">dainty-rain-34</a></strong> to <a href=\"https://wandb.ai/barbanish/light-ajrnn\" target=\"_blank\">Weights & Biases</a> (<a href=\"https://wandb.me/run\" target=\"_blank\">docs</a>)<br/>"
      ],
      "text/plain": [
       "<IPython.core.display.HTML object>"
      ]
     },
     "metadata": {},
     "output_type": "display_data"
    },
    {
     "data": {
      "text/html": [
       "Waiting for W&B process to finish... <strong style=\"color:green\">(success).</strong>"
      ],
      "text/plain": [
       "<IPython.core.display.HTML object>"
      ]
     },
     "metadata": {},
     "output_type": "display_data"
    },
    {
     "data": {
      "text/html": [
       "<style>\n",
       "    table.wandb td:nth-child(1) { padding: 0 10px; text-align: left ; width: auto;} td:nth-child(2) {text-align: left ; width: 100%}\n",
       "    .wandb-row { display: flex; flex-direction: row; flex-wrap: wrap; justify-content: flex-start; width: 100% }\n",
       "    .wandb-col { display: flex; flex-direction: column; flex-basis: 100%; flex: 1; padding: 10px; }\n",
       "    </style>\n",
       "<div class=\"wandb-row\"><div class=\"wandb-col\"><h3>Run history:</h3><br/><table class=\"wandb\"><tr><td>best_val_epoch</td><td>▁</td></tr><tr><td>epoch/accuracy</td><td>▁▅▆▇▇▇▇▇▇▇▇▇▇▇▇█████████████████████████</td></tr><tr><td>epoch/c_loss</td><td>█▄▃▃▂▂▂▂▂▂▂▂▂▂▂▂▂▂▁▁▁▁▁▁▁▁▁▁▁▁▁▁▁▁▁▁▁▁▁▁</td></tr><tr><td>epoch/epoch</td><td>▁▁▁▂▂▂▂▂▂▃▃▃▃▃▄▄▄▄▄▄▅▅▅▅▅▅▆▆▆▆▆▇▇▇▇▇▇███</td></tr><tr><td>epoch/reg_loss</td><td>▁▁▂▂▂▂▃▃▃▃▃▄▄▄▄▄▄▅▅▅▅▅▅▅▆▆▆▆▆▆▇▇▇▇▇▇████</td></tr><tr><td>epoch/total_g_loss</td><td>▄▁▁▁▁▁▂▂▂▂▂▃▃▃▃▃▄▄▄▄▄▄▅▅▅▅▅▆▆▆▆▆▇▇▇▇▇███</td></tr><tr><td>epoch/val_accuracy</td><td>▁▄▅▅▅▆▆▆▆▆▆▇▇▇▇▇▇▇▇▇▇▇▇▇████████████████</td></tr><tr><td>epoch/val_c_loss</td><td>█▄▂▂▂▂▂▂▂▂▂▂▂▂▂▁▁▁▁▁▁▁▁▁▁▁▁▁▁▁▁▁▁▁▁▁▁▁▁▁</td></tr><tr><td>epoch/val_reg_loss</td><td>▁▁▂▂▂▂▃▃▃▃▃▄▄▄▄▄▄▅▅▅▅▅▅▅▆▆▆▆▆▆▇▇▇▇▇▇████</td></tr><tr><td>epoch/val_total_g_loss</td><td>▃▁▁▁▁▂▂▂▂▃▃▃▃▃▃▄▄▄▄▄▅▅▅▅▅▅▆▆▆▆▆▆▇▇▇▇▇███</td></tr><tr><td>test_accuracy</td><td>▁</td></tr><tr><td>test_time</td><td>▁</td></tr><tr><td>train_time</td><td>▁</td></tr></table><br/></div><div class=\"wandb-col\"><h3>Run summary:</h3><br/><table class=\"wandb\"><tr><td>best_val_epoch</td><td>998</td></tr><tr><td>epoch/accuracy</td><td>0.83067</td></tr><tr><td>epoch/c_loss</td><td>0.56862</td></tr><tr><td>epoch/epoch</td><td>999.0</td></tr><tr><td>epoch/reg_loss</td><td>0.8005</td></tr><tr><td>epoch/total_g_loss</td><td>1.36912</td></tr><tr><td>epoch/val_accuracy</td><td>0.81613</td></tr><tr><td>epoch/val_c_loss</td><td>0.61138</td></tr><tr><td>epoch/val_reg_loss</td><td>0.80167</td></tr><tr><td>epoch/val_total_g_loss</td><td>1.41305</td></tr><tr><td>test_accuracy</td><td>0.7937</td></tr><tr><td>test_time</td><td>2.78</td></tr><tr><td>train_time</td><td>27339.0</td></tr></table><br/></div></div>"
      ],
      "text/plain": [
       "<IPython.core.display.HTML object>"
      ]
     },
     "metadata": {},
     "output_type": "display_data"
    },
    {
     "data": {
      "text/html": [
       "Synced <strong style=\"color:#cdcd00\">dainty-rain-34</strong>: <a href=\"https://wandb.ai/barbanish/light-ajrnn/runs/zvzh8797\" target=\"_blank\">https://wandb.ai/barbanish/light-ajrnn/runs/zvzh8797</a><br/>Synced 5 W&B file(s), 0 media file(s), 0 artifact file(s) and 0 other file(s)"
      ],
      "text/plain": [
       "<IPython.core.display.HTML object>"
      ]
     },
     "metadata": {},
     "output_type": "display_data"
    },
    {
     "data": {
      "text/html": [
       "Find logs at: <code>./wandb/run-20221226_103750-zvzh8797/logs</code>"
      ],
      "text/plain": [
       "<IPython.core.display.HTML object>"
      ]
     },
     "metadata": {},
     "output_type": "display_data"
    },
    {
     "data": {
      "application/vnd.jupyter.widget-view+json": {
       "model_id": "c0400b57cd274cf9bf072570f05c79dd",
       "version_major": 2,
       "version_minor": 0
      },
      "text/plain": [
       "VBox(children=(Label(value='Waiting for wandb.init()...\\r'), FloatProgress(value=0.016752023606871565, max=1.0…"
      ]
     },
     "metadata": {},
     "output_type": "display_data"
    },
    {
     "data": {
      "text/html": [
       "Tracking run with wandb version 0.13.7"
      ],
      "text/plain": [
       "<IPython.core.display.HTML object>"
      ]
     },
     "metadata": {},
     "output_type": "display_data"
    },
    {
     "data": {
      "text/html": [
       "Run data is saved locally in <code>/Users/donald/personal/AJ-RNN/results/wandb/run-20221226_103759-3syvfiyi</code>"
      ],
      "text/plain": [
       "<IPython.core.display.HTML object>"
      ]
     },
     "metadata": {},
     "output_type": "display_data"
    },
    {
     "data": {
      "text/html": [
       "Syncing run <strong><a href=\"https://wandb.ai/barbanish/light-ajrnn/runs/3syvfiyi\" target=\"_blank\">dashing-galaxy-35</a></strong> to <a href=\"https://wandb.ai/barbanish/light-ajrnn\" target=\"_blank\">Weights & Biases</a> (<a href=\"https://wandb.me/run\" target=\"_blank\">docs</a>)<br/>"
      ],
      "text/plain": [
       "<IPython.core.display.HTML object>"
      ]
     },
     "metadata": {},
     "output_type": "display_data"
    },
    {
     "data": {
      "text/html": [
       "Waiting for W&B process to finish... <strong style=\"color:green\">(success).</strong>"
      ],
      "text/plain": [
       "<IPython.core.display.HTML object>"
      ]
     },
     "metadata": {},
     "output_type": "display_data"
    },
    {
     "data": {
      "text/html": [
       "<style>\n",
       "    table.wandb td:nth-child(1) { padding: 0 10px; text-align: left ; width: auto;} td:nth-child(2) {text-align: left ; width: 100%}\n",
       "    .wandb-row { display: flex; flex-direction: row; flex-wrap: wrap; justify-content: flex-start; width: 100% }\n",
       "    .wandb-col { display: flex; flex-direction: column; flex-basis: 100%; flex: 1; padding: 10px; }\n",
       "    </style>\n",
       "<div class=\"wandb-row\"><div class=\"wandb-col\"><h3>Run history:</h3><br/><table class=\"wandb\"><tr><td>best_val_epoch</td><td>▁</td></tr><tr><td>epoch/accuracy</td><td>▁▂▃▃▄▄▄▅▅▅▅▅▆▆▆▆▆▆▆▆▇▇▇▇▇▇▇▇▇▇▇▇████████</td></tr><tr><td>epoch/c_loss</td><td>█▅▄▄▄▃▃▃▃▃▃▂▂▂▂▂▂▂▂▂▂▂▂▂▂▁▁▁▁▁▁▁▁▁▁▁▁▁▁▁</td></tr><tr><td>epoch/epoch</td><td>▁▁▁▂▂▂▂▂▂▃▃▃▃▃▄▄▄▄▄▄▅▅▅▅▅▅▆▆▆▆▆▇▇▇▇▇▇███</td></tr><tr><td>epoch/reg_loss</td><td>▁▁▁▁▁▁▁▁▁▁▂▂▂▂▂▂▂▂▃▃▃▃▃▃▄▄▄▄▅▅▅▅▆▆▆▇▇▇██</td></tr><tr><td>epoch/total_g_loss</td><td>▁▁▁▁▁▁▁▁▁▁▂▂▂▂▂▂▂▂▃▃▃▃▃▃▄▄▄▄▅▅▅▅▆▆▆▇▇▇██</td></tr><tr><td>epoch/val_accuracy</td><td>▁▃▄▄▅▅▅▆▆▆▆▆▆▇▇▇▇▇▇▇▇▇▇▇▇▇▇▇████████████</td></tr><tr><td>epoch/val_c_loss</td><td>█▆▆▆▅▅▅▄▄▄▄▄▃▃▃▃▃▃▃▂▂▂▂▂▂▂▂▂▂▂▂▁▁▁▁▁▁▁▁▁</td></tr><tr><td>epoch/val_reg_loss</td><td>▁▁▁▁▁▁▁▁▁▁▂▂▂▂▂▂▂▂▃▃▃▃▃▃▄▄▄▄▅▅▅▅▆▆▆▇▇▇██</td></tr><tr><td>epoch/val_total_g_loss</td><td>▁▁▁▁▁▁▁▁▁▁▁▂▂▂▂▂▂▂▃▃▃▃▃▃▄▄▄▄▅▅▅▅▆▆▆▇▇▇██</td></tr><tr><td>test_accuracy</td><td>▁</td></tr><tr><td>test_time</td><td>▁</td></tr><tr><td>train_time</td><td>▁</td></tr></table><br/></div><div class=\"wandb-col\"><h3>Run summary:</h3><br/><table class=\"wandb\"><tr><td>best_val_epoch</td><td>1000</td></tr><tr><td>epoch/accuracy</td><td>0.88141</td></tr><tr><td>epoch/c_loss</td><td>0.36866</td></tr><tr><td>epoch/epoch</td><td>999.0</td></tr><tr><td>epoch/reg_loss</td><td>27.04397</td></tr><tr><td>epoch/total_g_loss</td><td>27.41272</td></tr><tr><td>epoch/val_accuracy</td><td>0.4192</td></tr><tr><td>epoch/val_c_loss</td><td>1.33162</td></tr><tr><td>epoch/val_reg_loss</td><td>27.10095</td></tr><tr><td>epoch/val_total_g_loss</td><td>28.43242</td></tr><tr><td>test_accuracy</td><td>0.44295</td></tr><tr><td>test_time</td><td>4.75</td></tr><tr><td>train_time</td><td>49417.97</td></tr></table><br/></div></div>"
      ],
      "text/plain": [
       "<IPython.core.display.HTML object>"
      ]
     },
     "metadata": {},
     "output_type": "display_data"
    },
    {
     "data": {
      "text/html": [
       "Synced <strong style=\"color:#cdcd00\">dashing-galaxy-35</strong>: <a href=\"https://wandb.ai/barbanish/light-ajrnn/runs/3syvfiyi\" target=\"_blank\">https://wandb.ai/barbanish/light-ajrnn/runs/3syvfiyi</a><br/>Synced 5 W&B file(s), 0 media file(s), 0 artifact file(s) and 0 other file(s)"
      ],
      "text/plain": [
       "<IPython.core.display.HTML object>"
      ]
     },
     "metadata": {},
     "output_type": "display_data"
    },
    {
     "data": {
      "text/html": [
       "Find logs at: <code>./wandb/run-20221226_103759-3syvfiyi/logs</code>"
      ],
      "text/plain": [
       "<IPython.core.display.HTML object>"
      ]
     },
     "metadata": {},
     "output_type": "display_data"
    },
    {
     "data": {
      "application/vnd.jupyter.widget-view+json": {
       "model_id": "a601c246eaea4d9a90496c8f2c67611d",
       "version_major": 2,
       "version_minor": 0
      },
      "text/plain": [
       "VBox(children=(Label(value='Waiting for wandb.init()...\\r'), FloatProgress(value=0.01675174096599221, max=1.0)…"
      ]
     },
     "metadata": {},
     "output_type": "display_data"
    },
    {
     "data": {
      "text/html": [
       "Tracking run with wandb version 0.13.7"
      ],
      "text/plain": [
       "<IPython.core.display.HTML object>"
      ]
     },
     "metadata": {},
     "output_type": "display_data"
    },
    {
     "data": {
      "text/html": [
       "Run data is saved locally in <code>/Users/donald/personal/AJ-RNN/results/wandb/run-20221226_103809-3iy3d3b8</code>"
      ],
      "text/plain": [
       "<IPython.core.display.HTML object>"
      ]
     },
     "metadata": {},
     "output_type": "display_data"
    },
    {
     "data": {
      "text/html": [
       "Syncing run <strong><a href=\"https://wandb.ai/barbanish/light-ajrnn/runs/3iy3d3b8\" target=\"_blank\">splendid-universe-36</a></strong> to <a href=\"https://wandb.ai/barbanish/light-ajrnn\" target=\"_blank\">Weights & Biases</a> (<a href=\"https://wandb.me/run\" target=\"_blank\">docs</a>)<br/>"
      ],
      "text/plain": [
       "<IPython.core.display.HTML object>"
      ]
     },
     "metadata": {},
     "output_type": "display_data"
    },
    {
     "data": {
      "text/html": [
       "Waiting for W&B process to finish... <strong style=\"color:green\">(success).</strong>"
      ],
      "text/plain": [
       "<IPython.core.display.HTML object>"
      ]
     },
     "metadata": {},
     "output_type": "display_data"
    },
    {
     "data": {
      "text/html": [
       "<style>\n",
       "    table.wandb td:nth-child(1) { padding: 0 10px; text-align: left ; width: auto;} td:nth-child(2) {text-align: left ; width: 100%}\n",
       "    .wandb-row { display: flex; flex-direction: row; flex-wrap: wrap; justify-content: flex-start; width: 100% }\n",
       "    .wandb-col { display: flex; flex-direction: column; flex-basis: 100%; flex: 1; padding: 10px; }\n",
       "    </style>\n",
       "<div class=\"wandb-row\"><div class=\"wandb-col\"><h3>Run history:</h3><br/><table class=\"wandb\"><tr><td>best_val_epoch</td><td>▁</td></tr><tr><td>epoch/accuracy</td><td>▁▃▃▃▄▄▅▅▅▅▅▆▆▆▆▆▆▇▇▇▇▇▇▇▇▇▇▇▇███████████</td></tr><tr><td>epoch/c_loss</td><td>█▆▅▅▄▄▄▄▃▃▃▃▃▃▃▂▂▂▂▂▂▂▂▂▂▂▂▂▁▁▁▁▁▁▁▁▁▁▁▁</td></tr><tr><td>epoch/epoch</td><td>▁▁▁▂▂▂▂▂▂▃▃▃▃▃▄▄▄▄▄▄▅▅▅▅▅▅▆▆▆▆▆▇▇▇▇▇▇███</td></tr><tr><td>epoch/reg_loss</td><td>▁▁▁▁▁▁▁▁▁▁▂▂▂▂▂▂▂▂▃▃▃▃▃▄▄▄▄▄▅▅▅▅▆▆▆▇▇▇██</td></tr><tr><td>epoch/total_g_loss</td><td>▁▁▁▁▁▁▁▁▁▁▂▂▂▂▂▂▂▂▃▃▃▃▃▄▄▄▄▄▅▅▅▅▆▆▆▇▇▇██</td></tr><tr><td>epoch/val_accuracy</td><td>▁▅▆▆▆▆▆▆▆▆▆▆▇▇▇▇▇▇▇▇▇▇▇▇▇▇▇▇▇███████████</td></tr><tr><td>epoch/val_c_loss</td><td>█▅▄▄▄▃▃▃▃▃▃▃▃▂▂▂▂▂▂▂▂▂▂▂▂▂▂▂▁▁▁▁▁▁▁▁▁▁▁▁</td></tr><tr><td>epoch/val_reg_loss</td><td>▁▁▁▁▁▁▁▁▁▁▂▂▂▂▂▂▂▂▃▃▃▃▃▄▄▄▄▄▅▅▅▅▆▆▆▇▇▇██</td></tr><tr><td>epoch/val_total_g_loss</td><td>▁▁▁▁▁▁▁▁▁▁▁▂▂▂▂▂▂▂▃▃▃▃▃▃▄▄▄▄▅▅▅▅▆▆▆▇▇▇██</td></tr><tr><td>test_accuracy</td><td>▁</td></tr><tr><td>test_time</td><td>▁</td></tr><tr><td>train_time</td><td>▁</td></tr></table><br/></div><div class=\"wandb-col\"><h3>Run summary:</h3><br/><table class=\"wandb\"><tr><td>best_val_epoch</td><td>1000</td></tr><tr><td>epoch/accuracy</td><td>0.88244</td></tr><tr><td>epoch/c_loss</td><td>0.38767</td></tr><tr><td>epoch/epoch</td><td>999.0</td></tr><tr><td>epoch/reg_loss</td><td>20.94354</td></tr><tr><td>epoch/total_g_loss</td><td>21.33127</td></tr><tr><td>epoch/val_accuracy</td><td>0.56066</td></tr><tr><td>epoch/val_c_loss</td><td>1.09943</td></tr><tr><td>epoch/val_reg_loss</td><td>20.98137</td></tr><tr><td>epoch/val_total_g_loss</td><td>22.08069</td></tr><tr><td>test_accuracy</td><td>0.60354</td></tr><tr><td>test_time</td><td>4.97</td></tr><tr><td>train_time</td><td>45574.03</td></tr></table><br/></div></div>"
      ],
      "text/plain": [
       "<IPython.core.display.HTML object>"
      ]
     },
     "metadata": {},
     "output_type": "display_data"
    },
    {
     "data": {
      "text/html": [
       "Synced <strong style=\"color:#cdcd00\">splendid-universe-36</strong>: <a href=\"https://wandb.ai/barbanish/light-ajrnn/runs/3iy3d3b8\" target=\"_blank\">https://wandb.ai/barbanish/light-ajrnn/runs/3iy3d3b8</a><br/>Synced 5 W&B file(s), 0 media file(s), 0 artifact file(s) and 0 other file(s)"
      ],
      "text/plain": [
       "<IPython.core.display.HTML object>"
      ]
     },
     "metadata": {},
     "output_type": "display_data"
    },
    {
     "data": {
      "text/html": [
       "Find logs at: <code>./wandb/run-20221226_103809-3iy3d3b8/logs</code>"
      ],
      "text/plain": [
       "<IPython.core.display.HTML object>"
      ]
     },
     "metadata": {},
     "output_type": "display_data"
    },
    {
     "data": {
      "application/vnd.jupyter.widget-view+json": {
       "model_id": "a5add72a91dd4c60819368cdaf4657e0",
       "version_major": 2,
       "version_minor": 0
      },
      "text/plain": [
       "VBox(children=(Label(value='Waiting for wandb.init()...\\r'), FloatProgress(value=0.01673217082861811, max=1.0)…"
      ]
     },
     "metadata": {},
     "output_type": "display_data"
    },
    {
     "data": {
      "text/html": [
       "Tracking run with wandb version 0.13.7"
      ],
      "text/plain": [
       "<IPython.core.display.HTML object>"
      ]
     },
     "metadata": {},
     "output_type": "display_data"
    },
    {
     "data": {
      "text/html": [
       "Run data is saved locally in <code>/Users/donald/personal/AJ-RNN/results/wandb/run-20221226_103820-2p297k47</code>"
      ],
      "text/plain": [
       "<IPython.core.display.HTML object>"
      ]
     },
     "metadata": {},
     "output_type": "display_data"
    },
    {
     "data": {
      "text/html": [
       "Syncing run <strong><a href=\"https://wandb.ai/barbanish/light-ajrnn/runs/2p297k47\" target=\"_blank\">jumping-haze-37</a></strong> to <a href=\"https://wandb.ai/barbanish/light-ajrnn\" target=\"_blank\">Weights & Biases</a> (<a href=\"https://wandb.me/run\" target=\"_blank\">docs</a>)<br/>"
      ],
      "text/plain": [
       "<IPython.core.display.HTML object>"
      ]
     },
     "metadata": {},
     "output_type": "display_data"
    },
    {
     "data": {
      "text/html": [
       "Waiting for W&B process to finish... <strong style=\"color:green\">(success).</strong>"
      ],
      "text/plain": [
       "<IPython.core.display.HTML object>"
      ]
     },
     "metadata": {},
     "output_type": "display_data"
    },
    {
     "data": {
      "text/html": [
       "<style>\n",
       "    table.wandb td:nth-child(1) { padding: 0 10px; text-align: left ; width: auto;} td:nth-child(2) {text-align: left ; width: 100%}\n",
       "    .wandb-row { display: flex; flex-direction: row; flex-wrap: wrap; justify-content: flex-start; width: 100% }\n",
       "    .wandb-col { display: flex; flex-direction: column; flex-basis: 100%; flex: 1; padding: 10px; }\n",
       "    </style>\n",
       "<div class=\"wandb-row\"><div class=\"wandb-col\"><h3>Run history:</h3><br/><table class=\"wandb\"><tr><td>best_val_epoch</td><td>▁</td></tr><tr><td>epoch/accuracy</td><td>▁▅▆▆▆▇▇▇▇▇▇▇▇▇▇▇▇▇▇▇▇███████████████████</td></tr><tr><td>epoch/c_loss</td><td>█▄▃▃▂▂▂▂▂▂▂▂▂▂▂▂▂▂▂▁▁▁▁▁▁▁▁▁▁▁▁▁▁▁▁▁▁▁▁▁</td></tr><tr><td>epoch/epoch</td><td>▁▁▁▂▂▂▂▂▂▃▃▃▃▃▄▄▄▄▄▄▅▅▅▅▅▅▆▆▆▆▆▇▇▇▇▇▇███</td></tr><tr><td>epoch/reg_loss</td><td>▁▁▂▂▂▂▃▃▃▃▃▃▄▄▄▄▄▄▄▅▅▅▅▅▅▆▆▆▆▆▆▇▇▇▇▇▇███</td></tr><tr><td>epoch/total_g_loss</td><td>▃▁▁▁▁▁▂▂▂▂▂▃▃▃▃▃▃▄▄▄▄▄▄▅▅▅▅▅▆▆▆▆▆▇▇▇▇███</td></tr><tr><td>epoch/val_accuracy</td><td>▁▅▆▆▇▇▇▇▇▇▇▇▇▇▇▇▇▇██████████████████████</td></tr><tr><td>epoch/val_c_loss</td><td>█▄▃▂▂▂▂▂▂▂▂▂▂▂▂▂▁▁▁▁▁▁▁▁▁▁▁▁▁▁▁▁▁▁▁▁▁▁▁▁</td></tr><tr><td>epoch/val_reg_loss</td><td>▁▁▂▂▂▂▃▃▃▃▃▃▄▄▄▄▄▄▄▅▅▅▅▅▅▆▆▆▆▆▆▇▇▇▇▇▇███</td></tr><tr><td>epoch/val_total_g_loss</td><td>▃▁▁▁▁▂▂▂▂▂▃▃▃▃▃▃▄▄▄▄▄▄▅▅▅▅▅▅▆▆▆▆▆▇▇▇▇███</td></tr><tr><td>test_accuracy</td><td>▁</td></tr><tr><td>test_time</td><td>▁</td></tr><tr><td>train_time</td><td>▁</td></tr></table><br/></div><div class=\"wandb-col\"><h3>Run summary:</h3><br/><table class=\"wandb\"><tr><td>best_val_epoch</td><td>1000</td></tr><tr><td>epoch/accuracy</td><td>0.82216</td></tr><tr><td>epoch/c_loss</td><td>0.58009</td></tr><tr><td>epoch/epoch</td><td>999.0</td></tr><tr><td>epoch/reg_loss</td><td>1.12658</td></tr><tr><td>epoch/total_g_loss</td><td>1.70666</td></tr><tr><td>epoch/val_accuracy</td><td>0.80769</td></tr><tr><td>epoch/val_c_loss</td><td>0.66205</td></tr><tr><td>epoch/val_reg_loss</td><td>1.12801</td></tr><tr><td>epoch/val_total_g_loss</td><td>1.79006</td></tr><tr><td>test_accuracy</td><td>0.84024</td></tr><tr><td>test_time</td><td>3.74</td></tr><tr><td>train_time</td><td>28484.33</td></tr></table><br/></div></div>"
      ],
      "text/plain": [
       "<IPython.core.display.HTML object>"
      ]
     },
     "metadata": {},
     "output_type": "display_data"
    },
    {
     "data": {
      "text/html": [
       "Synced <strong style=\"color:#cdcd00\">jumping-haze-37</strong>: <a href=\"https://wandb.ai/barbanish/light-ajrnn/runs/2p297k47\" target=\"_blank\">https://wandb.ai/barbanish/light-ajrnn/runs/2p297k47</a><br/>Synced 5 W&B file(s), 0 media file(s), 0 artifact file(s) and 0 other file(s)"
      ],
      "text/plain": [
       "<IPython.core.display.HTML object>"
      ]
     },
     "metadata": {},
     "output_type": "display_data"
    },
    {
     "data": {
      "text/html": [
       "Find logs at: <code>./wandb/run-20221226_103820-2p297k47/logs</code>"
      ],
      "text/plain": [
       "<IPython.core.display.HTML object>"
      ]
     },
     "metadata": {},
     "output_type": "display_data"
    },
    {
     "data": {
      "application/vnd.jupyter.widget-view+json": {
       "model_id": "73771b7a5874424abb480455d0aa7a22",
       "version_major": 2,
       "version_minor": 0
      },
      "text/plain": [
       "VBox(children=(Label(value='Waiting for wandb.init()...\\r'), FloatProgress(value=0.016736365986677507, max=1.0…"
      ]
     },
     "metadata": {},
     "output_type": "display_data"
    },
    {
     "data": {
      "text/html": [
       "Tracking run with wandb version 0.13.7"
      ],
      "text/plain": [
       "<IPython.core.display.HTML object>"
      ]
     },
     "metadata": {},
     "output_type": "display_data"
    },
    {
     "data": {
      "text/html": [
       "Run data is saved locally in <code>/Users/donald/personal/AJ-RNN/results/wandb/run-20221226_103834-1fpezi8o</code>"
      ],
      "text/plain": [
       "<IPython.core.display.HTML object>"
      ]
     },
     "metadata": {},
     "output_type": "display_data"
    },
    {
     "data": {
      "text/html": [
       "Syncing run <strong><a href=\"https://wandb.ai/barbanish/light-ajrnn/runs/1fpezi8o\" target=\"_blank\">wandering-sea-38</a></strong> to <a href=\"https://wandb.ai/barbanish/light-ajrnn\" target=\"_blank\">Weights & Biases</a> (<a href=\"https://wandb.me/run\" target=\"_blank\">docs</a>)<br/>"
      ],
      "text/plain": [
       "<IPython.core.display.HTML object>"
      ]
     },
     "metadata": {},
     "output_type": "display_data"
    },
    {
     "data": {
      "text/html": [
       "Waiting for W&B process to finish... <strong style=\"color:green\">(success).</strong>"
      ],
      "text/plain": [
       "<IPython.core.display.HTML object>"
      ]
     },
     "metadata": {},
     "output_type": "display_data"
    },
    {
     "data": {
      "text/html": [
       "<style>\n",
       "    table.wandb td:nth-child(1) { padding: 0 10px; text-align: left ; width: auto;} td:nth-child(2) {text-align: left ; width: 100%}\n",
       "    .wandb-row { display: flex; flex-direction: row; flex-wrap: wrap; justify-content: flex-start; width: 100% }\n",
       "    .wandb-col { display: flex; flex-direction: column; flex-basis: 100%; flex: 1; padding: 10px; }\n",
       "    </style>\n",
       "<div class=\"wandb-row\"><div class=\"wandb-col\"><h3>Run history:</h3><br/><table class=\"wandb\"><tr><td>best_val_epoch</td><td>▁</td></tr><tr><td>epoch/accuracy</td><td>▁▆▆▇▇▇▇▇▇▇▇▇▇▇▇▇▇███████████████████████</td></tr><tr><td>epoch/c_loss</td><td>█▄▃▃▂▂▂▂▂▂▂▂▂▂▂▂▂▂▂▁▁▁▁▁▁▁▁▁▁▁▁▁▁▁▁▁▁▁▁▁</td></tr><tr><td>epoch/epoch</td><td>▁▁▁▂▂▂▂▂▂▃▃▃▃▃▄▄▄▄▄▄▅▅▅▅▅▅▆▆▆▆▆▇▇▇▇▇▇███</td></tr><tr><td>epoch/reg_loss</td><td>▁▁▂▂▂▂▃▃▃▃▃▃▄▄▄▄▄▄▄▅▅▅▅▅▅▆▆▆▆▆▆▇▇▇▇▇▇███</td></tr><tr><td>epoch/total_g_loss</td><td>▄▁▁▁▁▁▂▂▂▂▂▂▃▃▃▃▃▄▄▄▄▄▄▅▅▅▅▅▆▆▆▆▆▇▇▇▇███</td></tr><tr><td>epoch/val_accuracy</td><td>▁▄▅▅▅▅▆▆▆▆▆▇▇▇▇▇▇▇▇▇▇▇▇▇████████████████</td></tr><tr><td>epoch/val_c_loss</td><td>█▃▂▂▂▂▂▂▂▂▂▂▂▂▂▂▂▂▂▂▁▁▁▁▁▁▁▁▁▁▁▁▁▁▁▁▁▁▁▁</td></tr><tr><td>epoch/val_reg_loss</td><td>▁▁▂▂▂▂▃▃▃▃▃▃▄▄▄▄▄▄▄▅▅▅▅▅▅▆▆▆▆▆▆▇▇▇▇▇▇███</td></tr><tr><td>epoch/val_total_g_loss</td><td>▃▁▁▁▁▂▂▂▂▂▃▃▃▃▃▃▄▄▄▄▄▅▅▅▅▅▅▆▆▆▆▆▇▇▇▇▇███</td></tr><tr><td>test_accuracy</td><td>▁</td></tr><tr><td>test_time</td><td>▁</td></tr><tr><td>train_time</td><td>▁</td></tr></table><br/></div><div class=\"wandb-col\"><h3>Run summary:</h3><br/><table class=\"wandb\"><tr><td>best_val_epoch</td><td>999</td></tr><tr><td>epoch/accuracy</td><td>0.83218</td></tr><tr><td>epoch/c_loss</td><td>0.56608</td></tr><tr><td>epoch/epoch</td><td>999.0</td></tr><tr><td>epoch/reg_loss</td><td>0.78145</td></tr><tr><td>epoch/total_g_loss</td><td>1.34753</td></tr><tr><td>epoch/val_accuracy</td><td>0.81491</td></tr><tr><td>epoch/val_c_loss</td><td>0.60355</td></tr><tr><td>epoch/val_reg_loss</td><td>0.78235</td></tr><tr><td>epoch/val_total_g_loss</td><td>1.3859</td></tr><tr><td>test_accuracy</td><td>0.79486</td></tr><tr><td>test_time</td><td>4.42</td></tr><tr><td>train_time</td><td>35301.95</td></tr></table><br/></div></div>"
      ],
      "text/plain": [
       "<IPython.core.display.HTML object>"
      ]
     },
     "metadata": {},
     "output_type": "display_data"
    },
    {
     "data": {
      "text/html": [
       "Synced <strong style=\"color:#cdcd00\">wandering-sea-38</strong>: <a href=\"https://wandb.ai/barbanish/light-ajrnn/runs/1fpezi8o\" target=\"_blank\">https://wandb.ai/barbanish/light-ajrnn/runs/1fpezi8o</a><br/>Synced 5 W&B file(s), 0 media file(s), 0 artifact file(s) and 0 other file(s)"
      ],
      "text/plain": [
       "<IPython.core.display.HTML object>"
      ]
     },
     "metadata": {},
     "output_type": "display_data"
    },
    {
     "data": {
      "text/html": [
       "Find logs at: <code>./wandb/run-20221226_103834-1fpezi8o/logs</code>"
      ],
      "text/plain": [
       "<IPython.core.display.HTML object>"
      ]
     },
     "metadata": {},
     "output_type": "display_data"
    },
    {
     "data": {
      "application/vnd.jupyter.widget-view+json": {
       "model_id": "6b2961ac9b4444ef96979463893de94c",
       "version_major": 2,
       "version_minor": 0
      },
      "text/plain": [
       "VBox(children=(Label(value='Waiting for wandb.init()...\\r'), FloatProgress(value=0.016685163198659817, max=1.0…"
      ]
     },
     "metadata": {},
     "output_type": "display_data"
    },
    {
     "data": {
      "text/html": [
       "Tracking run with wandb version 0.13.7"
      ],
      "text/plain": [
       "<IPython.core.display.HTML object>"
      ]
     },
     "metadata": {},
     "output_type": "display_data"
    },
    {
     "data": {
      "text/html": [
       "Run data is saved locally in <code>/Users/donald/personal/AJ-RNN/results/wandb/run-20221226_103845-1ivxvnlx</code>"
      ],
      "text/plain": [
       "<IPython.core.display.HTML object>"
      ]
     },
     "metadata": {},
     "output_type": "display_data"
    },
    {
     "data": {
      "text/html": [
       "Syncing run <strong><a href=\"https://wandb.ai/barbanish/light-ajrnn/runs/1ivxvnlx\" target=\"_blank\">flowing-oath-39</a></strong> to <a href=\"https://wandb.ai/barbanish/light-ajrnn\" target=\"_blank\">Weights & Biases</a> (<a href=\"https://wandb.me/run\" target=\"_blank\">docs</a>)<br/>"
      ],
      "text/plain": [
       "<IPython.core.display.HTML object>"
      ]
     },
     "metadata": {},
     "output_type": "display_data"
    },
    {
     "data": {
      "text/html": [
       "Waiting for W&B process to finish... <strong style=\"color:green\">(success).</strong>"
      ],
      "text/plain": [
       "<IPython.core.display.HTML object>"
      ]
     },
     "metadata": {},
     "output_type": "display_data"
    },
    {
     "data": {
      "application/vnd.jupyter.widget-view+json": {
       "model_id": "fbe75fe5c1c94cb59579a8a4ebc75bd3",
       "version_major": 2,
       "version_minor": 0
      },
      "text/plain": [
       "VBox(children=(Label(value='0.000 MB of 0.007 MB uploaded (0.000 MB deduped)\\r'), FloatProgress(value=0.0, max…"
      ]
     },
     "metadata": {},
     "output_type": "display_data"
    },
    {
     "data": {
      "text/html": [
       "<style>\n",
       "    table.wandb td:nth-child(1) { padding: 0 10px; text-align: left ; width: auto;} td:nth-child(2) {text-align: left ; width: 100%}\n",
       "    .wandb-row { display: flex; flex-direction: row; flex-wrap: wrap; justify-content: flex-start; width: 100% }\n",
       "    .wandb-col { display: flex; flex-direction: column; flex-basis: 100%; flex: 1; padding: 10px; }\n",
       "    </style>\n",
       "<div class=\"wandb-row\"><div class=\"wandb-col\"><h3>Run history:</h3><br/><table class=\"wandb\"><tr><td>best_val_epoch</td><td>▁</td></tr><tr><td>epoch/accuracy</td><td>▁▅▇▇▇▇▇▇▇▇▇█████████████████████████████</td></tr><tr><td>epoch/c_loss</td><td>█▄▂▂▂▂▂▁▁▁▁▁▁▁▁▁▁▁▁▁▁▁▁▁▁▁▁▁▁▁▁▁▁▁▁▁▁▁▁▁</td></tr><tr><td>epoch/epoch</td><td>▁▁▁▁▂▂▂▂▂▃▃▃▃▃▃▄▄▄▄▄▅▅▅▅▅▅▆▆▆▆▆▇▇▇▇▇▇███</td></tr><tr><td>epoch/reg_loss</td><td>▁▁▁▁▂▂▂▂▂▂▃▃▃▃▃▃▄▄▄▄▄▄▅▅▅▅▅▅▆▆▆▆▆▇▇▇▇▇██</td></tr><tr><td>epoch/total_g_loss</td><td>▅▂▁▁▁▁▁▁▂▂▂▂▂▂▂▃▃▃▃▃▄▄▄▄▄▅▅▅▅▆▆▆▆▆▇▇▇▇██</td></tr><tr><td>epoch/val_accuracy</td><td>█▁▂▃▄▄▄▄▄▅▅▅▅▅▅▅▅▅▅▅▅▅▅▅▅▅▅▅▅▆▆▆▆▆▆▆▆▆▆▆</td></tr><tr><td>epoch/val_c_loss</td><td>▆█▅▄▃▃▃▃▂▂▂▂▂▂▂▂▂▂▂▂▂▂▂▂▁▁▁▁▁▁▁▁▁▁▁▁▁▁▁▁</td></tr><tr><td>epoch/val_reg_loss</td><td>▁▁▁▁▂▂▂▂▂▂▃▃▃▃▃▃▄▄▄▄▄▄▅▅▅▅▅▅▆▆▆▆▆▇▇▇▇▇██</td></tr><tr><td>epoch/val_total_g_loss</td><td>▁▂▁▁▁▁▁▁▁▂▂▂▂▂▂▃▃▃▃▃▄▄▄▄▄▅▅▅▅▅▆▆▆▆▇▇▇▇██</td></tr><tr><td>test_accuracy</td><td>▁</td></tr><tr><td>test_time</td><td>▁</td></tr><tr><td>train_time</td><td>▁</td></tr></table><br/></div><div class=\"wandb-col\"><h3>Run summary:</h3><br/><table class=\"wandb\"><tr><td>best_val_epoch</td><td>1</td></tr><tr><td>epoch/accuracy</td><td>0.86239</td></tr><tr><td>epoch/c_loss</td><td>0.41552</td></tr><tr><td>epoch/epoch</td><td>100.0</td></tr><tr><td>epoch/reg_loss</td><td>0.69705</td></tr><tr><td>epoch/total_g_loss</td><td>1.11257</td></tr><tr><td>epoch/val_accuracy</td><td>0.37803</td></tr><tr><td>epoch/val_c_loss</td><td>1.42636</td></tr><tr><td>epoch/val_reg_loss</td><td>0.70194</td></tr><tr><td>epoch/val_total_g_loss</td><td>2.12829</td></tr><tr><td>test_accuracy</td><td>0.42124</td></tr><tr><td>test_time</td><td>4.62</td></tr><tr><td>train_time</td><td>5050.53</td></tr></table><br/></div></div>"
      ],
      "text/plain": [
       "<IPython.core.display.HTML object>"
      ]
     },
     "metadata": {},
     "output_type": "display_data"
    },
    {
     "data": {
      "text/html": [
       "Synced <strong style=\"color:#cdcd00\">flowing-oath-39</strong>: <a href=\"https://wandb.ai/barbanish/light-ajrnn/runs/1ivxvnlx\" target=\"_blank\">https://wandb.ai/barbanish/light-ajrnn/runs/1ivxvnlx</a><br/>Synced 5 W&B file(s), 0 media file(s), 0 artifact file(s) and 0 other file(s)"
      ],
      "text/plain": [
       "<IPython.core.display.HTML object>"
      ]
     },
     "metadata": {},
     "output_type": "display_data"
    },
    {
     "data": {
      "text/html": [
       "Find logs at: <code>./wandb/run-20221226_103845-1ivxvnlx/logs</code>"
      ],
      "text/plain": [
       "<IPython.core.display.HTML object>"
      ]
     },
     "metadata": {},
     "output_type": "display_data"
    },
    {
     "data": {
      "application/vnd.jupyter.widget-view+json": {
       "model_id": "470ead9ae990411790d6d3dc9a70341a",
       "version_major": 2,
       "version_minor": 0
      },
      "text/plain": [
       "VBox(children=(Label(value='Waiting for wandb.init()...\\r'), FloatProgress(value=0.016702328467120726, max=1.0…"
      ]
     },
     "metadata": {},
     "output_type": "display_data"
    },
    {
     "data": {
      "text/html": [
       "Tracking run with wandb version 0.13.7"
      ],
      "text/plain": [
       "<IPython.core.display.HTML object>"
      ]
     },
     "metadata": {},
     "output_type": "display_data"
    },
    {
     "data": {
      "text/html": [
       "Run data is saved locally in <code>/Users/donald/personal/AJ-RNN/results/wandb/run-20221226_103851-15rar5gb</code>"
      ],
      "text/plain": [
       "<IPython.core.display.HTML object>"
      ]
     },
     "metadata": {},
     "output_type": "display_data"
    },
    {
     "data": {
      "text/html": [
       "Syncing run <strong><a href=\"https://wandb.ai/barbanish/light-ajrnn/runs/15rar5gb\" target=\"_blank\">vague-shape-40</a></strong> to <a href=\"https://wandb.ai/barbanish/light-ajrnn\" target=\"_blank\">Weights & Biases</a> (<a href=\"https://wandb.me/run\" target=\"_blank\">docs</a>)<br/>"
      ],
      "text/plain": [
       "<IPython.core.display.HTML object>"
      ]
     },
     "metadata": {},
     "output_type": "display_data"
    },
    {
     "data": {
      "text/html": [
       "Waiting for W&B process to finish... <strong style=\"color:green\">(success).</strong>"
      ],
      "text/plain": [
       "<IPython.core.display.HTML object>"
      ]
     },
     "metadata": {},
     "output_type": "display_data"
    },
    {
     "data": {
      "text/html": [
       "<style>\n",
       "    table.wandb td:nth-child(1) { padding: 0 10px; text-align: left ; width: auto;} td:nth-child(2) {text-align: left ; width: 100%}\n",
       "    .wandb-row { display: flex; flex-direction: row; flex-wrap: wrap; justify-content: flex-start; width: 100% }\n",
       "    .wandb-col { display: flex; flex-direction: column; flex-basis: 100%; flex: 1; padding: 10px; }\n",
       "    </style>\n",
       "<div class=\"wandb-row\"><div class=\"wandb-col\"><h3>Run history:</h3><br/><table class=\"wandb\"><tr><td>best_val_epoch</td><td>▁</td></tr><tr><td>epoch/accuracy</td><td>▁▂▃▃▄▄▄▄▅▅▅▅▆▆▆▆▆▆▆▇▇▇▇▇▇▇▇▇▇▇██████████</td></tr><tr><td>epoch/c_loss</td><td>█▆▅▅▅▄▄▄▄▄▃▃▃▃▃▃▃▂▂▂▂▂▂▂▂▂▂▂▂▁▁▁▁▁▁▁▁▁▁▁</td></tr><tr><td>epoch/epoch</td><td>▁▁▁▂▂▂▂▂▂▃▃▃▃▃▄▄▄▄▄▄▅▅▅▅▅▅▆▆▆▆▆▇▇▇▇▇▇███</td></tr><tr><td>epoch/reg_loss</td><td>▁▁▁▁▁▁▁▁▁▂▂▂▂▂▂▂▂▃▃▃▃▃▃▄▄▄▄▅▅▅▅▆▆▆▇▇▇▇██</td></tr><tr><td>epoch/total_g_loss</td><td>▁▁▁▁▁▁▁▁▁▂▂▂▂▂▂▂▂▃▃▃▃▃▃▄▄▄▄▅▅▅▅▆▆▆▇▇▇▇██</td></tr><tr><td>epoch/val_accuracy</td><td>▁▅▅▅▅▅▆▆▆▆▆▆▆▆▆▆▆▇▇▇▇▇▇▇▇▇▇▇▇▇▇█████████</td></tr><tr><td>epoch/val_c_loss</td><td>█▅▄▄▄▄▃▃▃▃▃▃▃▃▃▂▂▂▂▂▂▂▂▂▂▂▂▂▂▂▁▁▁▁▁▁▁▁▁▁</td></tr><tr><td>epoch/val_reg_loss</td><td>▁▁▁▁▁▁▁▁▁▂▂▂▂▂▂▂▂▃▃▃▃▃▃▄▄▄▄▅▅▅▅▆▆▆▇▇▇▇██</td></tr><tr><td>epoch/val_total_g_loss</td><td>▁▁▁▁▁▁▁▁▁▁▂▂▂▂▂▂▂▃▃▃▃▃▃▄▄▄▄▅▅▅▅▆▆▆▆▇▇▇██</td></tr><tr><td>test_accuracy</td><td>▁</td></tr><tr><td>test_time</td><td>▁</td></tr><tr><td>train_time</td><td>▁</td></tr></table><br/></div><div class=\"wandb-col\"><h3>Run summary:</h3><br/><table class=\"wandb\"><tr><td>best_val_epoch</td><td>998</td></tr><tr><td>epoch/accuracy</td><td>0.88552</td></tr><tr><td>epoch/c_loss</td><td>0.3867</td></tr><tr><td>epoch/epoch</td><td>999.0</td></tr><tr><td>epoch/reg_loss</td><td>19.52457</td></tr><tr><td>epoch/total_g_loss</td><td>19.91136</td></tr><tr><td>epoch/val_accuracy</td><td>0.58626</td></tr><tr><td>epoch/val_c_loss</td><td>1.06178</td></tr><tr><td>epoch/val_reg_loss</td><td>19.55299</td></tr><tr><td>epoch/val_total_g_loss</td><td>20.61499</td></tr><tr><td>test_accuracy</td><td>0.65668</td></tr><tr><td>test_time</td><td>5.53</td></tr><tr><td>train_time</td><td>58953.57</td></tr></table><br/></div></div>"
      ],
      "text/plain": [
       "<IPython.core.display.HTML object>"
      ]
     },
     "metadata": {},
     "output_type": "display_data"
    },
    {
     "data": {
      "text/html": [
       "Synced <strong style=\"color:#cdcd00\">vague-shape-40</strong>: <a href=\"https://wandb.ai/barbanish/light-ajrnn/runs/15rar5gb\" target=\"_blank\">https://wandb.ai/barbanish/light-ajrnn/runs/15rar5gb</a><br/>Synced 5 W&B file(s), 0 media file(s), 0 artifact file(s) and 0 other file(s)"
      ],
      "text/plain": [
       "<IPython.core.display.HTML object>"
      ]
     },
     "metadata": {},
     "output_type": "display_data"
    },
    {
     "data": {
      "text/html": [
       "Find logs at: <code>./wandb/run-20221226_103851-15rar5gb/logs</code>"
      ],
      "text/plain": [
       "<IPython.core.display.HTML object>"
      ]
     },
     "metadata": {},
     "output_type": "display_data"
    }
   ],
   "source": [
    "week = \"week50\"\n",
    "for name in os.listdir(f\"{week}\"):\n",
    "    if name.startswith(\"-\"):\n",
    "      continue\n",
    "    for seed in os.listdir(f\"{week}/{name}\"):\n",
    "      if seed.startswith(\"-\"):\n",
    "        continue\n",
    "      import_wandb(f\"{week}/{name}/{seed}\")"
   ]
  }
 ],
 "metadata": {
  "kernelspec": {
   "display_name": "venv",
   "language": "python",
   "name": "python3"
  },
  "language_info": {
   "codemirror_mode": {
    "name": "ipython",
    "version": 3
   },
   "file_extension": ".py",
   "mimetype": "text/x-python",
   "name": "python",
   "nbconvert_exporter": "python",
   "pygments_lexer": "ipython3",
   "version": "3.10.7"
  },
  "orig_nbformat": 4,
  "vscode": {
   "interpreter": {
    "hash": "11abb7938f87972a7a147dfe2eeaff64b9125be73dc813bcf12e1ed54919820b"
   }
  }
 },
 "nbformat": 4,
 "nbformat_minor": 2
}
