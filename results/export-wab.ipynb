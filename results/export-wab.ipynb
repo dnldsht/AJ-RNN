{
 "cells": [
  {
   "cell_type": "code",
   "execution_count": 6,
   "metadata": {},
   "outputs": [],
   "source": [
    "import json\n",
    "import os\n",
    "import collections.abc\n",
    "import csv\n",
    "from tabulate import tabulate\n",
    "\n",
    "def get_metrics(res_dir):\n",
    "  with open(f\"{res_dir}/trainlog.csv\") as f:\n",
    "    reader = csv.reader(f)\n",
    "    keys =next(reader)\n",
    "    metrics = []\n",
    "    \n",
    "    for row in reader:\n",
    "      metrics.append({k:float(v) for k,v in zip(keys, row)})\n",
    "  return metrics\n",
    "\n",
    "def get_accs_at_epoch(m, epoch, test_acc=None):\n",
    "  accs = {}\n",
    "  for k in ['accuracy', 'val_accuracy', 'test_accuracy']:\n",
    "    if k in m:\n",
    "      accs[k] = round(m[k][epoch] * 100, 1)\n",
    "  if test_acc is not None and 'test_accuracy' not in accs:\n",
    "    accs['test_accuracy'] = round(test_acc * 100, 1)\n",
    "  \n",
    "  return accs\n",
    "\n",
    "def get_results(week):\n",
    "  results = []\n",
    "  for name in os.listdir(f\"{week}\"):\n",
    "    if name.startswith(\"-\"):\n",
    "      continue\n",
    "    for seed in os.listdir(f\"{week}/{name}\"):\n",
    "      if seed.startswith(\"-\"):\n",
    "        continue\n",
    "      item = {\n",
    "        \"name\": name,\n",
    "        'week': week,\n",
    "        'seed': seed[4:]\n",
    "      }\n",
    "\n",
    "      \n",
    "      if os.path.exists(f\"{week}/{name}/{seed}/config.json\"):\n",
    "        with open(f\"{week}/{name}/{seed}/config.json\") as f:\n",
    "          config = json.load(f)\n",
    "\n",
    "        item.update(config)\n",
    "        \n",
    "      \n",
    "      if os.path.exists(f\"{week}/{name}/{seed}/overview.json\"):\n",
    "        with open(f\"{week}/{name}/{seed}/overview.json\") as f:\n",
    "          overview = json.load(f)\n",
    "        \n",
    "        test_accuracy = overview.get(\"test_accuracy\", None)\n",
    "        if isinstance(test_accuracy, collections.abc.Sequence):\n",
    "          test_accuracy = test_accuracy[0]\n",
    "\n",
    "        item.update({\"test_accuracy\": test_accuracy, 'train_time': round(overview.get(\"train_time\", 0) / (60*60), 2)})\n",
    "      \n",
    "      if os.path.exists(f\"{week}/{name}/{seed}/trainlog.csv\"):\n",
    "        train_log = get_metrics(f\"{week}/{name}/{seed}\")\n",
    "        max_val = train_log['val_accuracy'].index(max(train_log['val_accuracy']))\n",
    "        accs = get_accs_at_epoch(train_log, max_val, item.get('test_accuracy', None))\n",
    "        item.update(accs)\n",
    "        item.update({\"best_val_epoch\": max_val + 1})\n",
    "      else: \n",
    "        continue\n",
    "\n",
    "      results.append(item)\n",
    "  return results\n",
    "\n",
    "def print_table(data, keys):\n",
    "  data = [[r.get(k, '') for k in keys] for r in data]\n",
    "  print(tabulate(data, headers=keys))\n",
    "\n",
    "keys = ['name', 'week', 'seed', 'accuracy', 'val_accuracy',  'test_accuracy', 'best_val_epoch', 'G_epoch', 'hidden_size', 'batch_size', 'learning_rate', 'dropout', 'train_time',]\n",
    "\n",
    "def print_week(week):\n",
    "  results = get_results(week)\n",
    "  print_table(results, keys)\n",
    "\n",
    "all_keys = ['name', 'runs', 'accuracy', 'val_accuracy',  'test_accuracy', 'best_val_epoch', 'G_epoch', 'hidden_size', 'batch_size', 'learning_rate', 'dropout', 'train_time',]\n",
    "average_keys = ['accuracy', 'val_accuracy',  'test_accuracy', 'best_val_epoch']\n",
    "sum_keys = ['train_time']\n",
    "\n",
    "def print_week_average(week):\n",
    "  results = get_results(week)\n",
    "  names = set([r['name'] for r in results])\n",
    "  aggregates = []\n",
    "  for name in names:\n",
    "      seeds = [r for r in results if r['name'] == name]\n",
    "      item = seeds[0]\n",
    "      item['runs'] = len(seeds)\n",
    "      for k in average_keys:\n",
    "        vals = [s[k] for s in seeds if k in s]\n",
    "        if(len(vals) > 0):\n",
    "          item[k] = round(sum([r for r in vals]) / len(vals),1)\n",
    "      for k in sum_keys:\n",
    "        vals = [s[k] for s in seeds if k in s]\n",
    "        if(len(vals) > 0):\n",
    "          item[k] = round(sum([r for r in vals]),1)\n",
    "          \n",
    "      aggregates.append(item)\n",
    "  print_table(aggregates, all_keys)"
   ]
  },
  {
   "cell_type": "code",
   "execution_count": 1,
   "metadata": {},
   "outputs": [],
   "source": [
    "import wandb"
   ]
  },
  {
   "cell_type": "code",
   "execution_count": 16,
   "metadata": {},
   "outputs": [],
   "source": [
    "def import_wandb(dir):\n",
    "  if os.path.exists(f\"{dir}/config.json\"):\n",
    "    with open(f\"{dir}/config.json\") as f:\n",
    "      config = json.load(f)\n",
    "      #print(config)\n",
    "        \n",
    "      if os.path.exists(f\"{dir}/overview.json\"):\n",
    "        with open(f\"{dir}/overview.json\") as f:\n",
    "          overview = json.load(f)\n",
    "        \n",
    "        test_accuracy = overview.get(\"test_accuracy\", None)\n",
    "        if isinstance(test_accuracy, collections.abc.Sequence):\n",
    "          overview['test_accuracy'] = test_accuracy[0]\n",
    "      else:\n",
    "        print(\"no overview\",dir)\n",
    "        return\n",
    "\n",
    "      \n",
    "      if os.path.exists(f\"{dir}/trainlog.csv\"):\n",
    "        train_log = get_metrics(f\"{dir}\")\n",
    "        \n",
    "        light_ajrnn = config.get('light_ajrnn', False)\n",
    "\n",
    "        wandb.init(\n",
    "          project=\"light-ajrnn\" if light_ajrnn else \"ajrnn\",\n",
    "          config=config,\n",
    "        )\n",
    "        for l in train_log:\n",
    "          wandb.log(l)\n",
    "        \n",
    "        overview_keys = ['test_accuracy', 'train_time', 'test_time', 'best_val_epoch']\n",
    "        overview = {k: overview[k] for k in overview_keys if k in overview}\n",
    "        wandb.log(overview)\n",
    "        wandb.finish()"
   ]
  },
  {
   "cell_type": "code",
   "execution_count": 19,
   "metadata": {},
   "outputs": [
    {
     "data": {
      "text/html": [
       "Tracking run with wandb version 0.13.7"
      ],
      "text/plain": [
       "<IPython.core.display.HTML object>"
      ]
     },
     "metadata": {},
     "output_type": "display_data"
    },
    {
     "data": {
      "text/html": [
       "Run data is saved locally in <code>/Users/donald/personal/AJ-RNN/results/wandb/run-20221223_152144-4zmgokdx</code>"
      ],
      "text/plain": [
       "<IPython.core.display.HTML object>"
      ]
     },
     "metadata": {},
     "output_type": "display_data"
    },
    {
     "data": {
      "text/html": [
       "Syncing run <strong><a href=\"https://wandb.ai/barbanish/ajrnn/runs/4zmgokdx\" target=\"_blank\">morning-pine-1</a></strong> to <a href=\"https://wandb.ai/barbanish/ajrnn\" target=\"_blank\">Weights & Biases</a> (<a href=\"https://wandb.me/run\" target=\"_blank\">docs</a>)<br/>"
      ],
      "text/plain": [
       "<IPython.core.display.HTML object>"
      ]
     },
     "metadata": {},
     "output_type": "display_data"
    },
    {
     "data": {
      "text/html": [
       "Waiting for W&B process to finish... <strong style=\"color:green\">(success).</strong>"
      ],
      "text/plain": [
       "<IPython.core.display.HTML object>"
      ]
     },
     "metadata": {},
     "output_type": "display_data"
    },
    {
     "data": {
      "application/vnd.jupyter.widget-view+json": {
       "model_id": "f104b97a81a542b9a1e981a42ba42c75",
       "version_major": 2,
       "version_minor": 0
      },
      "text/plain": [
       "VBox(children=(Label(value='0.001 MB of 0.001 MB uploaded (0.000 MB deduped)\\r'), FloatProgress(value=1.0, max…"
      ]
     },
     "metadata": {},
     "output_type": "display_data"
    },
    {
     "data": {
      "text/html": [
       "<style>\n",
       "    table.wandb td:nth-child(1) { padding: 0 10px; text-align: left ; width: auto;} td:nth-child(2) {text-align: left ; width: 100%}\n",
       "    .wandb-row { display: flex; flex-direction: row; flex-wrap: wrap; justify-content: flex-start; width: 100% }\n",
       "    .wandb-col { display: flex; flex-direction: column; flex-basis: 100%; flex: 1; padding: 10px; }\n",
       "    </style>\n",
       "<div class=\"wandb-row\"><div class=\"wandb-col\"><h3>Run history:</h3><br/><table class=\"wandb\"><tr><td>accuracy</td><td>▄▂▃▃▇▆▅▄▅▅▇▆▄▆▂▆███▁▇▇▆▆▆▇▇▃▇▃█▇▄██▆█▅▅▇</td></tr><tr><td>best_val_epoch</td><td>▁</td></tr><tr><td>c_loss</td><td>▆▆▅▅▂▂▄▄▃▃▃▂▄▂▄▅▁▂▂█▂▃▁▂▃▂▂▆▂▄▁▁▆▁▂▂▂▃▃▂</td></tr><tr><td>d_loss</td><td>█▇▅▃▄▃▄▂▂▁▅▂▂▂▂▆▂▃▃▂▂▃▂▄▁▂▂▆▄▂▄▂▄▃▄▅▄▃▃▅</td></tr><tr><td>epoch</td><td>▁▁▁▁▂▂▂▂▂▃▃▃▃▃▃▄▄▄▄▄▅▅▅▅▅▅▆▆▆▆▆▆▇▇▇▇▇███</td></tr><tr><td>g_loss</td><td>█▇▇▇▁▇▇▇██▇███▇▇███████▇█▇█▇▇███████▇███</td></tr><tr><td>imp_loss</td><td>▂▂▂▂▂▁▄▃▁▂▃▁▁▂▂█▂▁▁▂▂▁▂▂▂▂▃▅▂▃▃▁▂▂▁▃▂▂▁▃</td></tr><tr><td>reg_loss</td><td>▁▂▃▄▅▅▆▆▅▅▅▆▅▆▆▆▇▆▆▆▆▆▆▆▇▆▇▇▇▇▇▇▇▇▆██▇▇█</td></tr><tr><td>test_accuracy</td><td>▁▁▅▄▂▂▅▄▄▂▁▃▅▁▇▁█▁██▄▁▃▄▅▁▆▁▃▆█▄▁▁▁▄▇▁▄█</td></tr><tr><td>test_c_loss</td><td>▂▄▁▂▂▃▅▂▃▃▄▂▁▄▂▅▃▆▃▁▂▃▄▃▂▅▂▄▃▁▂▃▃█▃▂▁█▄▂</td></tr><tr><td>test_d_loss</td><td>▆▅▃█▄▄▃▁▂▁▇▂▁▅▂▇▄▄▂▁▂▃▃▃▁█▁▆▂▁▅▁▃▆▆▄▃▆▄▇</td></tr><tr><td>test_g_loss</td><td>▇▇▇▇▁▇▇▇██▇███▇▇█▇███▇█▇█▇█▇▇███▇▇█▇████</td></tr><tr><td>test_imp_loss</td><td>▁▆▁▃▃▇█▃▂▂▇▂▃▃▁▆▃▃▃▂▃▅▂▄▃█▂▅▃▂▂▃▄▇▄▃▂▆▂▃</td></tr><tr><td>test_reg_loss</td><td>▁▂▃▄▅▅▆▆▅▅▅▆▅▆▆▆▇▆▆▆▆▆▆▇▇▆▇▇▇▇▇▇▇▇▆██▇▇█</td></tr><tr><td>test_total_g_loss</td><td>▂▄▁▂▂▃▅▂▃▃▄▂▁▄▁▅▃▆▃▁▂▃▄▃▂▅▂▄▃▁▂▃▃█▃▂▁█▄▂</td></tr><tr><td>total_g_loss</td><td>▃▄▄▅▁▅▅▆▅▅▅▅▅▅▆▇▆▅▅█▅▆▅▆▆▅▆█▆▇▆▆▇▆▅▇▆▆▆▇</td></tr><tr><td>train_time</td><td>▁</td></tr><tr><td>val_accuracy</td><td>▁▁▄▃▁▁▅▄▄▂▁▃▅▂▆▁▆▁▇█▄▁▃▄▄▁▅▁▄▅▇▃▁▁▂▃█▁▃▇</td></tr><tr><td>val_c_loss</td><td>▂▄▁▂▂▃▅▂▃▃▅▂▂▄▂▅▃▆▃▁▂▃▄▃▂▅▃▄▃▁▂▃▃▇▄▃▁█▄▂</td></tr><tr><td>val_d_loss</td><td>▄▄▂█▃▃▃▂▃▁▅▂▁▄▂▄▃▃▂▁▂▃▂▃▂▅▁▄▂▁▅▂▂▄▅▄▂▄▃▅</td></tr><tr><td>val_g_loss</td><td>▇▇▇▇▁▇▇▇██▇███▇▇█▇███▇█▇█▇▇▇▇███▇▇█▇████</td></tr><tr><td>val_imp_loss</td><td>▁▆▁▃▃██▃▂▂▇▂▃▃▁▆▃▃▃▂▃▅▂▄▃█▂▅▃▂▂▂▄▇▃▃▂▆▂▃</td></tr><tr><td>val_reg_loss</td><td>▁▂▃▄▅▅▆▆▅▅▅▆▅▆▆▆▇▆▆▆▆▆▆▇▇▆▇▇▇▇▇▇▇▇▆██▇▇█</td></tr><tr><td>val_total_g_loss</td><td>▂▄▁▂▂▃▅▂▃▃▅▂▂▄▂▅▃▆▃▁▂▃▄▃▂▅▃▄▃▁▂▃▃▇▄▃▁█▄▃</td></tr></table><br/></div><div class=\"wandb-col\"><h3>Run summary:</h3><br/><table class=\"wandb\"><tr><td>accuracy</td><td>0.98328</td></tr><tr><td>best_val_epoch</td><td>306</td></tr><tr><td>c_loss</td><td>0.06667</td></tr><tr><td>d_loss</td><td>0.48256</td></tr><tr><td>epoch</td><td>599.0</td></tr><tr><td>g_loss</td><td>0.21893</td></tr><tr><td>imp_loss</td><td>0.01236</td></tr><tr><td>reg_loss</td><td>0.17866</td></tr><tr><td>test_accuracy</td><td>0.2621</td></tr><tr><td>test_c_loss</td><td>9.13611</td></tr><tr><td>test_d_loss</td><td>0.49692</td></tr><tr><td>test_g_loss</td><td>0.22144</td></tr><tr><td>test_imp_loss</td><td>0.01086</td></tr><tr><td>test_reg_loss</td><td>0.17733</td></tr><tr><td>test_total_g_loss</td><td>9.54574</td></tr><tr><td>total_g_loss</td><td>0.47662</td></tr><tr><td>train_time</td><td>62820.65</td></tr><tr><td>val_accuracy</td><td>0.15378</td></tr><tr><td>val_c_loss</td><td>10.58653</td></tr><tr><td>val_d_loss</td><td>0.50033</td></tr><tr><td>val_g_loss</td><td>0.22918</td></tr><tr><td>val_imp_loss</td><td>0.01066</td></tr><tr><td>val_reg_loss</td><td>0.17733</td></tr><tr><td>val_total_g_loss</td><td>11.0037</td></tr></table><br/></div></div>"
      ],
      "text/plain": [
       "<IPython.core.display.HTML object>"
      ]
     },
     "metadata": {},
     "output_type": "display_data"
    },
    {
     "data": {
      "text/html": [
       "Synced <strong style=\"color:#cdcd00\">morning-pine-1</strong>: <a href=\"https://wandb.ai/barbanish/ajrnn/runs/4zmgokdx\" target=\"_blank\">https://wandb.ai/barbanish/ajrnn/runs/4zmgokdx</a><br/>Synced 5 W&B file(s), 0 media file(s), 0 artifact file(s) and 0 other file(s)"
      ],
      "text/plain": [
       "<IPython.core.display.HTML object>"
      ]
     },
     "metadata": {},
     "output_type": "display_data"
    },
    {
     "data": {
      "text/html": [
       "Find logs at: <code>./wandb/run-20221223_152144-4zmgokdx/logs</code>"
      ],
      "text/plain": [
       "<IPython.core.display.HTML object>"
      ]
     },
     "metadata": {},
     "output_type": "display_data"
    },
    {
     "data": {
      "application/vnd.jupyter.widget-view+json": {
       "model_id": "e7dd9980276142d9884a0e6b7f5b8720",
       "version_major": 2,
       "version_minor": 0
      },
      "text/plain": [
       "VBox(children=(Label(value='Waiting for wandb.init()...\\r'), FloatProgress(value=0.01675209098029882, max=1.0)…"
      ]
     },
     "metadata": {},
     "output_type": "display_data"
    },
    {
     "data": {
      "text/html": [
       "Tracking run with wandb version 0.13.7"
      ],
      "text/plain": [
       "<IPython.core.display.HTML object>"
      ]
     },
     "metadata": {},
     "output_type": "display_data"
    },
    {
     "data": {
      "text/html": [
       "Run data is saved locally in <code>/Users/donald/personal/AJ-RNN/results/wandb/run-20221223_152152-petfg9ty</code>"
      ],
      "text/plain": [
       "<IPython.core.display.HTML object>"
      ]
     },
     "metadata": {},
     "output_type": "display_data"
    },
    {
     "data": {
      "text/html": [
       "Syncing run <strong><a href=\"https://wandb.ai/barbanish/ajrnn/runs/petfg9ty\" target=\"_blank\">hopeful-feather-2</a></strong> to <a href=\"https://wandb.ai/barbanish/ajrnn\" target=\"_blank\">Weights & Biases</a> (<a href=\"https://wandb.me/run\" target=\"_blank\">docs</a>)<br/>"
      ],
      "text/plain": [
       "<IPython.core.display.HTML object>"
      ]
     },
     "metadata": {},
     "output_type": "display_data"
    },
    {
     "data": {
      "text/html": [
       "Waiting for W&B process to finish... <strong style=\"color:green\">(success).</strong>"
      ],
      "text/plain": [
       "<IPython.core.display.HTML object>"
      ]
     },
     "metadata": {},
     "output_type": "display_data"
    },
    {
     "data": {
      "application/vnd.jupyter.widget-view+json": {
       "model_id": "e7bf76a4b9534789921de8637e5e3f9a",
       "version_major": 2,
       "version_minor": 0
      },
      "text/plain": [
       "VBox(children=(Label(value='0.001 MB of 0.001 MB uploaded (0.000 MB deduped)\\r'), FloatProgress(value=1.0, max…"
      ]
     },
     "metadata": {},
     "output_type": "display_data"
    },
    {
     "data": {
      "text/html": [
       "<style>\n",
       "    table.wandb td:nth-child(1) { padding: 0 10px; text-align: left ; width: auto;} td:nth-child(2) {text-align: left ; width: 100%}\n",
       "    .wandb-row { display: flex; flex-direction: row; flex-wrap: wrap; justify-content: flex-start; width: 100% }\n",
       "    .wandb-col { display: flex; flex-direction: column; flex-basis: 100%; flex: 1; padding: 10px; }\n",
       "    </style>\n",
       "<div class=\"wandb-row\"><div class=\"wandb-col\"><h3>Run history:</h3><br/><table class=\"wandb\"><tr><td>accuracy</td><td>▁▂▃▄▄▅▆▂▃▃▃▃▄▃▄▄▅▃▃▄▃▃▃▂▄▄▄▅▄▄▅▄▅▅▆▇▇███</td></tr><tr><td>best_val_epoch</td><td>▁</td></tr><tr><td>c_loss</td><td>█▇▅▄▄▄▃▆▆▅▅▅▅▅▄▄▄▅▅▄▆▅▅▆▄▄▄▄▅▄▄▄▃▃▂▂▁▁▁▁</td></tr><tr><td>d_loss</td><td>▆▅█▅▄▄▄▄▅▅▄▃▄▄▃▄▃▃▃▅▄▂▂▂▂▂▂▄▄▃▃▃▂▂▂▁▁▁▁▁</td></tr><tr><td>epoch</td><td>▁▁▁▁▂▂▂▂▂▃▃▃▃▃▃▄▄▄▄▄▅▅▅▅▅▅▆▆▆▆▆▆▇▇▇▇▇███</td></tr><tr><td>g_loss</td><td>██▃▇▁▁▂█▇▆▆▆▅▆▆▄▂▃█▅▄▇██▇▆█▅▂▅▆▅▂▁▂▁▁▁▁▁</td></tr><tr><td>imp_loss</td><td>▂▁▁▁▂▂▂▄▃▃▄▃▅▄▃▄▄▄▅▄▅▆▇█▇▇▅▄▅▃▄▃▃▂▂▂▂▂▂▂</td></tr><tr><td>reg_loss</td><td>▁▁▂▂▃▄▄▅▅▅▆▆▆▆▇▇▇▇▇▇▇██████▇▇██▇▇▇▆▆▅▅▅▄</td></tr><tr><td>test_accuracy</td><td>▁▃▂▃▂▂▃▆▇▅▇▇▇▆█▃▄▇▇▃▅▇▇▇▇▆▆▆▆▃███▇▇█▇███</td></tr><tr><td>test_c_loss</td><td>▆▅█▆▆▆▇▂▁▂▁▁▁▂▁▄▄▁▁▅▆▂▁▁▁▁▂▂▂▅▁▁▁▁▁▁▁▁▁▁</td></tr><tr><td>test_d_loss</td><td>▇▆▆▆▅▅▅▅▅▆▄▃▅▅▄▆▄▄▄▅▅▂▂▂▃▂▂▅▆▅▃▃▃▂█▂▁▁▁▁</td></tr><tr><td>test_g_loss</td><td>██▂█▁▁▁▇▆▅▆▇▅▆▆▃▂▃█▇▇▇██▆▆▇▇▂▅▆▅▂▁▂▁▁▁▁▁</td></tr><tr><td>test_imp_loss</td><td>▁▁▁▁▂▂▂▄▃▃▅▃▅▄▄▅▄▄▅▄▅▆▇█▇▇▅▄▄▃▄▃▃▂▃▂▂▂▂▂</td></tr><tr><td>test_reg_loss</td><td>▁▁▂▂▃▄▄▅▅▅▆▆▆▆▇▇▇▇▇▇███████▇▇██▇▇▇▆▆▅▅▅▄</td></tr><tr><td>test_total_g_loss</td><td>▆▅█▆▆▆▇▂▂▃▂▂▁▂▁▄▅▂▂▅▇▂▂▂▂▂▂▂▂▅▁▁▁▁▁▁▁▁▁▁</td></tr><tr><td>total_g_loss</td><td>█▇▅▄▄▄▃▇▆▆▆▆▆▆▅▅▅▆▆▅▇▆▇▇▆▆▅▅▅▅▅▅▄▄▃▂▂▁▁▁</td></tr><tr><td>train_time</td><td>▁</td></tr><tr><td>val_accuracy</td><td>▁▄▃▃▃▃▃▆▇▅▇▇▇▆▇▄▄▇▇▄▆▇▇▇▆▆▆▆▆▃▇▇▇▇▇▇▇███</td></tr><tr><td>val_c_loss</td><td>▆▅█▆▆▇█▂▂▃▂▂▂▂▁▄▅▂▂▅▅▂▁▂▂▂▂▂▃▆▁▁▁▂▁▁▁▁▁▁</td></tr><tr><td>val_d_loss</td><td>▅▅▅▄▄▄▄▄▄▅▃▃▃▄▃▄▃▃▃▄▄▂▂▂▂▂▂▄▄▄▃▃▃▂█▁▁▁▁▁</td></tr><tr><td>val_g_loss</td><td>██▂█▁▁▁█▆▅▆▆▅▆▆▃▂▃█▆▆▆██▆▆▇▆▂▅▆▄▂▁▂▁▁▁▁▁</td></tr><tr><td>val_imp_loss</td><td>▁▁▁▁▂▂▂▄▃▃▄▃▅▄▄▅▄▄▅▄▅▆▇█▇▇▅▄▄▃▄▃▃▂▃▂▂▂▂▂</td></tr><tr><td>val_reg_loss</td><td>▁▁▂▂▃▄▄▅▅▅▆▆▆▆▇▇▇▇▇▇███████▇▇██▇▇▇▆▆▅▅▅▄</td></tr><tr><td>val_total_g_loss</td><td>▆▅▇▆▆▆█▂▂▃▂▂▂▃▂▄▆▂▂▆▅▂▂▂▂▂▃▃▃▇▂▂▂▂▂▁▁▁▁▁</td></tr></table><br/></div><div class=\"wandb-col\"><h3>Run summary:</h3><br/><table class=\"wandb\"><tr><td>accuracy</td><td>0.97936</td></tr><tr><td>best_val_epoch</td><td>600</td></tr><tr><td>c_loss</td><td>0.06622</td></tr><tr><td>d_loss</td><td>0.44884</td></tr><tr><td>epoch</td><td>599.0</td></tr><tr><td>g_loss</td><td>0.11888</td></tr><tr><td>imp_loss</td><td>0.00323</td></tr><tr><td>reg_loss</td><td>0.11628</td></tr><tr><td>test_accuracy</td><td>0.82546</td></tr><tr><td>test_c_loss</td><td>0.71966</td></tr><tr><td>test_d_loss</td><td>0.45546</td></tr><tr><td>test_g_loss</td><td>0.12308</td></tr><tr><td>test_imp_loss</td><td>0.00321</td></tr><tr><td>test_reg_loss</td><td>0.1157</td></tr><tr><td>test_total_g_loss</td><td>0.96165</td></tr><tr><td>total_g_loss</td><td>0.30461</td></tr><tr><td>train_time</td><td>34812.87</td></tr><tr><td>val_accuracy</td><td>0.87709</td></tr><tr><td>val_c_loss</td><td>0.49661</td></tr><tr><td>val_d_loss</td><td>0.45341</td></tr><tr><td>val_g_loss</td><td>0.12111</td></tr><tr><td>val_imp_loss</td><td>0.00318</td></tr><tr><td>val_reg_loss</td><td>0.1157</td></tr><tr><td>val_total_g_loss</td><td>0.7366</td></tr></table><br/></div></div>"
      ],
      "text/plain": [
       "<IPython.core.display.HTML object>"
      ]
     },
     "metadata": {},
     "output_type": "display_data"
    },
    {
     "data": {
      "text/html": [
       "Synced <strong style=\"color:#cdcd00\">hopeful-feather-2</strong>: <a href=\"https://wandb.ai/barbanish/ajrnn/runs/petfg9ty\" target=\"_blank\">https://wandb.ai/barbanish/ajrnn/runs/petfg9ty</a><br/>Synced 5 W&B file(s), 0 media file(s), 0 artifact file(s) and 0 other file(s)"
      ],
      "text/plain": [
       "<IPython.core.display.HTML object>"
      ]
     },
     "metadata": {},
     "output_type": "display_data"
    },
    {
     "data": {
      "text/html": [
       "Find logs at: <code>./wandb/run-20221223_152152-petfg9ty/logs</code>"
      ],
      "text/plain": [
       "<IPython.core.display.HTML object>"
      ]
     },
     "metadata": {},
     "output_type": "display_data"
    },
    {
     "data": {
      "application/vnd.jupyter.widget-view+json": {
       "model_id": "a89f0bb95bcd476aa15a72be193d31d3",
       "version_major": 2,
       "version_minor": 0
      },
      "text/plain": [
       "VBox(children=(Label(value='Waiting for wandb.init()...\\r'), FloatProgress(value=0.016751711117103697, max=1.0…"
      ]
     },
     "metadata": {},
     "output_type": "display_data"
    },
    {
     "data": {
      "text/html": [
       "Tracking run with wandb version 0.13.7"
      ],
      "text/plain": [
       "<IPython.core.display.HTML object>"
      ]
     },
     "metadata": {},
     "output_type": "display_data"
    },
    {
     "data": {
      "text/html": [
       "Run data is saved locally in <code>/Users/donald/personal/AJ-RNN/results/wandb/run-20221223_152201-28x5jm4x</code>"
      ],
      "text/plain": [
       "<IPython.core.display.HTML object>"
      ]
     },
     "metadata": {},
     "output_type": "display_data"
    },
    {
     "data": {
      "text/html": [
       "Syncing run <strong><a href=\"https://wandb.ai/barbanish/ajrnn/runs/28x5jm4x\" target=\"_blank\">stellar-bee-3</a></strong> to <a href=\"https://wandb.ai/barbanish/ajrnn\" target=\"_blank\">Weights & Biases</a> (<a href=\"https://wandb.me/run\" target=\"_blank\">docs</a>)<br/>"
      ],
      "text/plain": [
       "<IPython.core.display.HTML object>"
      ]
     },
     "metadata": {},
     "output_type": "display_data"
    },
    {
     "data": {
      "text/html": [
       "Waiting for W&B process to finish... <strong style=\"color:green\">(success).</strong>"
      ],
      "text/plain": [
       "<IPython.core.display.HTML object>"
      ]
     },
     "metadata": {},
     "output_type": "display_data"
    },
    {
     "data": {
      "application/vnd.jupyter.widget-view+json": {
       "model_id": "2809bdd7344944ee98b3bd4d4f73cc87",
       "version_major": 2,
       "version_minor": 0
      },
      "text/plain": [
       "VBox(children=(Label(value='0.001 MB of 0.001 MB uploaded (0.000 MB deduped)\\r'), FloatProgress(value=1.0, max…"
      ]
     },
     "metadata": {},
     "output_type": "display_data"
    },
    {
     "data": {
      "text/html": [
       "<style>\n",
       "    table.wandb td:nth-child(1) { padding: 0 10px; text-align: left ; width: auto;} td:nth-child(2) {text-align: left ; width: 100%}\n",
       "    .wandb-row { display: flex; flex-direction: row; flex-wrap: wrap; justify-content: flex-start; width: 100% }\n",
       "    .wandb-col { display: flex; flex-direction: column; flex-basis: 100%; flex: 1; padding: 10px; }\n",
       "    </style>\n",
       "<div class=\"wandb-row\"><div class=\"wandb-col\"><h3>Run history:</h3><br/><table class=\"wandb\"><tr><td>accuracy</td><td>▅▆▇▇▇▆▇▇▇▇▆▇▇▁▄▆▇▇▇▇█▇▆▂▇▇█▇██▄██▇▇██▇██</td></tr><tr><td>best_val_epoch</td><td>▁</td></tr><tr><td>c_loss</td><td>▄▄▂▂▂▄▂▂▂▂▂▁▂█▅▂▂▂▂▂▂▂▂▆▂▂▁▂▁▁▄▁▁▂▂▁▂▃▂▁</td></tr><tr><td>d_loss</td><td>█▇▅▃▂▃▄▂▃▃▂▂▂▆▃▁▃▂▃▃▂▁▃▄▂▃▂▃▂▂▃▁▂▃▃▂▄▄▃▃</td></tr><tr><td>epoch</td><td>▁▁▁▁▂▂▂▂▂▃▃▃▃▃▃▄▄▄▄▄▅▅▅▅▅▅▆▆▆▆▆▆▇▇▇▇▇███</td></tr><tr><td>g_loss</td><td>▇▇▇█▇▇▇█▇▇▇▇▇▇▅▅▆▆▆█▅█▁█▇▇▇▇█▇████▇██▇▇█</td></tr><tr><td>imp_loss</td><td>▃▂▃▂▂▄▂▂▂▂▁▂▁▇▃▁▂▃▂▃▃▂▃█▂▂▁▂▁▂▂▁▂▂▂▂▁▅▂▂</td></tr><tr><td>reg_loss</td><td>▁▂▄▄▅▆▅▅▆▅▅▅▅▇▇▇▇██▇▇▇██▇▇▆▇▇▇▇▇▇▇█▇▇███</td></tr><tr><td>test_accuracy</td><td>▁▁▁▁▁▂▇▂▂▁▂▆▄█▄▃▃█▅▇▂▂▂▁█▅▆▄▂▇▆▃█▁█▃▃▂▇▆</td></tr><tr><td>test_c_loss</td><td>▂▂▁▄▅▃▃▃▅█▂▄▄▂▅▄▃▁▄▅▃▃▄▅▂▂▄▃▄▂▁▃▃▅▃▃▅▅▃▂</td></tr><tr><td>test_d_loss</td><td>▅▅▄▄▆▁█▄▄▅▂▃▃▂▄▁▄▂▁▂▄▂▄▂▂▅▅▄▃▂▄▂▃▅▂▄▄▂▅▃</td></tr><tr><td>test_g_loss</td><td>▆▆▆▆▆▇▇▇▆▇▇▇▆▇▂▂▅▁▆▇▆▇▅▇▇▆█▇▆▆▆██▆█▅█▇▇▇</td></tr><tr><td>test_imp_loss</td><td>▄▂▄▃▄▃▂▅▂▄▂▂▂▅▁▁▄▁▃▄▂▁▄█▁▂▁▂▃▁▂▂▁▄▂▂▁▃▂▁</td></tr><tr><td>test_reg_loss</td><td>▁▂▄▄▅▅▅▅▆▅▅▅▅▇▇▇▇█▇▇▇▇██▆▇▆▆▇▇▇▇▇▇▇▇▇███</td></tr><tr><td>test_total_g_loss</td><td>▂▂▁▃▅▃▃▃▅█▂▄▄▂▅▄▃▁▄▅▃▃▄▅▂▂▄▃▄▂▁▃▃▅▃▃▅▅▃▂</td></tr><tr><td>total_g_loss</td><td>▁▁▁▁▁▃▁▁▂▂▂▁▁█▄▂▂▂▂▃▂▂▂▇▂▂▁▂▁▂▅▂▂▃▂▂▂▄▂▂</td></tr><tr><td>train_time</td><td>▁</td></tr><tr><td>val_accuracy</td><td>▁▁▁▁▁▂▇▂▃▁▂▅▄█▂▃▃▇▄▆▂▃▂▁█▆▅▃▂▅▇▄█▂█▃▄▂▇▆</td></tr><tr><td>val_c_loss</td><td>▂▂▂▄▅▃▃▃▅█▂▅▄▂▅▄▄▁▄▅▃▃▄▅▂▂▄▄▄▃▁▄▃▅▃▃▅▅▄▂</td></tr><tr><td>val_d_loss</td><td>▆▆▅▅▇▂█▅▇▇▃▅▄▄▆▁▅▂▃▃▅▃▄▃▂▅▇▅▄▄▆▃▄▆▃█▅▃▅▄</td></tr><tr><td>val_g_loss</td><td>▅▅▅▆▄▆▅▇▄▆▆▆▅▆▂▃▃▁▅▇▅▇▅▆▆▆▇▆▄▄▅██▆█▃█▇▇▆</td></tr><tr><td>val_imp_loss</td><td>▄▂▄▃▄▃▂▅▂▄▂▂▂▅▁▁▄▁▃▄▁▁▄█▁▂▁▂▃▁▃▂▁▄▂▂▁▃▂▂</td></tr><tr><td>val_reg_loss</td><td>▁▂▄▄▅▅▅▅▆▅▅▅▅▇▇▇▇█▇▇▇▇██▆▇▆▆▇▇▇▇▇▇▇▇▇███</td></tr><tr><td>val_total_g_loss</td><td>▂▂▂▄▅▃▃▃▅█▂▅▄▂▅▄▄▁▄▅▃▃▄▅▂▂▄▄▄▃▁▄▃▅▃▃▅▅▄▂</td></tr></table><br/></div><div class=\"wandb-col\"><h3>Run summary:</h3><br/><table class=\"wandb\"><tr><td>accuracy</td><td>0.98547</td></tr><tr><td>best_val_epoch</td><td>492</td></tr><tr><td>c_loss</td><td>0.05521</td></tr><tr><td>d_loss</td><td>0.48052</td></tr><tr><td>epoch</td><td>599.0</td></tr><tr><td>g_loss</td><td>0.22092</td></tr><tr><td>imp_loss</td><td>0.01098</td></tr><tr><td>reg_loss</td><td>0.16604</td></tr><tr><td>test_accuracy</td><td>0.21796</td></tr><tr><td>test_c_loss</td><td>9.20259</td></tr><tr><td>test_d_loss</td><td>0.48555</td></tr><tr><td>test_g_loss</td><td>0.21932</td></tr><tr><td>test_imp_loss</td><td>0.00963</td></tr><tr><td>test_reg_loss</td><td>0.16475</td></tr><tr><td>test_total_g_loss</td><td>9.59628</td></tr><tr><td>total_g_loss</td><td>0.45315</td></tr><tr><td>train_time</td><td>57851.71</td></tr><tr><td>val_accuracy</td><td>0.15135</td></tr><tr><td>val_c_loss</td><td>10.09006</td></tr><tr><td>val_d_loss</td><td>0.49256</td></tr><tr><td>val_g_loss</td><td>0.22582</td></tr><tr><td>val_imp_loss</td><td>0.00973</td></tr><tr><td>val_reg_loss</td><td>0.16475</td></tr><tr><td>val_total_g_loss</td><td>10.49037</td></tr></table><br/></div></div>"
      ],
      "text/plain": [
       "<IPython.core.display.HTML object>"
      ]
     },
     "metadata": {},
     "output_type": "display_data"
    },
    {
     "data": {
      "text/html": [
       "Synced <strong style=\"color:#cdcd00\">stellar-bee-3</strong>: <a href=\"https://wandb.ai/barbanish/ajrnn/runs/28x5jm4x\" target=\"_blank\">https://wandb.ai/barbanish/ajrnn/runs/28x5jm4x</a><br/>Synced 5 W&B file(s), 0 media file(s), 0 artifact file(s) and 0 other file(s)"
      ],
      "text/plain": [
       "<IPython.core.display.HTML object>"
      ]
     },
     "metadata": {},
     "output_type": "display_data"
    },
    {
     "data": {
      "text/html": [
       "Find logs at: <code>./wandb/run-20221223_152201-28x5jm4x/logs</code>"
      ],
      "text/plain": [
       "<IPython.core.display.HTML object>"
      ]
     },
     "metadata": {},
     "output_type": "display_data"
    },
    {
     "name": "stdout",
     "output_type": "stream",
     "text": [
      "no overview week48/GRU128-G1-LR6-BS32/seed89\n"
     ]
    },
    {
     "data": {
      "application/vnd.jupyter.widget-view+json": {
       "model_id": "e2f06a4ca60941518b4429da2d3590c1",
       "version_major": 2,
       "version_minor": 0
      },
      "text/plain": [
       "VBox(children=(Label(value='Waiting for wandb.init()...\\r'), FloatProgress(value=0.016673809716788432, max=1.0…"
      ]
     },
     "metadata": {},
     "output_type": "display_data"
    },
    {
     "data": {
      "text/html": [
       "Tracking run with wandb version 0.13.7"
      ],
      "text/plain": [
       "<IPython.core.display.HTML object>"
      ]
     },
     "metadata": {},
     "output_type": "display_data"
    },
    {
     "data": {
      "text/html": [
       "Run data is saved locally in <code>/Users/donald/personal/AJ-RNN/results/wandb/run-20221223_152209-rjp9zki7</code>"
      ],
      "text/plain": [
       "<IPython.core.display.HTML object>"
      ]
     },
     "metadata": {},
     "output_type": "display_data"
    },
    {
     "data": {
      "text/html": [
       "Syncing run <strong><a href=\"https://wandb.ai/barbanish/ajrnn/runs/rjp9zki7\" target=\"_blank\">confused-wave-4</a></strong> to <a href=\"https://wandb.ai/barbanish/ajrnn\" target=\"_blank\">Weights & Biases</a> (<a href=\"https://wandb.me/run\" target=\"_blank\">docs</a>)<br/>"
      ],
      "text/plain": [
       "<IPython.core.display.HTML object>"
      ]
     },
     "metadata": {},
     "output_type": "display_data"
    },
    {
     "data": {
      "text/html": [
       "Waiting for W&B process to finish... <strong style=\"color:green\">(success).</strong>"
      ],
      "text/plain": [
       "<IPython.core.display.HTML object>"
      ]
     },
     "metadata": {},
     "output_type": "display_data"
    },
    {
     "data": {
      "application/vnd.jupyter.widget-view+json": {
       "model_id": "a1f467dcffe9492c8dcb02ff3099cdba",
       "version_major": 2,
       "version_minor": 0
      },
      "text/plain": [
       "VBox(children=(Label(value='0.001 MB of 0.001 MB uploaded (0.000 MB deduped)\\r'), FloatProgress(value=1.0, max…"
      ]
     },
     "metadata": {},
     "output_type": "display_data"
    },
    {
     "data": {
      "text/html": [
       "<style>\n",
       "    table.wandb td:nth-child(1) { padding: 0 10px; text-align: left ; width: auto;} td:nth-child(2) {text-align: left ; width: 100%}\n",
       "    .wandb-row { display: flex; flex-direction: row; flex-wrap: wrap; justify-content: flex-start; width: 100% }\n",
       "    .wandb-col { display: flex; flex-direction: column; flex-basis: 100%; flex: 1; padding: 10px; }\n",
       "    </style>\n",
       "<div class=\"wandb-row\"><div class=\"wandb-col\"><h3>Run history:</h3><br/><table class=\"wandb\"><tr><td>accuracy</td><td>▁▆▇▆▄▆▅▆█▇██▅█▇▇▆▆▆▅▆▆▅▇▆▅▇▆▇▇▅▆▇▇▆▆▆███</td></tr><tr><td>best_val_epoch</td><td>▁</td></tr><tr><td>c_loss</td><td>█▄▃▃▅▃▃▂▁▂▁▁▄▁▃▂▃▃▃▄▃▂▄▂▃▄▂▃▂▂▄▃▂▂▃▃▂▁▁▁</td></tr><tr><td>d_loss</td><td>██▇▇█▆▆▇▅▇▆▇▆▄▅▅▄▄▅▅▄▅▄▃▃▃▃▄▃▃▅▂▂▁▄▂▂▂▁▁</td></tr><tr><td>epoch</td><td>▁▁▁▁▂▂▂▂▂▃▃▃▃▃▃▄▄▄▄▄▅▅▅▅▅▅▆▆▆▆▆▆▇▇▇▇▇███</td></tr><tr><td>g_loss</td><td>▁▁▁▁███▁▁▁▁▂▂▂▂▁▂▂▆▇▆▃▄█▄████▇██▇▇▇█████</td></tr><tr><td>imp_loss</td><td>▁▁▁▁▃▄▃▂▂▂▂▂▁▂▃▃▃▃▃▄▃▃▃▄▄▆▆▅▅▅▅▇▆▆▅▇█▆▆▅</td></tr><tr><td>reg_loss</td><td>▁▁▂▂▃▃▃▄▄▄▄▄▅▅▅▅▅▅▆▆▆▆▆▆▆▇▇▇▇▇▇▇▇▇▇█████</td></tr><tr><td>test_accuracy</td><td>▁▃▂▃▇▆▅▅▄▄▄▄▅▃▅▄▅▆▇▇▇▆▇█▇▇▇▇█▇▇▇▇▇▇██▆██</td></tr><tr><td>test_c_loss</td><td>▇▆█▆▂▂▃▄▆▅▆▅▃▇▃▄▃▂▂▂▁▃▂▁▂▁▂▂▁▂▂▁▁▁▁▁▁▂▁▁</td></tr><tr><td>test_d_loss</td><td>▅▅▅▅▅▄▄▅▄▅▄█▄▄▄▄▄▃▄▄▃▄▃▂▃▂▂▃▂▂▃▂▂▁▃▂▂▁▁▁</td></tr><tr><td>test_g_loss</td><td>▁▁▁▁███▁▂▁▂▂▄▁▃▂▂▂▇▇▇▂▄█▃████▇██▇▆██████</td></tr><tr><td>test_imp_loss</td><td>▁▁▁▂▃▄▃▂▂▂▂▂▂▂▃▂▃▃▃▄▃▃▃▄▃▅▅▅▅▅▅▇▆▆▆▇█▆▆▅</td></tr><tr><td>test_reg_loss</td><td>▁▁▂▂▃▃▃▄▄▄▄▄▅▅▅▅▅▅▆▆▆▆▆▆▆▇▇▇▇▇▇▇▇▇▇█████</td></tr><tr><td>test_total_g_loss</td><td>▇▆█▆▂▂▂▃▆▅▆▅▃▇▃▃▃▂▁▂▁▂▁▁▂▁▁▂▁▁▂▁▁▁▁▁▁▂▁▁</td></tr><tr><td>total_g_loss</td><td>█▃▁▂▇▅▅▂▁▂▁▁▅▂▄▃▄▄▆▇▆▄▇▅▅█▅▆▆▅█▇▆▅▇▇▇▅▆▅</td></tr><tr><td>train_time</td><td>▁</td></tr><tr><td>val_accuracy</td><td>▁▂▂▃▇▆▅▄▄▄▄▄▅▃▅▄▅▆▇▇▇▆██▇█▇▇█▇██▇▇▇██▇██</td></tr><tr><td>val_c_loss</td><td>▇▇█▆▂▂▃▄▆▅▆▆▃█▄▅▃▂▂▁▂▂▁▁▂▁▁▂▁▂▁▁▁▂▁▁▁▂▁▁</td></tr><tr><td>val_d_loss</td><td>▅▅▅▄▅▄▄▅▄▄▄█▄▄▃▄▃▃▄▃▃▄▃▂▃▂▂▂▂▂▃▂▂▁▃▂▂▂▁▁</td></tr><tr><td>val_g_loss</td><td>▁▁▁▁███▁▂▁▁▂▄▁▃▂▂▂▇▆▆▂▄█▃███████▇▆██████</td></tr><tr><td>val_imp_loss</td><td>▁▁▁▂▃▄▃▂▂▂▂▂▂▂▃▂▃▃▃▄▃▃▃▄▃▅▅▅▅▅▅▇▆▆▆▇█▆▆▅</td></tr><tr><td>val_reg_loss</td><td>▁▁▂▂▃▃▃▄▄▄▄▄▅▅▅▅▅▅▆▆▆▆▆▆▆▇▇▇▇▇▇▇▇▇▇█████</td></tr><tr><td>val_total_g_loss</td><td>▇▇█▅▁▂▂▄▆▅▆▆▃█▄▄▃▂▁▁▁▂▁▁▁▁▁▂▁▂▁▁▁▂▁▁▁▂▁▁</td></tr></table><br/></div><div class=\"wandb-col\"><h3>Run summary:</h3><br/><table class=\"wandb\"><tr><td>accuracy</td><td>0.87563</td></tr><tr><td>best_val_epoch</td><td>578</td></tr><tr><td>c_loss</td><td>0.38846</td></tr><tr><td>d_loss</td><td>0.45557</td></tr><tr><td>epoch</td><td>599.0</td></tr><tr><td>g_loss</td><td>0.21669</td></tr><tr><td>imp_loss</td><td>0.02115</td></tr><tr><td>reg_loss</td><td>0.28654</td></tr><tr><td>test_accuracy</td><td>0.79571</td></tr><tr><td>test_c_loss</td><td>0.60311</td></tr><tr><td>test_d_loss</td><td>0.45914</td></tr><tr><td>test_g_loss</td><td>0.21919</td></tr><tr><td>test_imp_loss</td><td>0.02114</td></tr><tr><td>test_reg_loss</td><td>0.28642</td></tr><tr><td>test_total_g_loss</td><td>1.12985</td></tr><tr><td>total_g_loss</td><td>0.91284</td></tr><tr><td>train_time</td><td>34954.07</td></tr><tr><td>val_accuracy</td><td>0.814</td></tr><tr><td>val_c_loss</td><td>0.60091</td></tr><tr><td>val_d_loss</td><td>0.45676</td></tr><tr><td>val_g_loss</td><td>0.21805</td></tr><tr><td>val_imp_loss</td><td>0.02099</td></tr><tr><td>val_reg_loss</td><td>0.28642</td></tr><tr><td>val_total_g_loss</td><td>1.12636</td></tr></table><br/></div></div>"
      ],
      "text/plain": [
       "<IPython.core.display.HTML object>"
      ]
     },
     "metadata": {},
     "output_type": "display_data"
    },
    {
     "data": {
      "text/html": [
       "Synced <strong style=\"color:#cdcd00\">confused-wave-4</strong>: <a href=\"https://wandb.ai/barbanish/ajrnn/runs/rjp9zki7\" target=\"_blank\">https://wandb.ai/barbanish/ajrnn/runs/rjp9zki7</a><br/>Synced 5 W&B file(s), 0 media file(s), 0 artifact file(s) and 0 other file(s)"
      ],
      "text/plain": [
       "<IPython.core.display.HTML object>"
      ]
     },
     "metadata": {},
     "output_type": "display_data"
    },
    {
     "data": {
      "text/html": [
       "Find logs at: <code>./wandb/run-20221223_152209-rjp9zki7/logs</code>"
      ],
      "text/plain": [
       "<IPython.core.display.HTML object>"
      ]
     },
     "metadata": {},
     "output_type": "display_data"
    },
    {
     "data": {
      "application/vnd.jupyter.widget-view+json": {
       "model_id": "f3acc85ca17d4e4b849f54633b8ed2c4",
       "version_major": 2,
       "version_minor": 0
      },
      "text/plain": [
       "VBox(children=(Label(value='Waiting for wandb.init()...\\r'), FloatProgress(value=0.016752162498111525, max=1.0…"
      ]
     },
     "metadata": {},
     "output_type": "display_data"
    },
    {
     "data": {
      "text/html": [
       "Tracking run with wandb version 0.13.7"
      ],
      "text/plain": [
       "<IPython.core.display.HTML object>"
      ]
     },
     "metadata": {},
     "output_type": "display_data"
    },
    {
     "data": {
      "text/html": [
       "Run data is saved locally in <code>/Users/donald/personal/AJ-RNN/results/wandb/run-20221223_152216-2hh542pr</code>"
      ],
      "text/plain": [
       "<IPython.core.display.HTML object>"
      ]
     },
     "metadata": {},
     "output_type": "display_data"
    },
    {
     "data": {
      "text/html": [
       "Syncing run <strong><a href=\"https://wandb.ai/barbanish/ajrnn/runs/2hh542pr\" target=\"_blank\">brisk-salad-5</a></strong> to <a href=\"https://wandb.ai/barbanish/ajrnn\" target=\"_blank\">Weights & Biases</a> (<a href=\"https://wandb.me/run\" target=\"_blank\">docs</a>)<br/>"
      ],
      "text/plain": [
       "<IPython.core.display.HTML object>"
      ]
     },
     "metadata": {},
     "output_type": "display_data"
    },
    {
     "data": {
      "text/html": [
       "Waiting for W&B process to finish... <strong style=\"color:green\">(success).</strong>"
      ],
      "text/plain": [
       "<IPython.core.display.HTML object>"
      ]
     },
     "metadata": {},
     "output_type": "display_data"
    },
    {
     "data": {
      "application/vnd.jupyter.widget-view+json": {
       "model_id": "05eebb5a26aa4b83b09223d7952be646",
       "version_major": 2,
       "version_minor": 0
      },
      "text/plain": [
       "VBox(children=(Label(value='0.001 MB of 0.001 MB uploaded (0.000 MB deduped)\\r'), FloatProgress(value=1.0, max…"
      ]
     },
     "metadata": {},
     "output_type": "display_data"
    },
    {
     "data": {
      "text/html": [
       "<style>\n",
       "    table.wandb td:nth-child(1) { padding: 0 10px; text-align: left ; width: auto;} td:nth-child(2) {text-align: left ; width: 100%}\n",
       "    .wandb-row { display: flex; flex-direction: row; flex-wrap: wrap; justify-content: flex-start; width: 100% }\n",
       "    .wandb-col { display: flex; flex-direction: column; flex-basis: 100%; flex: 1; padding: 10px; }\n",
       "    </style>\n",
       "<div class=\"wandb-row\"><div class=\"wandb-col\"><h3>Run history:</h3><br/><table class=\"wandb\"><tr><td>accuracy</td><td>▁▂▁▃▃▃▄▄▄▅▅▄▅▅▅▄▅▅▅▅▅▅▅▆▇▇█▇▇███████████</td></tr><tr><td>best_val_epoch</td><td>▁</td></tr><tr><td>c_loss</td><td>▇▆█▆▅▆▅▄▅▄▄▄▄▄▄▄▄▄▄▃▃▄▃▃▂▂▁▂▁▁▁▁▁▁▁▁▁▁▁▁</td></tr><tr><td>d_loss</td><td>███████▆▆▆▆▆▆▆▅▅▅▄▄▄▄▄▄▃▂▂▂▂▂▂▂▁▁▁▂▁▁▁▁▁</td></tr><tr><td>epoch</td><td>▁▁▁▁▂▂▂▂▂▃▃▃▃▃▃▄▄▄▄▄▅▅▅▅▅▅▆▆▆▆▆▆▇▇▇▇▇███</td></tr><tr><td>g_loss</td><td>█▂███▇███▃▂▂▂▂▁▂▂▂▂▂▂▂▂▂▂▁▁▂▂▁▁▁▁▁▂▁▁▁▁▁</td></tr><tr><td>imp_loss</td><td>▁▂██▆▄▃▃▃▂▂▂▃▂▂▂▂▂▂▂▂▁▁▁▁▁▁▁▁▁▁▁▁▁▁▁▁▁▁▁</td></tr><tr><td>reg_loss</td><td>▁▂▃▃▃▄▅▅▆▆▆▇▇▇███████▇▇▇▇▇▆▆▆▆▆▆▆▆▆▆▆▆▅▆</td></tr><tr><td>test_accuracy</td><td>▃▁▄▃▇▆▆▅▇▆▆▆▇▆▅▆▅▇▆▅▅▅▆▆▇▆█▇▇█▇███▇█████</td></tr><tr><td>test_c_loss</td><td>▄█▃▄▂▂▂▃▁▂▂▂▂▂▂▁▂▂▂▂▂▂▂▂▂▃▁▂▂▁▂▁▁▁▂▁▁▁▁▁</td></tr><tr><td>test_d_loss</td><td>███████▆▆▇▆▅▆▅▅▅▅▄▄▆▄▄▄▃▃▂▂▂▂▂▂▂▁▂▂▁▂▁▁▁</td></tr><tr><td>test_g_loss</td><td>▃▂███████▂▂▂▁▂▁▂▂▂▁▂▂▂▃▂▁▂▁▂▂▁▁▁▁▁▂▁▁▁▁▁</td></tr><tr><td>test_imp_loss</td><td>▁▂▆█▅▄▃▃▃▂▂▂▃▂▂▂▂▂▂▂▂▂▂▂▁▂▁▁▁▁▁▁▁▁▁▂▁▁▁▁</td></tr><tr><td>test_reg_loss</td><td>▁▂▃▃▃▄▅▅▆▆▆▇▇▇███████▇▇▇▇▇▆▆▆▆▆▆▆▆▆▆▆▆▅▆</td></tr><tr><td>test_total_g_loss</td><td>▄█▃▄▂▂▂▃▁▂▂▂▂▂▂▂▂▂▂▂▂▂▂▂▂▃▁▂▂▁▂▁▁▁▂▁▁▁▁▁</td></tr><tr><td>total_g_loss</td><td>▆▅█▆▅▆▅▅▅▄▄▄▄▄▄▄▄▄▄▄▄▄▃▃▂▂▁▂▂▁▁▁▁▁▁▁▁▁▁▁</td></tr><tr><td>train_time</td><td>▁</td></tr><tr><td>val_accuracy</td><td>▂▁▄▂▆▆▅▄▇▅▅▆▆▅▅▆▅▆▅▄▅▅▅▇█▇█▇▇████▇██████</td></tr><tr><td>val_c_loss</td><td>▅█▃▄▂▂▂▃▁▂▂▂▂▂▃▂▂▂▂▂▂▂▂▁▁▂▁▂▂▁▁▁▁▁▁▁▁▁▁▁</td></tr><tr><td>val_d_loss</td><td>███████▆▆▆▆▅▆▅▅▅▅▄▄▆▄▄▄▃▃▂▂▂▂▂▁▁▁▂▂▁▁▁▁▁</td></tr><tr><td>val_g_loss</td><td>▃▂███████▂▃▂▁▂▁▂▂▂▁▁▂▂▃▂▂▂▁▂▂▁▁▁▁▁▂▁▁▁▁▁</td></tr><tr><td>val_imp_loss</td><td>▁▂▇█▅▄▃▃▃▂▂▂▃▂▂▂▂▂▂▂▂▂▂▂▂▂▂▁▁▁▁▁▁▁▁▂▁▁▁▁</td></tr><tr><td>val_reg_loss</td><td>▁▂▃▃▃▄▅▅▆▆▆▇▇▇███████▇▇▇▇▇▆▆▆▆▆▆▆▆▆▆▆▆▅▆</td></tr><tr><td>val_total_g_loss</td><td>▅█▃▄▂▂▂▃▁▂▂▂▂▂▃▂▂▂▂▃▂▂▂▁▁▂▁▂▂▁▁▁▁▁▁▁▁▁▁▁</td></tr></table><br/></div><div class=\"wandb-col\"><h3>Run summary:</h3><br/><table class=\"wandb\"><tr><td>accuracy</td><td>0.98057</td></tr><tr><td>best_val_epoch</td><td>588</td></tr><tr><td>c_loss</td><td>0.06053</td></tr><tr><td>d_loss</td><td>0.44865</td></tr><tr><td>epoch</td><td>599.0</td></tr><tr><td>g_loss</td><td>0.12007</td></tr><tr><td>imp_loss</td><td>0.0023</td></tr><tr><td>reg_loss</td><td>0.10145</td></tr><tr><td>test_accuracy</td><td>0.87564</td></tr><tr><td>test_c_loss</td><td>0.48956</td></tr><tr><td>test_d_loss</td><td>0.4542</td></tr><tr><td>test_g_loss</td><td>0.1181</td></tr><tr><td>test_imp_loss</td><td>0.00213</td></tr><tr><td>test_reg_loss</td><td>0.10133</td></tr><tr><td>test_total_g_loss</td><td>0.71113</td></tr><tr><td>total_g_loss</td><td>0.28435</td></tr><tr><td>train_time</td><td>37186.43</td></tr><tr><td>val_accuracy</td><td>0.84545</td></tr><tr><td>val_c_loss</td><td>0.73047</td></tr><tr><td>val_d_loss</td><td>0.45471</td></tr><tr><td>val_g_loss</td><td>0.12491</td></tr><tr><td>val_imp_loss</td><td>0.00231</td></tr><tr><td>val_reg_loss</td><td>0.10133</td></tr><tr><td>val_total_g_loss</td><td>0.95901</td></tr></table><br/></div></div>"
      ],
      "text/plain": [
       "<IPython.core.display.HTML object>"
      ]
     },
     "metadata": {},
     "output_type": "display_data"
    },
    {
     "data": {
      "text/html": [
       "Synced <strong style=\"color:#cdcd00\">brisk-salad-5</strong>: <a href=\"https://wandb.ai/barbanish/ajrnn/runs/2hh542pr\" target=\"_blank\">https://wandb.ai/barbanish/ajrnn/runs/2hh542pr</a><br/>Synced 5 W&B file(s), 0 media file(s), 0 artifact file(s) and 0 other file(s)"
      ],
      "text/plain": [
       "<IPython.core.display.HTML object>"
      ]
     },
     "metadata": {},
     "output_type": "display_data"
    },
    {
     "data": {
      "text/html": [
       "Find logs at: <code>./wandb/run-20221223_152216-2hh542pr/logs</code>"
      ],
      "text/plain": [
       "<IPython.core.display.HTML object>"
      ]
     },
     "metadata": {},
     "output_type": "display_data"
    },
    {
     "data": {
      "application/vnd.jupyter.widget-view+json": {
       "model_id": "85d26041c86d484ca05bd3335d4f7fe5",
       "version_major": 2,
       "version_minor": 0
      },
      "text/plain": [
       "VBox(children=(Label(value='Waiting for wandb.init()...\\r'), FloatProgress(value=0.016702587498972812, max=1.0…"
      ]
     },
     "metadata": {},
     "output_type": "display_data"
    },
    {
     "data": {
      "text/html": [
       "Tracking run with wandb version 0.13.7"
      ],
      "text/plain": [
       "<IPython.core.display.HTML object>"
      ]
     },
     "metadata": {},
     "output_type": "display_data"
    },
    {
     "data": {
      "text/html": [
       "Run data is saved locally in <code>/Users/donald/personal/AJ-RNN/results/wandb/run-20221223_152225-26yl5z0f</code>"
      ],
      "text/plain": [
       "<IPython.core.display.HTML object>"
      ]
     },
     "metadata": {},
     "output_type": "display_data"
    },
    {
     "data": {
      "text/html": [
       "Syncing run <strong><a href=\"https://wandb.ai/barbanish/ajrnn/runs/26yl5z0f\" target=\"_blank\">lunar-totem-6</a></strong> to <a href=\"https://wandb.ai/barbanish/ajrnn\" target=\"_blank\">Weights & Biases</a> (<a href=\"https://wandb.me/run\" target=\"_blank\">docs</a>)<br/>"
      ],
      "text/plain": [
       "<IPython.core.display.HTML object>"
      ]
     },
     "metadata": {},
     "output_type": "display_data"
    },
    {
     "data": {
      "text/html": [
       "Waiting for W&B process to finish... <strong style=\"color:green\">(success).</strong>"
      ],
      "text/plain": [
       "<IPython.core.display.HTML object>"
      ]
     },
     "metadata": {},
     "output_type": "display_data"
    },
    {
     "data": {
      "application/vnd.jupyter.widget-view+json": {
       "model_id": "8bb6abd907154a59ad8e1285d3e178e5",
       "version_major": 2,
       "version_minor": 0
      },
      "text/plain": [
       "VBox(children=(Label(value='0.001 MB of 0.001 MB uploaded (0.000 MB deduped)\\r'), FloatProgress(value=1.0, max…"
      ]
     },
     "metadata": {},
     "output_type": "display_data"
    },
    {
     "data": {
      "text/html": [
       "<style>\n",
       "    table.wandb td:nth-child(1) { padding: 0 10px; text-align: left ; width: auto;} td:nth-child(2) {text-align: left ; width: 100%}\n",
       "    .wandb-row { display: flex; flex-direction: row; flex-wrap: wrap; justify-content: flex-start; width: 100% }\n",
       "    .wandb-col { display: flex; flex-direction: column; flex-basis: 100%; flex: 1; padding: 10px; }\n",
       "    </style>\n",
       "<div class=\"wandb-row\"><div class=\"wandb-col\"><h3>Run history:</h3><br/><table class=\"wandb\"><tr><td>accuracy</td><td>▁▃▅▅▆▆▆▆▆▆▇▇▇▇▇▇▇▇▇▇▇▇▇▇▇▇▇▇▇▇▇█████████</td></tr><tr><td>best_val_epoch</td><td>▁</td></tr><tr><td>c_loss</td><td>█▅▄▄▃▃▃▃▃▃▃▃▃▂▂▂▂▂▂▂▂▂▂▂▂▂▂▂▂▂▂▁▁▁▁▁▁▁▁▁</td></tr><tr><td>d_loss</td><td>██▂▂▂▂▁▁▂▂▂▂▂▁▁▁▁▁▁▁▁▁▁▁▁▁▁▁▁▁▁▁▁▁▁▁▁▁▁▁</td></tr><tr><td>epoch</td><td>▁▁▁▁▂▂▂▂▂▃▃▃▃▃▃▄▄▄▄▄▅▅▅▅▅▅▆▆▆▆▆▆▇▇▇▇▇███</td></tr><tr><td>g_loss</td><td>▁▂▇█▇▇▇▇▇▇▇▇█████████████████████▇▇▇▇▇▇▇</td></tr><tr><td>imp_loss</td><td>▁▁▁▁▁▁▁▁▁▁▁▁▂▂▂▂▂▂▂▃▃▃▃▃▄▄▄▅▅▅▅▆▆▆▇▇▇▇██</td></tr><tr><td>reg_loss</td><td>█▇▆▅▄▃▃▂▂▂▂▁▁▁▁▁▁▁▁▁▁▁▁▁▁▁▁▁▂▂▂▂▂▂▂▂▂▂▂▃</td></tr><tr><td>test_accuracy</td><td>▁▆▇████████▇▇▇▇▇▇▇▇▇▇▇▇▇▇▇▇▇▇▇▇▇▇▇▆▆▆▆▆▆</td></tr><tr><td>test_c_loss</td><td>█▅▃▂▂▂▁▁▁▁▁▁▁▂▂▂▂▂▁▁▁▁▁▁▁▁▁▁▁▁▁▁▁▁▁▁▁▂▂▂</td></tr><tr><td>test_d_loss</td><td>█▆▁▁▂▂▂▂▂▂▂▂▁▁▁▁▁▁▁▁▁▁▁▂▂▂▂▂▂▂▂▂▂▂▂▂▂▂▂▂</td></tr><tr><td>test_g_loss</td><td>▁▂██▇▇▇▇▇▇▇▇█████████████████████▇▇▇▇▇▇▇</td></tr><tr><td>test_imp_loss</td><td>▁▁▁▁▁▁▁▁▁▁▁▁▂▂▂▂▂▂▂▃▃▃▃▃▃▄▄▄▅▅▅▆▆▆▇▇▇▇██</td></tr><tr><td>test_reg_loss</td><td>█▇▆▅▄▃▃▂▂▂▂▁▁▁▁▁▁▁▁▁▁▁▁▁▁▁▁▁▂▂▂▂▂▂▂▂▂▂▂▃</td></tr><tr><td>test_total_g_loss</td><td>█▅▃▂▂▂▁▁▁▁▁▁▂▂▂▂▂▂▁▁▁▁▁▁▁▁▁▁▁▁▁▁▁▁▁▁▁▂▂▂</td></tr><tr><td>total_g_loss</td><td>█▅▄▄▃▃▃▃▃▃▃▃▃▂▂▂▂▂▂▂▂▂▂▂▂▂▂▂▂▂▂▁▁▁▁▁▁▁▁▁</td></tr><tr><td>train_time</td><td>▁</td></tr><tr><td>val_accuracy</td><td>▁▅▇▇██████████▇▇▇▇▇▇▇▇▇▇▇▇▇▇▇▇▇▇▇▇▇▇▆▆▆▆</td></tr><tr><td>val_c_loss</td><td>█▅▃▂▂▁▁▁▁▁▁▁▁▁▁▁▁▁▁▁▁▁▁▁▁▁▁▁▁▁▁▁▁▂▂▂▂▂▂▃</td></tr><tr><td>val_d_loss</td><td>█▇▁▁▂▂▂▂▂▂▂▂▁▁▁▁▁▁▁▁▁▁▁▁▁▁▁▁▁▁▁▁▁▂▂▂▂▂▂▂</td></tr><tr><td>val_g_loss</td><td>▁▂██▇▇▇▇▇▇▇▇█████████████████████▇▇▇▇▇▇▇</td></tr><tr><td>val_imp_loss</td><td>▁▁▁▁▁▁▁▁▁▁▁▁▁▂▂▂▂▂▂▂▃▃▃▃▃▄▄▄▅▅▅▆▆▆▇▇▇▇██</td></tr><tr><td>val_reg_loss</td><td>█▇▆▅▄▃▃▂▂▂▂▁▁▁▁▁▁▁▁▁▁▁▁▁▁▁▁▁▂▂▂▂▂▂▂▂▂▂▂▃</td></tr><tr><td>val_total_g_loss</td><td>█▅▃▂▂▁▁▁▁▁▁▁▁▁▁▁▁▁▁▁▁▁▁▁▁▁▁▁▁▁▁▁▁▂▂▂▂▂▂▃</td></tr></table><br/></div><div class=\"wandb-col\"><h3>Run summary:</h3><br/><table class=\"wandb\"><tr><td>accuracy</td><td>0.88053</td></tr><tr><td>best_val_epoch</td><td>90</td></tr><tr><td>c_loss</td><td>0.35006</td></tr><tr><td>d_loss</td><td>0.49215</td></tr><tr><td>epoch</td><td>599.0</td></tr><tr><td>g_loss</td><td>0.21589</td></tr><tr><td>imp_loss</td><td>0.00034</td></tr><tr><td>reg_loss</td><td>0.00779</td></tr><tr><td>test_accuracy</td><td>0.73635</td></tr><tr><td>test_c_loss</td><td>0.687</td></tr><tr><td>test_d_loss</td><td>0.49729</td></tr><tr><td>test_g_loss</td><td>0.21854</td></tr><tr><td>test_imp_loss</td><td>0.00033</td></tr><tr><td>test_reg_loss</td><td>0.00779</td></tr><tr><td>test_total_g_loss</td><td>0.91366</td></tr><tr><td>total_g_loss</td><td>0.57408</td></tr><tr><td>train_time</td><td>110465.78</td></tr><tr><td>val_accuracy</td><td>0.73145</td></tr><tr><td>val_c_loss</td><td>0.73669</td></tr><tr><td>val_d_loss</td><td>0.49492</td></tr><tr><td>val_g_loss</td><td>0.21609</td></tr><tr><td>val_imp_loss</td><td>0.00034</td></tr><tr><td>val_reg_loss</td><td>0.00779</td></tr><tr><td>val_total_g_loss</td><td>0.96091</td></tr></table><br/></div></div>"
      ],
      "text/plain": [
       "<IPython.core.display.HTML object>"
      ]
     },
     "metadata": {},
     "output_type": "display_data"
    },
    {
     "data": {
      "text/html": [
       "Synced <strong style=\"color:#cdcd00\">lunar-totem-6</strong>: <a href=\"https://wandb.ai/barbanish/ajrnn/runs/26yl5z0f\" target=\"_blank\">https://wandb.ai/barbanish/ajrnn/runs/26yl5z0f</a><br/>Synced 5 W&B file(s), 0 media file(s), 0 artifact file(s) and 0 other file(s)"
      ],
      "text/plain": [
       "<IPython.core.display.HTML object>"
      ]
     },
     "metadata": {},
     "output_type": "display_data"
    },
    {
     "data": {
      "text/html": [
       "Find logs at: <code>./wandb/run-20221223_152225-26yl5z0f/logs</code>"
      ],
      "text/plain": [
       "<IPython.core.display.HTML object>"
      ]
     },
     "metadata": {},
     "output_type": "display_data"
    },
    {
     "name": "stdout",
     "output_type": "stream",
     "text": [
      "no overview week48/GRU128-G5-LR6-BS32-REG-DROP/seed89\n"
     ]
    },
    {
     "data": {
      "application/vnd.jupyter.widget-view+json": {
       "model_id": "2397eb19b9164a439ca3348210c6cd59",
       "version_major": 2,
       "version_minor": 0
      },
      "text/plain": [
       "VBox(children=(Label(value='Waiting for wandb.init()...\\r'), FloatProgress(value=0.016716493060812354, max=1.0…"
      ]
     },
     "metadata": {},
     "output_type": "display_data"
    },
    {
     "data": {
      "text/html": [
       "Tracking run with wandb version 0.13.7"
      ],
      "text/plain": [
       "<IPython.core.display.HTML object>"
      ]
     },
     "metadata": {},
     "output_type": "display_data"
    },
    {
     "data": {
      "text/html": [
       "Run data is saved locally in <code>/Users/donald/personal/AJ-RNN/results/wandb/run-20221223_152233-2q0n9htu</code>"
      ],
      "text/plain": [
       "<IPython.core.display.HTML object>"
      ]
     },
     "metadata": {},
     "output_type": "display_data"
    },
    {
     "data": {
      "text/html": [
       "Syncing run <strong><a href=\"https://wandb.ai/barbanish/ajrnn/runs/2q0n9htu\" target=\"_blank\">silver-bird-7</a></strong> to <a href=\"https://wandb.ai/barbanish/ajrnn\" target=\"_blank\">Weights & Biases</a> (<a href=\"https://wandb.me/run\" target=\"_blank\">docs</a>)<br/>"
      ],
      "text/plain": [
       "<IPython.core.display.HTML object>"
      ]
     },
     "metadata": {},
     "output_type": "display_data"
    },
    {
     "data": {
      "text/html": [
       "Waiting for W&B process to finish... <strong style=\"color:green\">(success).</strong>"
      ],
      "text/plain": [
       "<IPython.core.display.HTML object>"
      ]
     },
     "metadata": {},
     "output_type": "display_data"
    },
    {
     "data": {
      "application/vnd.jupyter.widget-view+json": {
       "model_id": "af813b8adbb24cbfb2abf078c8538d5e",
       "version_major": 2,
       "version_minor": 0
      },
      "text/plain": [
       "VBox(children=(Label(value='0.001 MB of 0.001 MB uploaded (0.000 MB deduped)\\r'), FloatProgress(value=1.0, max…"
      ]
     },
     "metadata": {},
     "output_type": "display_data"
    },
    {
     "data": {
      "text/html": [
       "<style>\n",
       "    table.wandb td:nth-child(1) { padding: 0 10px; text-align: left ; width: auto;} td:nth-child(2) {text-align: left ; width: 100%}\n",
       "    .wandb-row { display: flex; flex-direction: row; flex-wrap: wrap; justify-content: flex-start; width: 100% }\n",
       "    .wandb-col { display: flex; flex-direction: column; flex-basis: 100%; flex: 1; padding: 10px; }\n",
       "    </style>\n",
       "<div class=\"wandb-row\"><div class=\"wandb-col\"><h3>Run history:</h3><br/><table class=\"wandb\"><tr><td>accuracy</td><td>▁▂▄▄▅▅▅▅▅▆▆▆▆▆▆▆▆▆▆▆▆▇▇▇▇▇▇▇████████████</td></tr><tr><td>best_val_epoch</td><td>▁</td></tr><tr><td>c_loss</td><td>█▆▅▄▄▄▄▄▃▃▃▃▃▃▃▃▃▃▃▃▃▂▂▂▂▂▂▂▂▂▁▁▁▁▁▁▁▁▁▁</td></tr><tr><td>d_loss</td><td>█▇▂▂▂▁▁▁▁▁▁▁▂▂▂▂▂▂▂▂▂▂▂▂▂▁▁▁▁▁▁▁▁▁▁▁▁▁▁▂</td></tr><tr><td>epoch</td><td>▁▁▁▁▂▂▂▂▂▃▃▃▃▃▃▄▄▄▄▄▅▅▅▅▅▅▆▆▆▆▆▆▇▇▇▇▇███</td></tr><tr><td>g_loss</td><td>▁▁█▇▇▇▇▇▇▇▇█████████████████████████████</td></tr><tr><td>imp_loss</td><td>▁▁▁▁▁▁▁▁▁▁▁▂▂▂▂▂▂▂▂▃▃▃▃▄▅▅▆▆▇▇▇█████████</td></tr><tr><td>reg_loss</td><td>▁▁▁▁▂▂▂▂▂▂▂▂▃▃▃▃▃▄▄▄▄▄▅▅▅▅▅▆▆▆▆▆▆▇▇▇▇███</td></tr><tr><td>test_accuracy</td><td>▁▆▆▇▇▇▇▇▇▇▇▇██████████▇▇▇▆▆▆▅▅▅▅▅▅▅▅▅▅▅▄</td></tr><tr><td>test_c_loss</td><td>█▅▄▃▃▂▂▂▂▂▂▂▁▁▁▁▁▁▁▁▁▁▁▁▂▂▂▃▃▃▄▄▄▄▄▄▄▅▅▅</td></tr><tr><td>test_d_loss</td><td>██▂▃▂▂▂▂▂▂▂▁▁▁▁▁▁▁▁▁▁▁▁▁▁▁▁▁▁▁▁▁▁▁▁▁▁▁▁▁</td></tr><tr><td>test_g_loss</td><td>▁▁▇▆▇▇▇▇▇▇▇█████████████████████████████</td></tr><tr><td>test_imp_loss</td><td>▁▁▁▁▁▁▁▁▁▁▁▁▂▂▂▂▂▂▂▃▃▃▃▄▅▅▆▆▇▇██████████</td></tr><tr><td>test_reg_loss</td><td>▁▁▁▁▂▂▂▂▂▂▂▂▃▃▃▃▃▄▄▄▄▄▅▅▅▅▅▆▆▆▆▆▆▇▇▇▇███</td></tr><tr><td>test_total_g_loss</td><td>▁▁▁▁▁▁▁▂▂▂▂▂▂▂▃▃▃▃▃▄▄▄▄▄▅▅▅▅▆▆▆▆▆▇▇▇▇▇██</td></tr><tr><td>total_g_loss</td><td>▁▁▁▁▁▁▂▂▂▂▂▂▂▃▃▃▃▃▄▄▄▄▄▅▅▅▅▅▆▆▆▆▆▇▇▇▇███</td></tr><tr><td>train_time</td><td>▁</td></tr><tr><td>val_accuracy</td><td>▁▄▅▆▆▇▇▇███████████████▇▇▇▇▆▆▆▆▆▅▅▅▅▄▄▃▃</td></tr><tr><td>val_c_loss</td><td>█▆▄▃▂▂▂▂▂▁▁▁▁▁▁▁▁▁▁▁▁▁▁▁▂▂▂▂▃▃▃▄▄▄▄▅▅▅▆▆</td></tr><tr><td>val_d_loss</td><td>██▂▂▂▂▂▂▂▂▂▁▁▁▁▁▁▁▁▁▁▁▁▁▁▁▁▁▁▁▁▁▁▁▁▁▁▁▁▁</td></tr><tr><td>val_g_loss</td><td>▁▁▇▇▇▇▇▇▇▇▇█████████████████████████████</td></tr><tr><td>val_imp_loss</td><td>▁▁▁▁▁▁▁▁▁▁▁▁▂▂▂▂▂▂▂▂▃▃▃▄▅▅▆▆▇▇██████████</td></tr><tr><td>val_reg_loss</td><td>▁▁▁▁▂▂▂▂▂▂▂▂▃▃▃▃▃▄▄▄▄▄▅▅▅▅▅▆▆▆▆▆▆▇▇▇▇███</td></tr><tr><td>val_total_g_loss</td><td>▁▁▁▁▁▁▁▁▂▂▂▂▂▂▃▃▃▃▃▄▄▄▄▄▅▅▅▅▆▆▆▆▆▇▇▇▇▇██</td></tr></table><br/></div><div class=\"wandb-col\"><h3>Run summary:</h3><br/><table class=\"wandb\"><tr><td>accuracy</td><td>0.89689</td></tr><tr><td>best_val_epoch</td><td>256</td></tr><tr><td>c_loss</td><td>0.31618</td></tr><tr><td>d_loss</td><td>0.49229</td></tr><tr><td>epoch</td><td>599.0</td></tr><tr><td>g_loss</td><td>0.21635</td></tr><tr><td>imp_loss</td><td>0.00047</td></tr><tr><td>reg_loss</td><td>4.6074</td></tr><tr><td>test_accuracy</td><td>0.69593</td></tr><tr><td>test_c_loss</td><td>0.87488</td></tr><tr><td>test_d_loss</td><td>0.49681</td></tr><tr><td>test_g_loss</td><td>0.21923</td></tr><tr><td>test_imp_loss</td><td>0.00048</td></tr><tr><td>test_reg_loss</td><td>4.61886</td></tr><tr><td>test_total_g_loss</td><td>5.71344</td></tr><tr><td>total_g_loss</td><td>5.14041</td></tr><tr><td>train_time</td><td>107512.4</td></tr><tr><td>val_accuracy</td><td>0.6739</td></tr><tr><td>val_c_loss</td><td>0.91527</td></tr><tr><td>val_d_loss</td><td>0.49455</td></tr><tr><td>val_g_loss</td><td>0.21674</td></tr><tr><td>val_imp_loss</td><td>0.00049</td></tr><tr><td>val_reg_loss</td><td>4.61886</td></tr><tr><td>val_total_g_loss</td><td>5.75137</td></tr></table><br/></div></div>"
      ],
      "text/plain": [
       "<IPython.core.display.HTML object>"
      ]
     },
     "metadata": {},
     "output_type": "display_data"
    },
    {
     "data": {
      "text/html": [
       "Synced <strong style=\"color:#cdcd00\">silver-bird-7</strong>: <a href=\"https://wandb.ai/barbanish/ajrnn/runs/2q0n9htu\" target=\"_blank\">https://wandb.ai/barbanish/ajrnn/runs/2q0n9htu</a><br/>Synced 5 W&B file(s), 0 media file(s), 0 artifact file(s) and 0 other file(s)"
      ],
      "text/plain": [
       "<IPython.core.display.HTML object>"
      ]
     },
     "metadata": {},
     "output_type": "display_data"
    },
    {
     "data": {
      "text/html": [
       "Find logs at: <code>./wandb/run-20221223_152233-2q0n9htu/logs</code>"
      ],
      "text/plain": [
       "<IPython.core.display.HTML object>"
      ]
     },
     "metadata": {},
     "output_type": "display_data"
    },
    {
     "data": {
      "application/vnd.jupyter.widget-view+json": {
       "model_id": "2ac99270f5064f698e61f5b663215ada",
       "version_major": 2,
       "version_minor": 0
      },
      "text/plain": [
       "VBox(children=(Label(value='Waiting for wandb.init()...\\r'), FloatProgress(value=0.016692531248554587, max=1.0…"
      ]
     },
     "metadata": {},
     "output_type": "display_data"
    },
    {
     "data": {
      "text/html": [
       "Tracking run with wandb version 0.13.7"
      ],
      "text/plain": [
       "<IPython.core.display.HTML object>"
      ]
     },
     "metadata": {},
     "output_type": "display_data"
    },
    {
     "data": {
      "text/html": [
       "Run data is saved locally in <code>/Users/donald/personal/AJ-RNN/results/wandb/run-20221223_152241-20xceyjq</code>"
      ],
      "text/plain": [
       "<IPython.core.display.HTML object>"
      ]
     },
     "metadata": {},
     "output_type": "display_data"
    },
    {
     "data": {
      "text/html": [
       "Syncing run <strong><a href=\"https://wandb.ai/barbanish/ajrnn/runs/20xceyjq\" target=\"_blank\">youthful-water-8</a></strong> to <a href=\"https://wandb.ai/barbanish/ajrnn\" target=\"_blank\">Weights & Biases</a> (<a href=\"https://wandb.me/run\" target=\"_blank\">docs</a>)<br/>"
      ],
      "text/plain": [
       "<IPython.core.display.HTML object>"
      ]
     },
     "metadata": {},
     "output_type": "display_data"
    },
    {
     "data": {
      "text/html": [
       "Waiting for W&B process to finish... <strong style=\"color:green\">(success).</strong>"
      ],
      "text/plain": [
       "<IPython.core.display.HTML object>"
      ]
     },
     "metadata": {},
     "output_type": "display_data"
    },
    {
     "data": {
      "application/vnd.jupyter.widget-view+json": {
       "model_id": "07ee4cc115fb4dd6915666609c71bd16",
       "version_major": 2,
       "version_minor": 0
      },
      "text/plain": [
       "VBox(children=(Label(value='0.001 MB of 0.001 MB uploaded (0.000 MB deduped)\\r'), FloatProgress(value=1.0, max…"
      ]
     },
     "metadata": {},
     "output_type": "display_data"
    },
    {
     "data": {
      "text/html": [
       "<style>\n",
       "    table.wandb td:nth-child(1) { padding: 0 10px; text-align: left ; width: auto;} td:nth-child(2) {text-align: left ; width: 100%}\n",
       "    .wandb-row { display: flex; flex-direction: row; flex-wrap: wrap; justify-content: flex-start; width: 100% }\n",
       "    .wandb-col { display: flex; flex-direction: column; flex-basis: 100%; flex: 1; padding: 10px; }\n",
       "    </style>\n",
       "<div class=\"wandb-row\"><div class=\"wandb-col\"><h3>Run history:</h3><br/><table class=\"wandb\"><tr><td>accuracy</td><td>▁▃▅▆▆▆▆▆▆▆▆▆▆▇▇▇▇▇▇▇▇▇▇▇▇▇▇▇▇▇▇▇▇███████</td></tr><tr><td>best_val_epoch</td><td>▁</td></tr><tr><td>c_loss</td><td>█▅▄▃▃▃▃▃▃▃▃▂▂▂▂▂▂▂▂▂▂▂▂▂▂▂▂▂▂▂▁▁▁▁▁▁▁▁▁▁</td></tr><tr><td>d_loss</td><td>▁▂▄▄▄▄▄▄▂▂▂▁▁▂▂▂▃▃▄▅▅▅▅▅▅▅▅▅▇█▇▆▆▆▆▆▆▆▆▅</td></tr><tr><td>epoch</td><td>▁▁▁▁▂▂▂▂▂▃▃▃▃▃▃▄▄▄▄▄▅▅▅▅▅▅▆▆▆▆▆▆▇▇▇▇▇███</td></tr><tr><td>g_loss</td><td>█▇▄▄▄▄▄▄▅▅▅▆▆▅▅▅▅▅▄▃▃▃▃▃▃▃▃▃▂▁▂▂▂▂▂▂▂▂▂▃</td></tr><tr><td>imp_loss</td><td>▁▁▁▁▁▂▂▂▂▂▂▂▂▂▂▂▃▃▃▃▃▄▄▄▄▅▅▅▆▆▆▆▇▇▇▇▇███</td></tr><tr><td>reg_loss</td><td>▁▁▁▂▂▂▂▂▂▂▂▂▃▃▃▃▃▃▄▄▄▄▄▄▅▅▅▅▆▆▆▆▆▇▇▇▇███</td></tr><tr><td>test_accuracy</td><td>▁▇▇███████████████████████▇▇▇▇▇▆▆▆▆▅▅▅▅▅</td></tr><tr><td>test_c_loss</td><td>█▅▂▂▁▁▁▁▁▁▁▁▁▁▁▁▁▁▁▁▁▁▁▁▁▁▁▁▁▁▂▂▂▂▂▂▂▃▃▃</td></tr><tr><td>test_d_loss</td><td>▇▇▁▁▁▁▁▁▂▂▂▂▂▂▂▂▁▁▃▃▃▃▃▃▅▅▅▅██▆▆▆▆▆▆▆▆▆▇</td></tr><tr><td>test_g_loss</td><td>█▇▅▅▅▅▅▅▆▆▆▇▇▆▆▆▆▆▅▄▄▄▄▄▄▄▄▄▂▁▂▃▃▃▃▃▃▃▃▃</td></tr><tr><td>test_imp_loss</td><td>▁▁▁▁▁▂▂▂▂▂▂▂▂▂▂▂▂▃▃▃▃▃▄▄▄▅▅▅▅▆▆▆▆▇▇▇▇███</td></tr><tr><td>test_reg_loss</td><td>▁▁▁▂▂▂▂▂▂▂▂▂▃▃▃▃▃▃▄▄▄▄▄▄▅▅▅▅▆▆▆▆▆▇▇▇▇███</td></tr><tr><td>test_total_g_loss</td><td>▁▁▁▁▁▁▁▂▂▂▂▂▂▂▂▃▃▃▃▃▃▄▄▄▄▅▅▅▅▅▆▆▆▆▇▇▇▇██</td></tr><tr><td>total_g_loss</td><td>▁▁▁▁▁▁▁▂▂▂▂▂▂▂▃▃▃▃▃▃▄▄▄▄▄▅▅▅▅▆▆▆▆▆▇▇▇▇██</td></tr><tr><td>train_time</td><td>▁</td></tr><tr><td>val_accuracy</td><td>▁▇█████████████████████████▇▇▇▇▇▇▆▆▆▅▅▅▅</td></tr><tr><td>val_c_loss</td><td>█▄▂▂▁▁▁▁▁▁▁▁▁▁▁▁▁▁▁▁▁▁▁▁▁▁▂▂▂▂▂▂▃▃▃▄▄▄▄▄</td></tr><tr><td>val_d_loss</td><td>▂▄▆▆▆▆▆▆▃▃▃▁▁▃▃▃▅▅▅▇▇▇▇▇▅▅▅▅▆██▆▆▆▆▆▆▆▆▄</td></tr><tr><td>val_g_loss</td><td>█▇▄▄▄▄▄▄▆▆▆▇▇▆▆▆▅▅▄▃▃▃▃▃▃▃▃▃▂▁▂▃▃▃▃▃▃▃▃▃</td></tr><tr><td>val_imp_loss</td><td>▁▁▁▂▂▂▂▂▂▂▂▂▂▂▃▃▃▃▃▃▃▄▄▄▄▅▅▅▅▆▆▆▆▇▇▇▇███</td></tr><tr><td>val_reg_loss</td><td>▁▁▁▂▂▂▂▂▂▂▂▂▃▃▃▃▃▃▄▄▄▄▄▄▅▅▅▅▆▆▆▆▆▇▇▇▇███</td></tr><tr><td>val_total_g_loss</td><td>▁▁▁▁▁▁▁▂▂▂▂▂▂▂▂▃▃▃▃▃▃▄▄▄▄▄▅▅▅▅▆▆▆▆▇▇▇▇██</td></tr></table><br/></div><div class=\"wandb-col\"><h3>Run summary:</h3><br/><table class=\"wandb\"><tr><td>accuracy</td><td>0.89304</td></tr><tr><td>best_val_epoch</td><td>47</td></tr><tr><td>c_loss</td><td>0.33356</td></tr><tr><td>d_loss</td><td>0.49447</td></tr><tr><td>epoch</td><td>599.0</td></tr><tr><td>g_loss</td><td>0.2151</td></tr><tr><td>imp_loss</td><td>0.00039</td></tr><tr><td>reg_loss</td><td>4.03472</td></tr><tr><td>test_accuracy</td><td>0.69254</td></tr><tr><td>test_c_loss</td><td>0.73437</td></tr><tr><td>test_d_loss</td><td>0.49073</td></tr><tr><td>test_g_loss</td><td>0.21484</td></tr><tr><td>test_imp_loss</td><td>0.00039</td></tr><tr><td>test_reg_loss</td><td>4.04233</td></tr><tr><td>test_total_g_loss</td><td>4.99193</td></tr><tr><td>total_g_loss</td><td>4.58378</td></tr><tr><td>train_time</td><td>107653.91</td></tr><tr><td>val_accuracy</td><td>0.6321</td></tr><tr><td>val_c_loss</td><td>1.00964</td></tr><tr><td>val_d_loss</td><td>0.49559</td></tr><tr><td>val_g_loss</td><td>0.22161</td></tr><tr><td>val_imp_loss</td><td>0.00033</td></tr><tr><td>val_reg_loss</td><td>4.04233</td></tr><tr><td>val_total_g_loss</td><td>5.27391</td></tr></table><br/></div></div>"
      ],
      "text/plain": [
       "<IPython.core.display.HTML object>"
      ]
     },
     "metadata": {},
     "output_type": "display_data"
    },
    {
     "data": {
      "text/html": [
       "Synced <strong style=\"color:#cdcd00\">youthful-water-8</strong>: <a href=\"https://wandb.ai/barbanish/ajrnn/runs/20xceyjq\" target=\"_blank\">https://wandb.ai/barbanish/ajrnn/runs/20xceyjq</a><br/>Synced 5 W&B file(s), 0 media file(s), 0 artifact file(s) and 0 other file(s)"
      ],
      "text/plain": [
       "<IPython.core.display.HTML object>"
      ]
     },
     "metadata": {},
     "output_type": "display_data"
    },
    {
     "data": {
      "text/html": [
       "Find logs at: <code>./wandb/run-20221223_152241-20xceyjq/logs</code>"
      ],
      "text/plain": [
       "<IPython.core.display.HTML object>"
      ]
     },
     "metadata": {},
     "output_type": "display_data"
    },
    {
     "data": {
      "application/vnd.jupyter.widget-view+json": {
       "model_id": "2d4626fd22c54c9188189f376b89f188",
       "version_major": 2,
       "version_minor": 0
      },
      "text/plain": [
       "VBox(children=(Label(value='Waiting for wandb.init()...\\r'), FloatProgress(value=0.016751543750676015, max=1.0…"
      ]
     },
     "metadata": {},
     "output_type": "display_data"
    },
    {
     "data": {
      "text/html": [
       "Tracking run with wandb version 0.13.7"
      ],
      "text/plain": [
       "<IPython.core.display.HTML object>"
      ]
     },
     "metadata": {},
     "output_type": "display_data"
    },
    {
     "data": {
      "text/html": [
       "Run data is saved locally in <code>/Users/donald/personal/AJ-RNN/results/wandb/run-20221223_152249-2el6w04y</code>"
      ],
      "text/plain": [
       "<IPython.core.display.HTML object>"
      ]
     },
     "metadata": {},
     "output_type": "display_data"
    },
    {
     "data": {
      "text/html": [
       "Syncing run <strong><a href=\"https://wandb.ai/barbanish/ajrnn/runs/2el6w04y\" target=\"_blank\">fragrant-cloud-9</a></strong> to <a href=\"https://wandb.ai/barbanish/ajrnn\" target=\"_blank\">Weights & Biases</a> (<a href=\"https://wandb.me/run\" target=\"_blank\">docs</a>)<br/>"
      ],
      "text/plain": [
       "<IPython.core.display.HTML object>"
      ]
     },
     "metadata": {},
     "output_type": "display_data"
    },
    {
     "data": {
      "text/html": [
       "Waiting for W&B process to finish... <strong style=\"color:green\">(success).</strong>"
      ],
      "text/plain": [
       "<IPython.core.display.HTML object>"
      ]
     },
     "metadata": {},
     "output_type": "display_data"
    },
    {
     "data": {
      "application/vnd.jupyter.widget-view+json": {
       "model_id": "223ddd16733d4367853269735a8f0879",
       "version_major": 2,
       "version_minor": 0
      },
      "text/plain": [
       "VBox(children=(Label(value='0.001 MB of 0.001 MB uploaded (0.000 MB deduped)\\r'), FloatProgress(value=1.0, max…"
      ]
     },
     "metadata": {},
     "output_type": "display_data"
    },
    {
     "data": {
      "text/html": [
       "<style>\n",
       "    table.wandb td:nth-child(1) { padding: 0 10px; text-align: left ; width: auto;} td:nth-child(2) {text-align: left ; width: 100%}\n",
       "    .wandb-row { display: flex; flex-direction: row; flex-wrap: wrap; justify-content: flex-start; width: 100% }\n",
       "    .wandb-col { display: flex; flex-direction: column; flex-basis: 100%; flex: 1; padding: 10px; }\n",
       "    </style>\n",
       "<div class=\"wandb-row\"><div class=\"wandb-col\"><h3>Run history:</h3><br/><table class=\"wandb\"><tr><td>accuracy</td><td>▁▄▆▇▇▇▇▇▇████████▇██████████████████████</td></tr><tr><td>best_val_epoch</td><td>▁</td></tr><tr><td>c_loss</td><td>█▅▃▃▂▂▂▂▂▂▂▂▁▁▁▂▂▂▂▂▁▁▁▁▁▁▁▁▁▁▁▁▁▁▁▁▁▁▁▁</td></tr><tr><td>d_loss</td><td>█▇▇▇▇▇▇▇▇▇▇▇▇▆▆▅▅▅▅▄▄▃▃▃▂▂▂▂▂▂▂▂▁▁▁▁▁▁▁▁</td></tr><tr><td>epoch</td><td>▁▁▁▁▂▂▂▂▂▃▃▃▃▃▃▄▄▄▄▄▅▅▅▅▅▅▆▆▆▆▆▆▇▇▇▇▇███</td></tr><tr><td>g_loss</td><td>█▅▅▅▄▄▄▄▄▄▄▄▄▄▃▃▃▃▃▃▃▂▂▂▂▂▂▂▁▁▁▁▁▁▁▁▁▁▁▁</td></tr><tr><td>imp_loss</td><td>▁▁▃▄▅▆▇██▇▇▆▆▆▅▆▆▆▆▆▆▆▆▆▆▇████████▇▇▇▆▅▄</td></tr><tr><td>reg_loss</td><td>▇▄▃▂▂▁▁▁▁▁▁▁▁▁▁▁▁▂▂▂▂▃▃▃▄▄▄▅▅▅▅▆▆▇▇▇████</td></tr><tr><td>test_accuracy</td><td>█▆▄▄▆▆▅▆▅▅▆▅▅▅▆▆▆▆▅▅▅▄▃▃▂▁▁▂▂▂▁▁▁▂▃▄▄▄▃▁</td></tr><tr><td>test_c_loss</td><td>▁▂▄▄▄▄▅▅▆▆▇▇████▇██▇▇▆▆▆▇▇▇▇███████▇▇▇██</td></tr><tr><td>test_d_loss</td><td>████▇▇▇▇▇▇▇▇▇▇▇▆▆▅▅▅▅▃▃▃▂▂▂▂▂▂▂▂▁▁▁▁▁▁▁▁</td></tr><tr><td>test_g_loss</td><td>█▅▅▅▄▄▄▄▄▄▄▄▄▄▄▄▄▃▃▃▃▂▂▂▂▂▂▂▁▁▁▁▁▁▁▁▁▁▁▁</td></tr><tr><td>test_imp_loss</td><td>▁▁▃▄▅▆███▇▇▆▆▆▆▆▆▆▆▆▆▆▆▆▆▇▇████▇▇█▇▇▇▆▅▄</td></tr><tr><td>test_reg_loss</td><td>▆▄▃▂▂▁▁▁▁▁▁▁▁▁▁▁▁▂▂▂▂▃▃▃▄▄▄▅▅▅▅▆▆▇▇▇████</td></tr><tr><td>test_total_g_loss</td><td>▁▂▄▄▄▄▅▅▆▆▇▇████▇██▇▇▆▆▆▇▇▇████████▇▇▇██</td></tr><tr><td>total_g_loss</td><td>█▅▃▃▂▂▂▂▂▂▂▂▁▁▁▂▂▂▂▂▂▁▁▁▁▁▁▁▁▁▁▁▁▁▁▁▁▁▁▁</td></tr><tr><td>train_time</td><td>▁</td></tr><tr><td>val_accuracy</td><td>█▇▆▅▆▇▇▇▇▇▇▆▆▆▇▇▆▆▆▆▆▆▆▆▅▂▄▅▅▂▂▂▁▂▂▂▂▂▂▂</td></tr><tr><td>val_c_loss</td><td>▁▂▄▄▄▄▅▅▆▆▆▇▇▇▇▇▇▇▇▇▇▆▆▆▆▆▆▇▇▇▇▇███▇▇▇██</td></tr><tr><td>val_d_loss</td><td>████▇▇▇▇▇▇▇▇▇▇▆▆▆▅▅▅▅▃▃▃▂▂▂▂▂▂▂▂▁▁▁▁▁▁▁▁</td></tr><tr><td>val_g_loss</td><td>█▅▄▄▄▄▄▄▄▄▄▄▄▄▄▃▃▃▃▃▃▂▂▂▂▂▂▂▁▁▁▁▁▁▁▁▁▁▁▁</td></tr><tr><td>val_imp_loss</td><td>▁▁▃▄▅▆███▇▇▆▆▆▆▆▆▆▆▆▆▆▆▆▆▇▇████▇▇█▇▇▇▆▅▄</td></tr><tr><td>val_reg_loss</td><td>▆▄▃▂▂▁▁▁▁▁▁▁▁▁▁▁▁▂▂▂▂▃▃▃▄▄▄▅▅▅▅▆▆▇▇▇████</td></tr><tr><td>val_total_g_loss</td><td>▁▂▄▄▄▄▅▅▆▆▆▇▇▇▇▇▇▇▇▇▇▆▆▆▆▆▆▇▇▇▇▇███▇▇▇██</td></tr></table><br/></div><div class=\"wandb-col\"><h3>Run summary:</h3><br/><table class=\"wandb\"><tr><td>accuracy</td><td>0.99441</td></tr><tr><td>best_val_epoch</td><td>7</td></tr><tr><td>c_loss</td><td>0.0304</td></tr><tr><td>d_loss</td><td>0.49636</td></tr><tr><td>epoch</td><td>599.0</td></tr><tr><td>g_loss</td><td>0.21515</td></tr><tr><td>imp_loss</td><td>0.00322</td></tr><tr><td>reg_loss</td><td>0.0073</td></tr><tr><td>test_accuracy</td><td>0.16857</td></tr><tr><td>test_c_loss</td><td>8.60534</td></tr><tr><td>test_d_loss</td><td>0.50316</td></tr><tr><td>test_g_loss</td><td>0.2172</td></tr><tr><td>test_imp_loss</td><td>0.00332</td></tr><tr><td>test_reg_loss</td><td>0.0073</td></tr><tr><td>test_total_g_loss</td><td>8.83317</td></tr><tr><td>total_g_loss</td><td>0.25606</td></tr><tr><td>train_time</td><td>190032.97</td></tr><tr><td>val_accuracy</td><td>0.16425</td></tr><tr><td>val_c_loss</td><td>8.85292</td></tr><tr><td>val_d_loss</td><td>0.50134</td></tr><tr><td>val_g_loss</td><td>0.21456</td></tr><tr><td>val_imp_loss</td><td>0.00335</td></tr><tr><td>val_reg_loss</td><td>0.0073</td></tr><tr><td>val_total_g_loss</td><td>9.07813</td></tr></table><br/></div></div>"
      ],
      "text/plain": [
       "<IPython.core.display.HTML object>"
      ]
     },
     "metadata": {},
     "output_type": "display_data"
    },
    {
     "data": {
      "text/html": [
       "Synced <strong style=\"color:#cdcd00\">fragrant-cloud-9</strong>: <a href=\"https://wandb.ai/barbanish/ajrnn/runs/2el6w04y\" target=\"_blank\">https://wandb.ai/barbanish/ajrnn/runs/2el6w04y</a><br/>Synced 5 W&B file(s), 0 media file(s), 0 artifact file(s) and 0 other file(s)"
      ],
      "text/plain": [
       "<IPython.core.display.HTML object>"
      ]
     },
     "metadata": {},
     "output_type": "display_data"
    },
    {
     "data": {
      "text/html": [
       "Find logs at: <code>./wandb/run-20221223_152249-2el6w04y/logs</code>"
      ],
      "text/plain": [
       "<IPython.core.display.HTML object>"
      ]
     },
     "metadata": {},
     "output_type": "display_data"
    },
    {
     "name": "stdout",
     "output_type": "stream",
     "text": [
      "no overview week48/GRU128-G1-LR3-BS256-REG/seed196\n"
     ]
    },
    {
     "data": {
      "application/vnd.jupyter.widget-view+json": {
       "model_id": "aec92d121f024f32917d400b4959fda3",
       "version_major": 2,
       "version_minor": 0
      },
      "text/plain": [
       "VBox(children=(Label(value='Waiting for wandb.init()...\\r'), FloatProgress(value=0.0167512472330903, max=1.0))…"
      ]
     },
     "metadata": {},
     "output_type": "display_data"
    },
    {
     "data": {
      "text/html": [
       "Tracking run with wandb version 0.13.7"
      ],
      "text/plain": [
       "<IPython.core.display.HTML object>"
      ]
     },
     "metadata": {},
     "output_type": "display_data"
    },
    {
     "data": {
      "text/html": [
       "Run data is saved locally in <code>/Users/donald/personal/AJ-RNN/results/wandb/run-20221223_152257-2nz60j5x</code>"
      ],
      "text/plain": [
       "<IPython.core.display.HTML object>"
      ]
     },
     "metadata": {},
     "output_type": "display_data"
    },
    {
     "data": {
      "text/html": [
       "Syncing run <strong><a href=\"https://wandb.ai/barbanish/ajrnn/runs/2nz60j5x\" target=\"_blank\">blooming-durian-10</a></strong> to <a href=\"https://wandb.ai/barbanish/ajrnn\" target=\"_blank\">Weights & Biases</a> (<a href=\"https://wandb.me/run\" target=\"_blank\">docs</a>)<br/>"
      ],
      "text/plain": [
       "<IPython.core.display.HTML object>"
      ]
     },
     "metadata": {},
     "output_type": "display_data"
    },
    {
     "data": {
      "text/html": [
       "Waiting for W&B process to finish... <strong style=\"color:green\">(success).</strong>"
      ],
      "text/plain": [
       "<IPython.core.display.HTML object>"
      ]
     },
     "metadata": {},
     "output_type": "display_data"
    },
    {
     "data": {
      "application/vnd.jupyter.widget-view+json": {
       "model_id": "f6c24427ebf247de9f8e6afeaa7629d0",
       "version_major": 2,
       "version_minor": 0
      },
      "text/plain": [
       "VBox(children=(Label(value='0.001 MB of 0.001 MB uploaded (0.000 MB deduped)\\r'), FloatProgress(value=1.0, max…"
      ]
     },
     "metadata": {},
     "output_type": "display_data"
    },
    {
     "data": {
      "text/html": [
       "<style>\n",
       "    table.wandb td:nth-child(1) { padding: 0 10px; text-align: left ; width: auto;} td:nth-child(2) {text-align: left ; width: 100%}\n",
       "    .wandb-row { display: flex; flex-direction: row; flex-wrap: wrap; justify-content: flex-start; width: 100% }\n",
       "    .wandb-col { display: flex; flex-direction: column; flex-basis: 100%; flex: 1; padding: 10px; }\n",
       "    </style>\n",
       "<div class=\"wandb-row\"><div class=\"wandb-col\"><h3>Run history:</h3><br/><table class=\"wandb\"><tr><td>accuracy</td><td>▁▄▂▅▄▃▅▄▅▄▄▄▄▅▅▅▅▅▅▅▅▅▅▅▅▅▅▅▆▅▅▅▆▆▆▆▆▇██</td></tr><tr><td>best_val_epoch</td><td>▁</td></tr><tr><td>c_loss</td><td>█▆▇▄▅▆▄▆▄▅▄▅▄▄▄▄▄▄▄▃▄▄▄▄▃▄▄▃▃▄▃▃▃▃▃▃▂▂▁▁</td></tr><tr><td>d_loss</td><td>██▆▅▅▆▅▇▆▄▅▅▃▄▄▄▃▃▅▅▅▄▃▅▄▃▃▃▃▅▄▄▄▃▃▂▂▂▁▁</td></tr><tr><td>epoch</td><td>▁▁▁▁▂▂▂▂▂▃▃▃▃▃▃▄▄▄▄▄▅▅▅▅▅▅▆▆▆▆▆▆▇▇▇▇▇███</td></tr><tr><td>g_loss</td><td>▆▇▂▁▅▄██▁▂▅▁▂▁▁▁▂▁▁▁▁▂▁▁▃▁▁▁▂▂▁▁▂▃▂▃▁▂▁▁</td></tr><tr><td>imp_loss</td><td>▁▁▁▂▃▅█▄▅▅▄█▅▄▆▄▅▄▆▄▃▅▅▄▆▃▄▃▃▃▂▃▃▂▂▂▃▃▂▃</td></tr><tr><td>reg_loss</td><td>▁▂▂▃▄▅▅▆▆▇▇▇█▇█████████████████▇▇▇▇▇▇▆▆▆</td></tr><tr><td>test_accuracy</td><td>▁▂▂▂▆▅▃▅▄▄▅▅▇▅▄▅▇▆▆▆▆▅▅▅▆▅▇█▆▆▅▆▆▇▇▇█▇█▇</td></tr><tr><td>test_c_loss</td><td>▆▇██▂▃▅▃▃▃▃▂▂▂▆▃▁▂▂▂▂▂▃▂▂▂▂▁▃▂▂▂▂▁▁▁▁▂▁▃</td></tr><tr><td>test_d_loss</td><td>▇█▆▅▅▆▄▅▅▄▆▅▃▅█▄▄▃▅▅▇▄▃▆▄▃▄▄▃▆▄▄▆▄▄▃▃▄▂▁</td></tr><tr><td>test_g_loss</td><td>▇▆▂▂▇▄█▇▁▁▇▁▂▂▂▂▂▂▁▃▁▁▁▁▄▁▁▂▁▃▂▂▂▄▃▃▁▂▁▂</td></tr><tr><td>test_imp_loss</td><td>▃▁▁▂▃▇▇▄▅▄▅█▄▅▆▄▄▅▆█▃▄▄▄▄▃▅▂▃▃▃▄▃▂▃▂▂▃▂▂</td></tr><tr><td>test_reg_loss</td><td>▁▂▂▃▄▅▅▆▆▇▇▇█▇████████████████▇▇▇▇▇▇▇▆▆▆</td></tr><tr><td>test_total_g_loss</td><td>▆▇██▂▃▅▃▃▄▄▃▂▂▆▃▂▂▂▃▂▃▃▂▂▃▂▁▃▂▂▂▂▁▂▂▁▂▁▃</td></tr><tr><td>total_g_loss</td><td>█▆▆▄▆▆▅▇▄▅▅▅▅▄▄▄▅▄▄▄▄▄▄▄▄▄▄▄▃▄▄▄▃▃▃▃▂▂▁▁</td></tr><tr><td>train_time</td><td>▁</td></tr><tr><td>val_accuracy</td><td>▂▁▂▂▅▄▂▄▃▄▄▄▆▄▄▄▆▅▄▅▅▅▄▅▅▄▅▆▅▅▅▅▅▆▆▆▇▇█▇</td></tr><tr><td>val_c_loss</td><td>▆███▃▃▆▄▅▄▅▃▂▃▄▄▂▃▃▃▃▃▄▃▃▃▂▂▃▂▃▃▃▂▂▂▁▁▁▂</td></tr><tr><td>val_d_loss</td><td>██▆▆▆▇▅▆▆▄▇▆▄▅▇▄▄▄▅▆█▃▃▆▄▃▅▄▃▆▅▄▆▄▄▄▃▃▂▁</td></tr><tr><td>val_g_loss</td><td>█▇▂▂▇▅█▇▁▂▇▁▂▂▂▂▂▂▁▃▁▂▁▁▄▂▁▂▁▃▂▃▂▄▃▂▁▂▁▂</td></tr><tr><td>val_imp_loss</td><td>▃▁▁▂▃▆▇▄▅▅▆▇▄▅▆▄▄▅▆█▃▄▄▄▄▃▅▃▃▃▃▄▂▂▃▂▂▂▂▂</td></tr><tr><td>val_reg_loss</td><td>▁▂▂▃▄▅▅▆▆▇▇▇█▇████████████████▇▇▇▇▇▇▇▆▆▆</td></tr><tr><td>val_total_g_loss</td><td>▆███▃▃▇▄▅▄▅▃▂▃▅▄▂▃▃▄▃▃▄▃▃▃▂▂▄▂▃▃▃▂▂▂▁▁▁▂</td></tr></table><br/></div><div class=\"wandb-col\"><h3>Run summary:</h3><br/><table class=\"wandb\"><tr><td>accuracy</td><td>0.96067</td></tr><tr><td>best_val_epoch</td><td>585</td></tr><tr><td>c_loss</td><td>0.1213</td></tr><tr><td>d_loss</td><td>0.45653</td></tr><tr><td>epoch</td><td>599.0</td></tr><tr><td>g_loss</td><td>0.12321</td></tr><tr><td>imp_loss</td><td>0.00325</td></tr><tr><td>reg_loss</td><td>0.12802</td></tr><tr><td>test_accuracy</td><td>0.71844</td></tr><tr><td>test_c_loss</td><td>1.2624</td></tr><tr><td>test_d_loss</td><td>0.45777</td></tr><tr><td>test_g_loss</td><td>0.12492</td></tr><tr><td>test_imp_loss</td><td>0.0033</td></tr><tr><td>test_reg_loss</td><td>0.12799</td></tr><tr><td>test_total_g_loss</td><td>1.51861</td></tr><tr><td>total_g_loss</td><td>0.37578</td></tr><tr><td>train_time</td><td>35673.89</td></tr><tr><td>val_accuracy</td><td>0.73647</td></tr><tr><td>val_c_loss</td><td>1.08354</td></tr><tr><td>val_d_loss</td><td>0.45982</td></tr><tr><td>val_g_loss</td><td>0.13227</td></tr><tr><td>val_imp_loss</td><td>0.00325</td></tr><tr><td>val_reg_loss</td><td>0.12799</td></tr><tr><td>val_total_g_loss</td><td>1.34706</td></tr></table><br/></div></div>"
      ],
      "text/plain": [
       "<IPython.core.display.HTML object>"
      ]
     },
     "metadata": {},
     "output_type": "display_data"
    },
    {
     "data": {
      "text/html": [
       "Synced <strong style=\"color:#cdcd00\">blooming-durian-10</strong>: <a href=\"https://wandb.ai/barbanish/ajrnn/runs/2nz60j5x\" target=\"_blank\">https://wandb.ai/barbanish/ajrnn/runs/2nz60j5x</a><br/>Synced 5 W&B file(s), 0 media file(s), 0 artifact file(s) and 0 other file(s)"
      ],
      "text/plain": [
       "<IPython.core.display.HTML object>"
      ]
     },
     "metadata": {},
     "output_type": "display_data"
    },
    {
     "data": {
      "text/html": [
       "Find logs at: <code>./wandb/run-20221223_152257-2nz60j5x/logs</code>"
      ],
      "text/plain": [
       "<IPython.core.display.HTML object>"
      ]
     },
     "metadata": {},
     "output_type": "display_data"
    }
   ],
   "source": [
    "week = \"week48\"\n",
    "for name in os.listdir(f\"{week}\"):\n",
    "    if name.startswith(\"-\"):\n",
    "      continue\n",
    "    for seed in os.listdir(f\"{week}/{name}\"):\n",
    "      if seed.startswith(\"-\"):\n",
    "        continue\n",
    "      import_wandb(f\"{week}/{name}/{seed}\")"
   ]
  }
 ],
 "metadata": {
  "kernelspec": {
   "display_name": "tf-metal",
   "language": "python",
   "name": "python3"
  },
  "language_info": {
   "codemirror_mode": {
    "name": "ipython",
    "version": 3
   },
   "file_extension": ".py",
   "mimetype": "text/x-python",
   "name": "python",
   "nbconvert_exporter": "python",
   "pygments_lexer": "ipython3",
   "version": "3.10.6"
  },
  "orig_nbformat": 4,
  "vscode": {
   "interpreter": {
    "hash": "8a1bd572fd0f4f67cef828f420abb2a48a986357b672298ff9e029f8a13a5ab1"
   }
  }
 },
 "nbformat": 4,
 "nbformat_minor": 2
}
