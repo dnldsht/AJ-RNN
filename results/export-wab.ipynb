{
 "cells": [
  {
   "cell_type": "code",
   "execution_count": 1,
   "metadata": {},
   "outputs": [],
   "source": [
    "import json\n",
    "import os\n",
    "import collections.abc\n",
    "import csv\n",
    "from tabulate import tabulate\n",
    "\n",
    "def get_metrics(res_dir):\n",
    "  with open(f\"{res_dir}/trainlog.csv\") as f:\n",
    "    reader = csv.reader(f)\n",
    "    keys =next(reader)\n",
    "    metrics = []\n",
    "    \n",
    "    for row in reader:\n",
    "      metrics.append({k:float(v) for k,v in zip(keys, row)})\n",
    "  return metrics\n",
    "\n",
    "def get_accs_at_epoch(m, epoch, test_acc=None):\n",
    "  accs = {}\n",
    "  for k in ['accuracy', 'val_accuracy', 'test_accuracy']:\n",
    "    if k in m:\n",
    "      accs[k] = round(m[k][epoch] * 100, 1)\n",
    "  if test_acc is not None and 'test_accuracy' not in accs:\n",
    "    accs['test_accuracy'] = round(test_acc * 100, 1)\n",
    "  \n",
    "  return accs\n",
    "\n",
    "def get_results(week):\n",
    "  results = []\n",
    "  for name in os.listdir(f\"{week}\"):\n",
    "    if name.startswith(\"-\"):\n",
    "      continue\n",
    "    for seed in os.listdir(f\"{week}/{name}\"):\n",
    "      if seed.startswith(\"-\"):\n",
    "        continue\n",
    "      item = {\n",
    "        \"name\": name,\n",
    "        'week': week,\n",
    "        'seed': seed[4:]\n",
    "      }\n",
    "\n",
    "      \n",
    "      if os.path.exists(f\"{week}/{name}/{seed}/config.json\"):\n",
    "        with open(f\"{week}/{name}/{seed}/config.json\") as f:\n",
    "          config = json.load(f)\n",
    "\n",
    "        item.update(config)\n",
    "        \n",
    "      \n",
    "      if os.path.exists(f\"{week}/{name}/{seed}/overview.json\"):\n",
    "        with open(f\"{week}/{name}/{seed}/overview.json\") as f:\n",
    "          overview = json.load(f)\n",
    "        \n",
    "        test_accuracy = overview.get(\"test_accuracy\", None)\n",
    "        if isinstance(test_accuracy, collections.abc.Sequence):\n",
    "          test_accuracy = test_accuracy[0]\n",
    "\n",
    "        item.update({\"test_accuracy\": test_accuracy, 'train_time': round(overview.get(\"train_time\", 0) / (60*60), 2)})\n",
    "      \n",
    "      if os.path.exists(f\"{week}/{name}/{seed}/trainlog.csv\"):\n",
    "        train_log = get_metrics(f\"{week}/{name}/{seed}\")\n",
    "        max_val = train_log['val_accuracy'].index(max(train_log['val_accuracy']))\n",
    "        accs = get_accs_at_epoch(train_log, max_val, item.get('test_accuracy', None))\n",
    "        item.update(accs)\n",
    "        item.update({\"best_val_epoch\": max_val + 1})\n",
    "      else: \n",
    "        continue\n",
    "\n",
    "      results.append(item)\n",
    "  return results\n",
    "\n",
    "def print_table(data, keys):\n",
    "  data = [[r.get(k, '') for k in keys] for r in data]\n",
    "  print(tabulate(data, headers=keys))\n",
    "\n",
    "keys = ['name', 'week', 'seed', 'accuracy', 'val_accuracy',  'test_accuracy', 'best_val_epoch', 'G_epoch', 'hidden_size', 'batch_size', 'learning_rate', 'dropout', 'train_time',]\n",
    "\n",
    "def print_week(week):\n",
    "  results = get_results(week)\n",
    "  print_table(results, keys)\n",
    "\n",
    "all_keys = ['name', 'runs', 'accuracy', 'val_accuracy',  'test_accuracy', 'best_val_epoch', 'G_epoch', 'hidden_size', 'batch_size', 'learning_rate', 'dropout', 'train_time',]\n",
    "average_keys = ['accuracy', 'val_accuracy',  'test_accuracy', 'best_val_epoch']\n",
    "sum_keys = ['train_time']\n",
    "\n",
    "def print_week_average(week):\n",
    "  results = get_results(week)\n",
    "  names = set([r['name'] for r in results])\n",
    "  aggregates = []\n",
    "  for name in names:\n",
    "      seeds = [r for r in results if r['name'] == name]\n",
    "      item = seeds[0]\n",
    "      item['runs'] = len(seeds)\n",
    "      for k in average_keys:\n",
    "        vals = [s[k] for s in seeds if k in s]\n",
    "        if(len(vals) > 0):\n",
    "          item[k] = round(sum([r for r in vals]) / len(vals),1)\n",
    "      for k in sum_keys:\n",
    "        vals = [s[k] for s in seeds if k in s]\n",
    "        if(len(vals) > 0):\n",
    "          item[k] = round(sum([r for r in vals]),1)\n",
    "          \n",
    "      aggregates.append(item)\n",
    "  print_table(aggregates, all_keys)"
   ]
  },
  {
   "cell_type": "code",
   "execution_count": 2,
   "metadata": {},
   "outputs": [],
   "source": [
    "import wandb"
   ]
  },
  {
   "cell_type": "code",
   "execution_count": 3,
   "metadata": {},
   "outputs": [],
   "source": [
    "def import_wandb(dir):\n",
    "  if os.path.exists(f\"{dir}/config.json\"):\n",
    "    with open(f\"{dir}/config.json\") as f:\n",
    "      config = json.load(f)\n",
    "      #print(config)\n",
    "        \n",
    "      if os.path.exists(f\"{dir}/overview.json\"):\n",
    "        with open(f\"{dir}/overview.json\") as f:\n",
    "          overview = json.load(f)\n",
    "        \n",
    "        test_accuracy = overview.get(\"test_accuracy\", None)\n",
    "        if isinstance(test_accuracy, collections.abc.Sequence):\n",
    "          overview['test_accuracy'] = test_accuracy[0]\n",
    "      else:\n",
    "        print(\"no overview\",dir)\n",
    "        return\n",
    "\n",
    "      \n",
    "      if os.path.exists(f\"{dir}/trainlog.csv\"):\n",
    "        train_log = get_metrics(f\"{dir}\")\n",
    "        \n",
    "        light_ajrnn = config.get('light_ajrnn', False)\n",
    "\n",
    "        wandb.init(\n",
    "          project=\"light-ajrnn\" if light_ajrnn else \"ajrnn\",\n",
    "          config=config,\n",
    "        )\n",
    "        for l in train_log:\n",
    "          wandb.log(l)\n",
    "        \n",
    "        overview_keys = ['test_accuracy', 'train_time', 'test_time', 'best_val_epoch']\n",
    "        overview = {k: overview[k] for k in overview_keys if k in overview}\n",
    "        wandb.log(overview)\n",
    "        wandb.finish()"
   ]
  },
  {
   "cell_type": "code",
   "execution_count": null,
   "metadata": {},
   "outputs": [],
   "source": [
    "import_wandb(\"week50/G-LIGHT-GRU128-G1-LR7-B256-REG-DROP/see196\") # imac"
   ]
  },
  {
   "cell_type": "code",
   "execution_count": 19,
   "metadata": {},
   "outputs": [
    {
     "data": {
      "text/html": [
       "Tracking run with wandb version 0.13.7"
      ],
      "text/plain": [
       "<IPython.core.display.HTML object>"
      ]
     },
     "metadata": {},
     "output_type": "display_data"
    },
    {
     "data": {
      "text/html": [
       "Run data is saved locally in <code>/home/donald/workspace/AJ-RNN/results/wandb/run-20221223_160422-3m8aatqd</code>"
      ],
      "text/plain": [
       "<IPython.core.display.HTML object>"
      ]
     },
     "metadata": {},
     "output_type": "display_data"
    },
    {
     "data": {
      "text/html": [
       "Syncing run <strong><a href=\"https://wandb.ai/barbanish/ajrnn/runs/3m8aatqd\" target=\"_blank\">floral-snowflake-17</a></strong> to <a href=\"https://wandb.ai/barbanish/ajrnn\" target=\"_blank\">Weights & Biases</a> (<a href=\"https://wandb.me/run\" target=\"_blank\">docs</a>)<br/>"
      ],
      "text/plain": [
       "<IPython.core.display.HTML object>"
      ]
     },
     "metadata": {},
     "output_type": "display_data"
    },
    {
     "data": {
      "text/html": [
       "Waiting for W&B process to finish... <strong style=\"color:green\">(success).</strong>"
      ],
      "text/plain": [
       "<IPython.core.display.HTML object>"
      ]
     },
     "metadata": {},
     "output_type": "display_data"
    },
    {
     "data": {
      "text/html": [
       "<style>\n",
       "    table.wandb td:nth-child(1) { padding: 0 10px; text-align: left ; width: auto;} td:nth-child(2) {text-align: left ; width: 100%}\n",
       "    .wandb-row { display: flex; flex-direction: row; flex-wrap: wrap; justify-content: flex-start; width: 100% }\n",
       "    .wandb-col { display: flex; flex-direction: column; flex-basis: 100%; flex: 1; padding: 10px; }\n",
       "    </style>\n",
       "<div class=\"wandb-row\"><div class=\"wandb-col\"><h3>Run history:</h3><br/><table class=\"wandb\"><tr><td>accuracy</td><td>▁▃▄▄▅▅▆▆▆▆▆▆▆▆▇▇▇▇▇▇▇▇▇▇▇▇▇▇▇▇▇▇▇███████</td></tr><tr><td>best_val_epoch</td><td>▁</td></tr><tr><td>c_loss</td><td>█▆▅▅▄▄▄▃▃▃▃▃▃▃▃▃▂▂▂▂▂▂▂▂▂▂▂▂▂▂▂▁▁▁▁▁▁▁▁▁</td></tr><tr><td>d_loss</td><td>█████████▇▇▇▅▃▃▂▂▂▁▂▂▁▁▂▁▂▁▁▁▁▁▂▂▁▁▁▂▂▂▃</td></tr><tr><td>epoch</td><td>▁▁▁▁▂▂▂▂▂▃▃▃▃▃▃▄▄▄▄▄▅▅▅▅▅▅▆▆▆▆▆▆▇▇▇▇▇███</td></tr><tr><td>g_loss</td><td>▂▃▃▃▃▃▃▃▇▆▆▅▃▄▄█▆▇▆▇▅▇▇█▇▇████▇▄▄▅▄▄▃▃▁▁</td></tr><tr><td>imp_loss</td><td>▁▁▁▁▁▁▁▂▂▂▂▂▃▃▃▄▄▅▅▅▆▆▆▆▆▆▇▇▇▇▇▇▇▇▇▇████</td></tr><tr><td>reg_loss</td><td>█▇▅▃▂▂▂▁▁▁▁▁▁▁▁▁▁▁▂▂▂▂▂▂▂▂▃▃▃▃▃▃▄▄▄▄▄▅▅▅</td></tr><tr><td>test_accuracy</td><td>▂▆▇██▇▇▇▆▆▆▆▆▆▅▄▃▃▂▂▂▂▂▂▂▁▁▁▁▁▁▁▁▁▁▁▁▁▁▁</td></tr><tr><td>test_c_loss</td><td>▃▂▁▁▁▁▁▁▁▂▂▂▂▂▂▃▃▄▅▅▅▆▆▆▆▆▇▇▇▇▇▇▇▇▇█████</td></tr><tr><td>test_d_loss</td><td>████▇▇▇▇▆▇▇▇▆▄▄▂▂▁▁▁▁▁▁▂▁▁▃▂▁▁▁▃▂▂▂▂▂▃▄▄</td></tr><tr><td>test_g_loss</td><td>▃▄▄▄▄▄▄▄█▇▆▆▄▅▅█▇▇▆▇▇▇▇█▇█████▇▄▄▅▅▄▃▃▁▁</td></tr><tr><td>test_imp_loss</td><td>▂▁▁▁▁▁▁▁▁▂▂▂▂▂▃▃▃▄▄▅▅▅▅▆▆▆▆▆▆▇▇▇▇▇▇▇████</td></tr><tr><td>test_reg_loss</td><td>█▇▅▃▂▂▂▁▁▁▁▁▁▁▁▁▁▁▂▂▂▂▂▂▂▃▃▃▃▃▃▄▄▄▄▄▅▅▅▅</td></tr><tr><td>test_total_g_loss</td><td>▃▂▁▁▁▁▁▁▁▂▂▂▂▂▂▃▃▄▅▅▅▆▆▆▆▆▇▇▇▇▇▇▇▇▇█████</td></tr><tr><td>total_g_loss</td><td>█▆▅▅▄▄▄▃▃▃▃▃▃▃▃▃▃▂▂▂▂▂▂▂▂▂▂▂▂▂▂▂▁▁▁▁▁▁▁▁</td></tr><tr><td>train_time</td><td>▁</td></tr><tr><td>val_accuracy</td><td>▄▆█████▇▇▇▇▇▇▇▆▆▅▅▄▄▄▄▄▄▄▄▄▃▃▃▃▂▂▂▁▁▁▁▁▁</td></tr><tr><td>val_c_loss</td><td>▄▂▁▁▁▁▁▁▁▁▁▂▂▂▂▃▃▄▄▅▅▅▅▅▆▆▆▆▆▆▇▇▇▇▇▇████</td></tr><tr><td>val_d_loss</td><td>████████▇▆▆▆▄▃▂▃▂▂▂▂▂▂▂▃▂▂▄▂▁▂▁▂▂▂▁▁▁▁▁▂</td></tr><tr><td>val_g_loss</td><td>▁▂▂▂▂▂▂▂▇▇▇▆▄▅▄█▆▇▇▇▇▇▇█▇█████▇▄▄▅▄▄▃▃▁▁</td></tr><tr><td>val_imp_loss</td><td>▁▁▁▁▁▁▁▁▂▂▂▂▂▃▃▃▄▄▅▅▅▅▆▆▆▆▆▆▇▇▇▇▇▇▇▇████</td></tr><tr><td>val_reg_loss</td><td>█▇▅▃▂▂▂▁▁▁▁▁▁▁▁▁▁▁▂▂▂▂▂▂▂▃▃▃▃▃▃▄▄▄▄▄▅▅▅▅</td></tr><tr><td>val_total_g_loss</td><td>▄▂▁▁▁▁▁▁▁▁▁▂▂▂▂▃▃▄▄▅▅▅▅▅▆▆▆▆▆▆▇▇▇▇▇▇████</td></tr></table><br/></div><div class=\"wandb-col\"><h3>Run summary:</h3><br/><table class=\"wandb\"><tr><td>accuracy</td><td>0.92224</td></tr><tr><td>best_val_epoch</td><td>45</td></tr><tr><td>c_loss</td><td>0.24381</td></tr><tr><td>d_loss</td><td>0.48942</td></tr><tr><td>epoch</td><td>599.0</td></tr><tr><td>g_loss</td><td>0.21307</td></tr><tr><td>imp_loss</td><td>0.00405</td></tr><tr><td>reg_loss</td><td>0.00813</td></tr><tr><td>test_accuracy</td><td>0.23387</td></tr><tr><td>test_c_loss</td><td>2.65952</td></tr><tr><td>test_d_loss</td><td>0.49556</td></tr><tr><td>test_g_loss</td><td>0.21999</td></tr><tr><td>test_imp_loss</td><td>0.00299</td></tr><tr><td>test_reg_loss</td><td>0.00814</td></tr><tr><td>test_total_g_loss</td><td>2.89064</td></tr><tr><td>total_g_loss</td><td>0.46906</td></tr><tr><td>train_time</td><td>297859.15</td></tr><tr><td>val_accuracy</td><td>0.33915</td></tr><tr><td>val_c_loss</td><td>2.04556</td></tr><tr><td>val_d_loss</td><td>0.48131</td></tr><tr><td>val_g_loss</td><td>0.21268</td></tr><tr><td>val_imp_loss</td><td>0.00386</td></tr><tr><td>val_reg_loss</td><td>0.00814</td></tr><tr><td>val_total_g_loss</td><td>2.27023</td></tr></table><br/></div></div>"
      ],
      "text/plain": [
       "<IPython.core.display.HTML object>"
      ]
     },
     "metadata": {},
     "output_type": "display_data"
    },
    {
     "data": {
      "text/html": [
       "Synced <strong style=\"color:#cdcd00\">floral-snowflake-17</strong>: <a href=\"https://wandb.ai/barbanish/ajrnn/runs/3m8aatqd\" target=\"_blank\">https://wandb.ai/barbanish/ajrnn/runs/3m8aatqd</a><br/>Synced 4 W&B file(s), 0 media file(s), 0 artifact file(s) and 0 other file(s)"
      ],
      "text/plain": [
       "<IPython.core.display.HTML object>"
      ]
     },
     "metadata": {},
     "output_type": "display_data"
    },
    {
     "data": {
      "text/html": [
       "Find logs at: <code>./wandb/run-20221223_160422-3m8aatqd/logs</code>"
      ],
      "text/plain": [
       "<IPython.core.display.HTML object>"
      ]
     },
     "metadata": {},
     "output_type": "display_data"
    },
    {
     "name": "stdout",
     "output_type": "stream",
     "text": [
      "no overview week48/GRU128-G1-LR6-BS32/seed89\n"
     ]
    },
    {
     "data": {
      "text/html": [
       "Tracking run with wandb version 0.13.7"
      ],
      "text/plain": [
       "<IPython.core.display.HTML object>"
      ]
     },
     "metadata": {},
     "output_type": "display_data"
    },
    {
     "data": {
      "text/html": [
       "Run data is saved locally in <code>/home/donald/workspace/AJ-RNN/results/wandb/run-20221223_160431-1po93os5</code>"
      ],
      "text/plain": [
       "<IPython.core.display.HTML object>"
      ]
     },
     "metadata": {},
     "output_type": "display_data"
    },
    {
     "data": {
      "text/html": [
       "Syncing run <strong><a href=\"https://wandb.ai/barbanish/ajrnn/runs/1po93os5\" target=\"_blank\">misunderstood-tree-18</a></strong> to <a href=\"https://wandb.ai/barbanish/ajrnn\" target=\"_blank\">Weights & Biases</a> (<a href=\"https://wandb.me/run\" target=\"_blank\">docs</a>)<br/>"
      ],
      "text/plain": [
       "<IPython.core.display.HTML object>"
      ]
     },
     "metadata": {},
     "output_type": "display_data"
    },
    {
     "data": {
      "text/html": [
       "Waiting for W&B process to finish... <strong style=\"color:green\">(success).</strong>"
      ],
      "text/plain": [
       "<IPython.core.display.HTML object>"
      ]
     },
     "metadata": {},
     "output_type": "display_data"
    },
    {
     "data": {
      "text/html": [
       "<style>\n",
       "    table.wandb td:nth-child(1) { padding: 0 10px; text-align: left ; width: auto;} td:nth-child(2) {text-align: left ; width: 100%}\n",
       "    .wandb-row { display: flex; flex-direction: row; flex-wrap: wrap; justify-content: flex-start; width: 100% }\n",
       "    .wandb-col { display: flex; flex-direction: column; flex-basis: 100%; flex: 1; padding: 10px; }\n",
       "    </style>\n",
       "<div class=\"wandb-row\"><div class=\"wandb-col\"><h3>Run history:</h3><br/><table class=\"wandb\"><tr><td>accuracy</td><td>▁▃▅▆▇▇▇▇▇▇▇█████████████████████████████</td></tr><tr><td>best_val_epoch</td><td>▁</td></tr><tr><td>c_loss</td><td>█▆▄▃▃▂▂▂▂▂▂▂▁▁▁▁▁▁▁▁▁▁▁▁▁▁▁▁▁▁▁▁▁▁▁▁▁▁▁▁</td></tr><tr><td>d_loss</td><td>█▄▄▄▄▄▅▅▅▅▅▅▅▅▅▁▁▁▁▁▁▁▁▁▂▂▂▂▂▂▂▂▂▂▂▃▃▄▅▅</td></tr><tr><td>epoch</td><td>▁▁▁▁▂▂▂▂▂▃▃▃▃▃▃▄▄▄▄▄▅▅▅▅▅▅▆▆▆▆▆▆▇▇▇▇▇███</td></tr><tr><td>g_loss</td><td>▆███▇▇▇▇▇▆▆▆▆▆▆▆▆▆▆▆▆▆▅▅▅▅▅▅▅▅▅▄▄▄▄▃▃▂▁▁</td></tr><tr><td>imp_loss</td><td>▁▁▂▄▄▄▄▄▅▆▆▅▅▆▇▇███▇▇▇▇▆▅▆▆▅▅▅▅▅▅▅▆▆▅▄▄▄</td></tr><tr><td>reg_loss</td><td>▄▂▁▁▁▁▁▁▂▂▂▂▂▂▂▂▃▃▃▃▃▄▄▄▄▅▅▅▆▆▆▆▆▆▇▇▇▇██</td></tr><tr><td>test_accuracy</td><td>███▇▇▆▄▄▅▄▁▁▁▄▄▄▅▅▆▆▆▆▇▇▇▇▇▇▆▅▅▅▆▆▆▆▆▆▆▆</td></tr><tr><td>test_c_loss</td><td>▁▁▂▂▂▃▃▃▃▃▃▄▄▄▄▄▅▆▆▅▅▅▅▅▅▅▆▆▆▅▅▅▆█▇▇████</td></tr><tr><td>test_d_loss</td><td>█▆▅▅▆▆▆▆▆▆▆▆▆▆▆▁▁▁▁▁▁▁▁▁▁▁▂▂▂▂▂▂▂▁▁▁▂▄▄▅</td></tr><tr><td>test_g_loss</td><td>▆███▇▇▇▇▇▇▇▇▇▇▆▇▇▆▆▆▆▆▆▆▅▅▅▅▅▅▅▅▅▄▄▄▃▂▁▁</td></tr><tr><td>test_imp_loss</td><td>▁▁▂▄▄▄▄▄▅▆▅▅▅▆▆▇██████▇▆▆▆▆▆▆▆▆▅▅▆▇▆▅▄▄▄</td></tr><tr><td>test_reg_loss</td><td>▄▂▁▁▁▁▁▁▂▂▂▂▂▂▂▂▃▃▃▃▃▄▄▄▄▅▅▅▅▆▆▆▆▆▇▇▇▇██</td></tr><tr><td>test_total_g_loss</td><td>▁▁▂▂▂▃▃▃▃▃▃▄▄▄▄▄▅▆▆▅▅▅▅▅▅▅▆▆▆▅▅▅▆█▇▇████</td></tr><tr><td>total_g_loss</td><td>█▆▄▃▃▂▂▂▂▂▂▂▂▁▁▁▁▁▁▁▁▁▁▁▁▁▁▁▁▁▁▁▁▁▁▁▁▁▁▁</td></tr><tr><td>train_time</td><td>▁</td></tr><tr><td>val_accuracy</td><td>█▅█▇▇▆▃▄▅▄▂▁▂▄▅▅▅▆▆▆▆▆▇██▇▇▇▅▄▄▆▇▇▇▆▆▆▆▇</td></tr><tr><td>val_c_loss</td><td>▁▁▂▂▂▃▃▃▃▃▃▃▄▄▄▄▅▆▆▅▅▅▅▅▅▅▅▅▆▅▅▅▆█▇▇████</td></tr><tr><td>val_d_loss</td><td>█▆▅▅▅▅▅▅▅▆▆▆▆▆▆▁▁▁▁▁▁▁▁▁▂▂▂▂▂▂▂▂▂▃▃▄▄▃▄▄</td></tr><tr><td>val_g_loss</td><td>▆████▇▇▇▇▆▆▆▆▆▆▆▆▆▆▆▆▆▅▅▅▅▅▅▅▅▅▄▄▄▄▃▂▂▁▁</td></tr><tr><td>val_imp_loss</td><td>▁▁▂▄▄▄▄▄▅▆▆▅▅▆▇▇██████▇▆▆▆▆▆▆▆▆▅▅▆▇▆▅▄▄▄</td></tr><tr><td>val_reg_loss</td><td>▄▂▁▁▁▁▁▁▂▂▂▂▂▂▂▂▃▃▃▃▃▄▄▄▄▅▅▅▅▆▆▆▆▆▇▇▇▇██</td></tr><tr><td>val_total_g_loss</td><td>▁▁▂▂▂▃▃▃▃▃▃▃▄▄▄▄▅▆▆▅▅▅▅▅▅▅▅▅▆▅▅▅▆█▇▇████</td></tr></table><br/></div><div class=\"wandb-col\"><h3>Run summary:</h3><br/><table class=\"wandb\"><tr><td>accuracy</td><td>0.9941</td></tr><tr><td>best_val_epoch</td><td>24</td></tr><tr><td>c_loss</td><td>0.02748</td></tr><tr><td>d_loss</td><td>0.49542</td></tr><tr><td>epoch</td><td>599.0</td></tr><tr><td>g_loss</td><td>0.21268</td></tr><tr><td>imp_loss</td><td>0.0035</td></tr><tr><td>reg_loss</td><td>0.00837</td></tr><tr><td>test_accuracy</td><td>0.26997</td></tr><tr><td>test_c_loss</td><td>12.29112</td></tr><tr><td>test_d_loss</td><td>0.49209</td></tr><tr><td>test_g_loss</td><td>0.21214</td></tr><tr><td>test_imp_loss</td><td>0.00347</td></tr><tr><td>test_reg_loss</td><td>0.00837</td></tr><tr><td>test_total_g_loss</td><td>12.51511</td></tr><tr><td>total_g_loss</td><td>0.25202</td></tr><tr><td>train_time</td><td>528046.57</td></tr><tr><td>val_accuracy</td><td>0.18264</td></tr><tr><td>val_c_loss</td><td>12.76212</td></tr><tr><td>val_d_loss</td><td>0.49594</td></tr><tr><td>val_g_loss</td><td>0.21919</td></tr><tr><td>val_imp_loss</td><td>0.00338</td></tr><tr><td>val_reg_loss</td><td>0.00837</td></tr><tr><td>val_total_g_loss</td><td>12.99307</td></tr></table><br/></div></div>"
      ],
      "text/plain": [
       "<IPython.core.display.HTML object>"
      ]
     },
     "metadata": {},
     "output_type": "display_data"
    },
    {
     "data": {
      "text/html": [
       "Synced <strong style=\"color:#cdcd00\">misunderstood-tree-18</strong>: <a href=\"https://wandb.ai/barbanish/ajrnn/runs/1po93os5\" target=\"_blank\">https://wandb.ai/barbanish/ajrnn/runs/1po93os5</a><br/>Synced 4 W&B file(s), 0 media file(s), 0 artifact file(s) and 0 other file(s)"
      ],
      "text/plain": [
       "<IPython.core.display.HTML object>"
      ]
     },
     "metadata": {},
     "output_type": "display_data"
    },
    {
     "data": {
      "text/html": [
       "Find logs at: <code>./wandb/run-20221223_160431-1po93os5/logs</code>"
      ],
      "text/plain": [
       "<IPython.core.display.HTML object>"
      ]
     },
     "metadata": {},
     "output_type": "display_data"
    },
    {
     "name": "stdout",
     "output_type": "stream",
     "text": [
      "no overview week48/GRU128-G5-LR6-BS32-REG-DROP/seed89\n"
     ]
    },
    {
     "data": {
      "text/html": [
       "Tracking run with wandb version 0.13.7"
      ],
      "text/plain": [
       "<IPython.core.display.HTML object>"
      ]
     },
     "metadata": {},
     "output_type": "display_data"
    },
    {
     "data": {
      "text/html": [
       "Run data is saved locally in <code>/home/donald/workspace/AJ-RNN/results/wandb/run-20221223_160440-3f20bcnu</code>"
      ],
      "text/plain": [
       "<IPython.core.display.HTML object>"
      ]
     },
     "metadata": {},
     "output_type": "display_data"
    },
    {
     "data": {
      "text/html": [
       "Syncing run <strong><a href=\"https://wandb.ai/barbanish/ajrnn/runs/3f20bcnu\" target=\"_blank\">restful-dust-19</a></strong> to <a href=\"https://wandb.ai/barbanish/ajrnn\" target=\"_blank\">Weights & Biases</a> (<a href=\"https://wandb.me/run\" target=\"_blank\">docs</a>)<br/>"
      ],
      "text/plain": [
       "<IPython.core.display.HTML object>"
      ]
     },
     "metadata": {},
     "output_type": "display_data"
    },
    {
     "data": {
      "text/html": [
       "Waiting for W&B process to finish... <strong style=\"color:green\">(success).</strong>"
      ],
      "text/plain": [
       "<IPython.core.display.HTML object>"
      ]
     },
     "metadata": {},
     "output_type": "display_data"
    },
    {
     "data": {
      "text/html": [
       "<style>\n",
       "    table.wandb td:nth-child(1) { padding: 0 10px; text-align: left ; width: auto;} td:nth-child(2) {text-align: left ; width: 100%}\n",
       "    .wandb-row { display: flex; flex-direction: row; flex-wrap: wrap; justify-content: flex-start; width: 100% }\n",
       "    .wandb-col { display: flex; flex-direction: column; flex-basis: 100%; flex: 1; padding: 10px; }\n",
       "    </style>\n",
       "<div class=\"wandb-row\"><div class=\"wandb-col\"><h3>Run history:</h3><br/><table class=\"wandb\"><tr><td>accuracy</td><td>▁▂▅▆▆▆▇▇▇▇▇▇▇▇▇▇▇▇▇▇████████████████████</td></tr><tr><td>best_val_epoch</td><td>▁</td></tr><tr><td>c_loss</td><td>█▆▄▃▃▃▂▂▂▂▂▂▂▂▂▂▂▂▂▂▁▁▁▁▁▁▁▁▁▁▁▁▁▁▁▁▁▁▁▁</td></tr><tr><td>d_loss</td><td>█▆▁▁▁▁▁▁▂▂▂▂▂▂▂▂▂▂▃▃▃▃▃▃▃▃▄▄▄▄▄▄▄▄▄▄▄▄▄▄</td></tr><tr><td>epoch</td><td>▁▁▁▁▂▂▂▂▂▃▃▃▃▃▃▄▄▄▄▄▅▅▅▅▅▅▆▆▆▆▆▆▇▇▇▇▇███</td></tr><tr><td>g_loss</td><td>▁▄█████▇▇▆▆▆▆▆▆▆▆▆▆▅▅▅▅▅▅▅▄▄▄▄▄▄▄▄▄▄▄▄▄▄</td></tr><tr><td>imp_loss</td><td>▅▆███▇▆▆▅▅▄▄▄▃▃▂▂▂▂▂▂▁▁▁▁▁▁▁▁▁▁▁▁▁▁▁▁▁▁▁</td></tr><tr><td>reg_loss</td><td>██▇▇▆▆▆▅▅▅▅▅▄▄▄▄▄▃▃▃▃▃▃▃▃▂▂▂▂▂▂▂▂▂▁▁▁▁▁▁</td></tr><tr><td>test_accuracy</td><td>▁▃▅▅▆▆▆▇▇▇▇▇▇▇▇▇▇▇▇█████████████████████</td></tr><tr><td>test_c_loss</td><td>█▆▅▄▃▃▃▂▂▂▂▂▂▂▂▂▂▂▂▂▁▁▁▁▁▁▁▁▁▁▁▁▁▁▁▁▁▁▁▁</td></tr><tr><td>test_d_loss</td><td>▅▃▁▂▁▂▃▄▄▅▅▅▅▅▅▅▅▅▆▇▇▇▇▇▇▇██████████████</td></tr><tr><td>test_g_loss</td><td>▁▄█▇█▇▇▇▆▅▅▅▅▅▅▅▅▅▅▄▄▄▄▃▃▃▃▃▃▃▃▃▃▃▃▃▃▃▃▃</td></tr><tr><td>test_imp_loss</td><td>▁▃▆████▇▇▆▆▆▆▆▅▅▅▅▅▅▅▅▅▅▅▅▅▅▅▆▆▆▆▆▆▆▆▆▆▆</td></tr><tr><td>test_reg_loss</td><td>██▇▇▆▆▆▅▅▅▅▅▄▄▄▄▄▃▃▃▃▃▃▃▃▂▂▂▂▂▂▂▂▂▁▁▁▁▁▁</td></tr><tr><td>test_total_g_loss</td><td>█▆▅▄▃▃▃▂▂▂▂▂▂▂▂▂▂▂▂▂▁▁▁▁▁▁▁▁▁▁▁▁▁▁▁▁▁▁▁▁</td></tr><tr><td>total_g_loss</td><td>█▆▄▃▃▃▂▂▂▂▂▂▂▂▂▂▂▂▂▂▁▁▁▁▁▁▁▁▁▁▁▁▁▁▁▁▁▁▁▁</td></tr><tr><td>train_time</td><td>▁</td></tr><tr><td>val_accuracy</td><td>▁▄▅▅▆▆▆▇▇▇▇▇▇▇▇▇▇▇▇▇▇▇▇▇▇▇▇█████████████</td></tr><tr><td>val_c_loss</td><td>█▆▄▃▂▂▂▂▂▂▂▂▂▁▁▁▁▁▁▁▁▁▁▁▁▁▁▁▁▁▁▁▁▁▁▁▁▁▁▁</td></tr><tr><td>val_d_loss</td><td>█▇▅▅▅▅▃▃▃▂▂▂▂▂▂▂▂▂▂▂▂▂▂▁▁▁▁▁▁▁▁▁▁▁▁▁▁▁▁▁</td></tr><tr><td>val_g_loss</td><td>▁▄██████▇▇▇▇▇▇▇▇▇▇▇▆▆▆▆▆▆▆▅▅▅▅▅▅▅▅▅▅▅▅▅▅</td></tr><tr><td>val_imp_loss</td><td>▃▅▇██▇▇▆▅▅▄▄▃▃▃▂▂▂▂▁▁▁▁▁▁▁▁▁▁▁▁▁▁▁▁▁▁▂▂▂</td></tr><tr><td>val_reg_loss</td><td>██▇▇▆▆▆▅▅▅▅▅▄▄▄▄▄▃▃▃▃▃▃▃▃▂▂▂▂▂▂▂▂▂▁▁▁▁▁▁</td></tr><tr><td>val_total_g_loss</td><td>█▆▄▃▂▂▂▂▂▂▂▂▂▁▁▁▁▁▁▁▁▁▁▁▁▁▁▁▁▁▁▁▁▁▁▁▁▁▁▁</td></tr></table><br/></div><div class=\"wandb-col\"><h3>Run summary:</h3><br/><table class=\"wandb\"><tr><td>accuracy</td><td>0.85498</td></tr><tr><td>best_val_epoch</td><td>599</td></tr><tr><td>c_loss</td><td>0.45045</td></tr><tr><td>d_loss</td><td>0.4946</td></tr><tr><td>epoch</td><td>599.0</td></tr><tr><td>g_loss</td><td>0.21519</td></tr><tr><td>imp_loss</td><td>0.00019</td></tr><tr><td>reg_loss</td><td>0.00792</td></tr><tr><td>test_accuracy</td><td>0.76172</td></tr><tr><td>test_c_loss</td><td>0.74944</td></tr><tr><td>test_d_loss</td><td>0.49891</td></tr><tr><td>test_g_loss</td><td>0.22301</td></tr><tr><td>test_imp_loss</td><td>0.00019</td></tr><tr><td>test_reg_loss</td><td>0.00792</td></tr><tr><td>test_total_g_loss</td><td>0.98056</td></tr><tr><td>total_g_loss</td><td>0.67375</td></tr><tr><td>train_time</td><td>36787.3</td></tr><tr><td>val_accuracy</td><td>0.81941</td></tr><tr><td>val_c_loss</td><td>0.60989</td></tr><tr><td>val_d_loss</td><td>0.48694</td></tr><tr><td>val_g_loss</td><td>0.21453</td></tr><tr><td>val_imp_loss</td><td>0.00019</td></tr><tr><td>val_reg_loss</td><td>0.00792</td></tr><tr><td>val_total_g_loss</td><td>0.83254</td></tr></table><br/></div></div>"
      ],
      "text/plain": [
       "<IPython.core.display.HTML object>"
      ]
     },
     "metadata": {},
     "output_type": "display_data"
    },
    {
     "data": {
      "text/html": [
       "Synced <strong style=\"color:#cdcd00\">restful-dust-19</strong>: <a href=\"https://wandb.ai/barbanish/ajrnn/runs/3f20bcnu\" target=\"_blank\">https://wandb.ai/barbanish/ajrnn/runs/3f20bcnu</a><br/>Synced 4 W&B file(s), 0 media file(s), 0 artifact file(s) and 0 other file(s)"
      ],
      "text/plain": [
       "<IPython.core.display.HTML object>"
      ]
     },
     "metadata": {},
     "output_type": "display_data"
    },
    {
     "data": {
      "text/html": [
       "Find logs at: <code>./wandb/run-20221223_160440-3f20bcnu/logs</code>"
      ],
      "text/plain": [
       "<IPython.core.display.HTML object>"
      ]
     },
     "metadata": {},
     "output_type": "display_data"
    },
    {
     "data": {
      "text/html": [
       "Tracking run with wandb version 0.13.7"
      ],
      "text/plain": [
       "<IPython.core.display.HTML object>"
      ]
     },
     "metadata": {},
     "output_type": "display_data"
    },
    {
     "data": {
      "text/html": [
       "Run data is saved locally in <code>/home/donald/workspace/AJ-RNN/results/wandb/run-20221223_160450-peczfhrn</code>"
      ],
      "text/plain": [
       "<IPython.core.display.HTML object>"
      ]
     },
     "metadata": {},
     "output_type": "display_data"
    },
    {
     "data": {
      "text/html": [
       "Syncing run <strong><a href=\"https://wandb.ai/barbanish/ajrnn/runs/peczfhrn\" target=\"_blank\">fragrant-butterfly-20</a></strong> to <a href=\"https://wandb.ai/barbanish/ajrnn\" target=\"_blank\">Weights & Biases</a> (<a href=\"https://wandb.me/run\" target=\"_blank\">docs</a>)<br/>"
      ],
      "text/plain": [
       "<IPython.core.display.HTML object>"
      ]
     },
     "metadata": {},
     "output_type": "display_data"
    },
    {
     "data": {
      "text/html": [
       "Waiting for W&B process to finish... <strong style=\"color:green\">(success).</strong>"
      ],
      "text/plain": [
       "<IPython.core.display.HTML object>"
      ]
     },
     "metadata": {},
     "output_type": "display_data"
    },
    {
     "data": {
      "text/html": [
       "<style>\n",
       "    table.wandb td:nth-child(1) { padding: 0 10px; text-align: left ; width: auto;} td:nth-child(2) {text-align: left ; width: 100%}\n",
       "    .wandb-row { display: flex; flex-direction: row; flex-wrap: wrap; justify-content: flex-start; width: 100% }\n",
       "    .wandb-col { display: flex; flex-direction: column; flex-basis: 100%; flex: 1; padding: 10px; }\n",
       "    </style>\n",
       "<div class=\"wandb-row\"><div class=\"wandb-col\"><h3>Run history:</h3><br/><table class=\"wandb\"><tr><td>accuracy</td><td>▁▂▄▅▆▆▇▇▇▇▇▇▇▇▇▇▇███████████████████████</td></tr><tr><td>best_val_epoch</td><td>▁</td></tr><tr><td>c_loss</td><td>█▇▅▄▃▃▂▂▂▂▂▂▂▂▂▂▂▁▁▁▁▁▁▁▁▁▁▁▁▁▁▁▁▁▁▁▁▁▁▁</td></tr><tr><td>d_loss</td><td>▁█▆▇▆▇▇▇▇▇▇▇▆▆▆▆▆▇▇▇▇▇▇▇▇▇▇▇▇▇▇▆▆▆▅▆▆▆▆▆</td></tr><tr><td>epoch</td><td>▁▁▁▁▂▂▂▂▂▃▃▃▃▃▃▄▄▄▄▄▅▅▅▅▅▅▆▆▆▆▆▆▇▇▇▇▇███</td></tr><tr><td>g_loss</td><td>█▁▃▁▃▁▁▁▁▁▁▁▃▃▃▃▃▁▁▁▁▁▁▁▁▁▁▁▁▁▁▃▃▃▄▃▃▃▃▃</td></tr><tr><td>imp_loss</td><td>▁▁▁▂▂▃▃▃▃▃▃▃▃▃▄▄▄▄▄▄▅▅▅▅▅▅▆▆▆▆▆▆▇▇▇▇▇███</td></tr><tr><td>reg_loss</td><td>██▇▇▆▆▆▅▅▅▅▅▄▄▄▄▄▄▃▃▃▃▃▃▃▂▂▂▂▂▂▂▂▂▁▁▁▁▁▁</td></tr><tr><td>test_accuracy</td><td>▁▄▇▇▇▇▇▇████████████████████████████████</td></tr><tr><td>test_c_loss</td><td>█▇▅▃▃▂▂▂▂▂▁▁▁▁▁▁▁▁▁▁▁▁▁▁▁▁▁▁▁▁▁▁▁▁▁▁▁▁▁▁</td></tr><tr><td>test_d_loss</td><td>█▁▃▂▃▂▂▂▂▂▂▂▃▃▃▃▃▂▂▂▂▂▂▂▂▂▂▂▂▂▂▃▃▃▄▃▃▃▃▃</td></tr><tr><td>test_g_loss</td><td>█▁▃▂▃▂▂▂▂▂▂▂▃▃▃▃▃▂▂▂▂▂▂▂▂▂▂▂▂▂▂▃▃▃▅▃▃▃▃▃</td></tr><tr><td>test_imp_loss</td><td>▁▁▁▂▂▂▃▃▃▃▃▃▃▃▃▄▄▄▄▄▄▅▅▅▅▅▆▆▆▆▆▆▇▇▇▇▇███</td></tr><tr><td>test_reg_loss</td><td>██▇▇▆▆▆▅▅▅▅▅▄▄▄▄▄▄▃▃▃▃▃▃▃▂▂▂▂▂▂▂▂▂▁▁▁▁▁▁</td></tr><tr><td>test_total_g_loss</td><td>█▇▅▃▃▂▂▂▂▂▁▁▁▁▁▁▁▁▁▁▁▁▁▁▁▁▁▁▁▁▁▁▁▁▁▁▁▁▁▁</td></tr><tr><td>total_g_loss</td><td>█▇▅▄▃▃▂▂▂▂▂▂▂▂▂▂▂▁▁▁▁▁▁▁▁▁▁▁▁▁▁▁▁▁▁▁▁▁▁▁</td></tr><tr><td>train_time</td><td>▁</td></tr><tr><td>val_accuracy</td><td>▁▃▆▆▇▇▇▇▇▇▇▇▇▇▇▇▇███████████████████████</td></tr><tr><td>val_c_loss</td><td>█▇▅▃▃▂▂▂▂▂▂▂▂▂▂▁▁▁▁▁▁▁▁▁▁▁▁▁▁▁▁▁▁▁▁▁▁▁▁▁</td></tr><tr><td>val_d_loss</td><td>▁█▆▇▆▇▇▇▇▇▇▇▆▆▆▆▆▇▇▇▇▇▇▇▇▇▇▇▇▇▇▆▆▆▄▆▆▆▆▆</td></tr><tr><td>val_g_loss</td><td>█▁▃▂▃▂▂▂▂▂▂▂▃▃▃▃▃▂▂▂▂▂▂▂▂▂▂▂▂▂▂▃▃▃▅▃▃▃▃▃</td></tr><tr><td>val_imp_loss</td><td>▁▁▁▂▂▃▃▃▃▄▄▄▄▄▄▄▄▅▅▅▅▅▅▆▆▆▆▆▆▆▇▇▇▇▇▇████</td></tr><tr><td>val_reg_loss</td><td>██▇▇▆▆▆▅▅▅▅▅▄▄▄▄▄▄▃▃▃▃▃▃▃▂▂▂▂▂▂▂▂▂▁▁▁▁▁▁</td></tr><tr><td>val_total_g_loss</td><td>█▇▅▃▃▂▂▂▂▂▂▂▂▂▂▁▁▁▁▁▁▁▁▁▁▁▁▁▁▁▁▁▁▁▁▁▁▁▁▁</td></tr></table><br/></div><div class=\"wandb-col\"><h3>Run summary:</h3><br/><table class=\"wandb\"><tr><td>accuracy</td><td>0.85528</td></tr><tr><td>best_val_epoch</td><td>599</td></tr><tr><td>c_loss</td><td>0.48095</td></tr><tr><td>d_loss</td><td>0.49432</td></tr><tr><td>epoch</td><td>599.0</td></tr><tr><td>g_loss</td><td>0.2155</td></tr><tr><td>imp_loss</td><td>0.00019</td></tr><tr><td>reg_loss</td><td>0.00796</td></tr><tr><td>test_accuracy</td><td>0.84927</td></tr><tr><td>test_c_loss</td><td>0.48936</td></tr><tr><td>test_d_loss</td><td>0.49037</td></tr><tr><td>test_g_loss</td><td>0.21532</td></tr><tr><td>test_imp_loss</td><td>0.00019</td></tr><tr><td>test_reg_loss</td><td>0.00796</td></tr><tr><td>test_total_g_loss</td><td>0.71283</td></tr><tr><td>total_g_loss</td><td>0.70459</td></tr><tr><td>train_time</td><td>80319.86</td></tr><tr><td>val_accuracy</td><td>0.837</td></tr><tr><td>val_c_loss</td><td>0.60469</td></tr><tr><td>val_d_loss</td><td>0.49562</td></tr><tr><td>val_g_loss</td><td>0.22194</td></tr><tr><td>val_imp_loss</td><td>0.00018</td></tr><tr><td>val_reg_loss</td><td>0.00796</td></tr><tr><td>val_total_g_loss</td><td>0.83477</td></tr></table><br/></div></div>"
      ],
      "text/plain": [
       "<IPython.core.display.HTML object>"
      ]
     },
     "metadata": {},
     "output_type": "display_data"
    },
    {
     "data": {
      "text/html": [
       "Synced <strong style=\"color:#cdcd00\">fragrant-butterfly-20</strong>: <a href=\"https://wandb.ai/barbanish/ajrnn/runs/peczfhrn\" target=\"_blank\">https://wandb.ai/barbanish/ajrnn/runs/peczfhrn</a><br/>Synced 4 W&B file(s), 0 media file(s), 0 artifact file(s) and 0 other file(s)"
      ],
      "text/plain": [
       "<IPython.core.display.HTML object>"
      ]
     },
     "metadata": {},
     "output_type": "display_data"
    },
    {
     "data": {
      "text/html": [
       "Find logs at: <code>./wandb/run-20221223_160450-peczfhrn/logs</code>"
      ],
      "text/plain": [
       "<IPython.core.display.HTML object>"
      ]
     },
     "metadata": {},
     "output_type": "display_data"
    },
    {
     "data": {
      "text/html": [
       "Tracking run with wandb version 0.13.7"
      ],
      "text/plain": [
       "<IPython.core.display.HTML object>"
      ]
     },
     "metadata": {},
     "output_type": "display_data"
    },
    {
     "data": {
      "text/html": [
       "Run data is saved locally in <code>/home/donald/workspace/AJ-RNN/results/wandb/run-20221223_160501-14dgny39</code>"
      ],
      "text/plain": [
       "<IPython.core.display.HTML object>"
      ]
     },
     "metadata": {},
     "output_type": "display_data"
    },
    {
     "data": {
      "text/html": [
       "Syncing run <strong><a href=\"https://wandb.ai/barbanish/ajrnn/runs/14dgny39\" target=\"_blank\">deep-smoke-21</a></strong> to <a href=\"https://wandb.ai/barbanish/ajrnn\" target=\"_blank\">Weights & Biases</a> (<a href=\"https://wandb.me/run\" target=\"_blank\">docs</a>)<br/>"
      ],
      "text/plain": [
       "<IPython.core.display.HTML object>"
      ]
     },
     "metadata": {},
     "output_type": "display_data"
    },
    {
     "data": {
      "text/html": [
       "Waiting for W&B process to finish... <strong style=\"color:green\">(success).</strong>"
      ],
      "text/plain": [
       "<IPython.core.display.HTML object>"
      ]
     },
     "metadata": {},
     "output_type": "display_data"
    },
    {
     "data": {
      "text/html": [
       "<style>\n",
       "    table.wandb td:nth-child(1) { padding: 0 10px; text-align: left ; width: auto;} td:nth-child(2) {text-align: left ; width: 100%}\n",
       "    .wandb-row { display: flex; flex-direction: row; flex-wrap: wrap; justify-content: flex-start; width: 100% }\n",
       "    .wandb-col { display: flex; flex-direction: column; flex-basis: 100%; flex: 1; padding: 10px; }\n",
       "    </style>\n",
       "<div class=\"wandb-row\"><div class=\"wandb-col\"><h3>Run history:</h3><br/><table class=\"wandb\"><tr><td>accuracy</td><td>▁▃▄▅▅▅▆▆▆▆▆▆▆▇▇▇▇▇▇▇▇▇▇▇▇▇▇▇▇███████████</td></tr><tr><td>best_val_epoch</td><td>▁</td></tr><tr><td>c_loss</td><td>█▆▅▄▄▄▄▃▃▃▃▃▃▃▃▃▃▂▂▂▂▂▂▂▂▂▂▂▂▂▂▂▂▁▁▁▁▁▁▁</td></tr><tr><td>d_loss</td><td>█▆▂▁▁▁▁▁▁▁▁▂▂▂▁▁▁▁▂▂▂▂▂▂▂▂▂▂▂▂▂▂▂▂▂▂▂▂▃▃</td></tr><tr><td>epoch</td><td>▁▁▁▁▂▂▂▂▂▃▃▃▃▃▃▄▄▄▄▄▅▅▅▅▅▅▆▆▆▆▆▆▇▇▇▇▇███</td></tr><tr><td>g_loss</td><td>▁▃▇█████▇▇▇▇▇▇▇▇▇▇▇▇▇▇▇▇▆▆▆▆▆▆▆▆▆▆▆▆▆▆▆▆</td></tr><tr><td>imp_loss</td><td>▁▁▁▁▁▁▁▂▂▂▂▂▃▃▄▄▄▅▅▅▅▆▆▆▇▇▇▇▇▇▇▇████████</td></tr><tr><td>reg_loss</td><td>█▇▅▄▃▃▂▂▂▁▁▁▁▁▁▁▁▁▁▁▁▁▁▁▁▂▂▂▂▂▂▂▂▂▂▂▂▃▃▃</td></tr><tr><td>test_accuracy</td><td>▁▂▄▆▇███████▇▇▇▇▇▆▆▆▆▆▅▅▅▅▅▅▅▅▅▅▅▄▄▄▃▂▂▁</td></tr><tr><td>test_c_loss</td><td>█▅▃▂▂▁▁▁▁▁▁▁▁▁▁▁▁▁▂▂▂▂▂▂▂▂▂▂▂▂▂▂▂▃▃▃▄▄▅▅</td></tr><tr><td>test_d_loss</td><td>█▄▂▁▁▁▁▁▂▂▂▃▃▃▂▂▂▂▃▃▃▄▄▄▅▅▅▅▅▅▆▆▆▆▆▆▆▆▆▆</td></tr><tr><td>test_g_loss</td><td>▁▃▇████████▇▇▇████▇▇▇▇▇▇▆▆▆▆▆▆▆▆▆▆▆▆▆▆▅▅</td></tr><tr><td>test_imp_loss</td><td>▁▁▁▁▁▂▂▂▂▃▃▃▃▄▄▄▅▅▅▆▆▆▆▆▇▇▇▇▇▇▇█████████</td></tr><tr><td>test_reg_loss</td><td>█▇▅▄▃▃▂▂▂▁▁▁▁▁▁▁▁▁▁▁▁▁▁▁▁▂▂▂▂▂▂▂▂▂▂▂▃▃▃▃</td></tr><tr><td>test_total_g_loss</td><td>█▅▃▂▂▁▁▁▁▁▁▁▁▁▁▁▁▁▂▂▂▂▂▂▂▂▂▂▂▂▂▂▂▃▃▃▄▄▅▅</td></tr><tr><td>total_g_loss</td><td>█▆▅▄▄▄▄▃▃▃▃▃▃▃▃▃▃▂▂▂▂▂▂▂▂▂▂▂▂▂▂▂▂▁▁▁▁▁▁▁</td></tr><tr><td>train_time</td><td>▁</td></tr><tr><td>val_accuracy</td><td>▁▃▅▆▇█████████████▇▇▇▇▆▆▆▆▆▆▆▆▆▆▆▆▅▅▅▄▄▃</td></tr><tr><td>val_c_loss</td><td>█▅▃▂▁▁▁▁▁▁▁▁▁▂▂▂▂▂▂▂▂▂▂▂▂▂▃▃▃▃▃▃▃▃▃▃▄▄▄▅</td></tr><tr><td>val_d_loss</td><td>▇█▄▃▃▃▃▃▃▃▃▂▂▂▃▃▃▃▂▂▂▂▂▂▁▁▁▁▁▁▁▁▁▁▁▁▁▁▁▁</td></tr><tr><td>val_g_loss</td><td>▁▃▇████████▇▇▇████▇▇▇▇▇▇▇▇▇▇▇▇▇▇▇▇▇▇▇▇▆▆</td></tr><tr><td>val_imp_loss</td><td>▁▁▁▁▁▁▂▂▂▂▂▃▃▃▄▄▄▅▅▅▅▆▆▆▆▇▇▇▇▇▇▇████████</td></tr><tr><td>val_reg_loss</td><td>█▇▅▄▃▃▂▂▂▁▁▁▁▁▁▁▁▁▁▁▁▁▁▁▁▂▂▂▂▂▂▂▂▂▂▂▃▃▃▃</td></tr><tr><td>val_total_g_loss</td><td>█▅▃▂▁▁▁▁▁▁▁▁▁▁▂▂▂▂▂▂▂▂▂▂▂▂▃▃▃▃▃▃▃▃▃▃▄▄▄▅</td></tr></table><br/></div><div class=\"wandb-col\"><h3>Run summary:</h3><br/><table class=\"wandb\"><tr><td>accuracy</td><td>0.9073</td></tr><tr><td>best_val_epoch</td><td>107</td></tr><tr><td>c_loss</td><td>0.28831</td></tr><tr><td>d_loss</td><td>0.49442</td></tr><tr><td>epoch</td><td>599.0</td></tr><tr><td>g_loss</td><td>0.21594</td></tr><tr><td>imp_loss</td><td>0.00038</td></tr><tr><td>reg_loss</td><td>0.00771</td></tr><tr><td>test_accuracy</td><td>0.54324</td></tr><tr><td>test_c_loss</td><td>1.15188</td></tr><tr><td>test_d_loss</td><td>0.49801</td></tr><tr><td>test_g_loss</td><td>0.22404</td></tr><tr><td>test_imp_loss</td><td>0.00028</td></tr><tr><td>test_reg_loss</td><td>0.00771</td></tr><tr><td>test_total_g_loss</td><td>1.3839</td></tr><tr><td>total_g_loss</td><td>0.51234</td></tr><tr><td>train_time</td><td>275682.28</td></tr><tr><td>val_accuracy</td><td>0.69141</td></tr><tr><td>val_c_loss</td><td>0.90314</td></tr><tr><td>val_d_loss</td><td>0.48747</td></tr><tr><td>val_g_loss</td><td>0.21501</td></tr><tr><td>val_imp_loss</td><td>0.00034</td></tr><tr><td>val_reg_loss</td><td>0.00771</td></tr><tr><td>val_total_g_loss</td><td>1.1262</td></tr></table><br/></div></div>"
      ],
      "text/plain": [
       "<IPython.core.display.HTML object>"
      ]
     },
     "metadata": {},
     "output_type": "display_data"
    },
    {
     "data": {
      "text/html": [
       "Synced <strong style=\"color:#cdcd00\">deep-smoke-21</strong>: <a href=\"https://wandb.ai/barbanish/ajrnn/runs/14dgny39\" target=\"_blank\">https://wandb.ai/barbanish/ajrnn/runs/14dgny39</a><br/>Synced 4 W&B file(s), 0 media file(s), 0 artifact file(s) and 0 other file(s)"
      ],
      "text/plain": [
       "<IPython.core.display.HTML object>"
      ]
     },
     "metadata": {},
     "output_type": "display_data"
    },
    {
     "data": {
      "text/html": [
       "Find logs at: <code>./wandb/run-20221223_160501-14dgny39/logs</code>"
      ],
      "text/plain": [
       "<IPython.core.display.HTML object>"
      ]
     },
     "metadata": {},
     "output_type": "display_data"
    },
    {
     "data": {
      "text/html": [
       "Tracking run with wandb version 0.13.7"
      ],
      "text/plain": [
       "<IPython.core.display.HTML object>"
      ]
     },
     "metadata": {},
     "output_type": "display_data"
    },
    {
     "data": {
      "text/html": [
       "Run data is saved locally in <code>/home/donald/workspace/AJ-RNN/results/wandb/run-20221223_160511-jhb1w2co</code>"
      ],
      "text/plain": [
       "<IPython.core.display.HTML object>"
      ]
     },
     "metadata": {},
     "output_type": "display_data"
    },
    {
     "data": {
      "text/html": [
       "Syncing run <strong><a href=\"https://wandb.ai/barbanish/ajrnn/runs/jhb1w2co\" target=\"_blank\">dry-waterfall-22</a></strong> to <a href=\"https://wandb.ai/barbanish/ajrnn\" target=\"_blank\">Weights & Biases</a> (<a href=\"https://wandb.me/run\" target=\"_blank\">docs</a>)<br/>"
      ],
      "text/plain": [
       "<IPython.core.display.HTML object>"
      ]
     },
     "metadata": {},
     "output_type": "display_data"
    },
    {
     "data": {
      "text/html": [
       "Waiting for W&B process to finish... <strong style=\"color:green\">(success).</strong>"
      ],
      "text/plain": [
       "<IPython.core.display.HTML object>"
      ]
     },
     "metadata": {},
     "output_type": "display_data"
    },
    {
     "data": {
      "text/html": [
       "<style>\n",
       "    table.wandb td:nth-child(1) { padding: 0 10px; text-align: left ; width: auto;} td:nth-child(2) {text-align: left ; width: 100%}\n",
       "    .wandb-row { display: flex; flex-direction: row; flex-wrap: wrap; justify-content: flex-start; width: 100% }\n",
       "    .wandb-col { display: flex; flex-direction: column; flex-basis: 100%; flex: 1; padding: 10px; }\n",
       "    </style>\n",
       "<div class=\"wandb-row\"><div class=\"wandb-col\"><h3>Run history:</h3><br/><table class=\"wandb\"><tr><td>accuracy</td><td>▁▃▄▅▅▆▆▆▆▆▆▆▆▆▆▇▇▇▇▇▇▇▇▇▇▇▇▇▇▇▇▇▇███████</td></tr><tr><td>best_val_epoch</td><td>▁</td></tr><tr><td>c_loss</td><td>█▆▄▄▃▃▃▃▃▃▃▃▃▂▂▂▂▂▂▂▂▂▂▂▂▂▂▂▂▂▂▁▁▁▁▁▁▁▁▁</td></tr><tr><td>d_loss</td><td>▁█▄▄▃▃▃▃▃▄▃▃▄▄▄▄▄▃▃▃▃▃▃▃▃▃▃▃▃▃▃▃▃▃▃▃▃▃▃▃</td></tr><tr><td>epoch</td><td>▁▁▁▁▂▂▂▂▂▃▃▃▃▃▃▄▄▄▄▄▅▅▅▅▅▅▆▆▆▆▆▆▇▇▇▇▇███</td></tr><tr><td>g_loss</td><td>█▁▂▂▃▃▃▃▃▂▃▃▂▂▂▂▂▃▃▃▃▃▃▃▃▃▃▃▃▃▃▃▃▃▃▃▃▃▃▃</td></tr><tr><td>imp_loss</td><td>▁▁▁▁▁▁▁▂▂▂▂▂▂▂▂▂▂▃▃▃▃▃▃▄▄▄▄▄▅▅▅▅▆▆▆▇▇▇██</td></tr><tr><td>reg_loss</td><td>█▇▆▅▄▃▃▃▂▂▂▂▁▁▁▁▁▁▁▁▁▁▁▁▁▁▂▂▂▂▂▂▂▃▃▃▃▃▄▄</td></tr><tr><td>test_accuracy</td><td>▁▅▆▆▇▇▇▇█████████████▇▇▇▇▇▇▇▇▇▇▇▆▆▆▆▆▆▅▅</td></tr><tr><td>test_c_loss</td><td>█▅▃▂▂▂▁▁▁▁▁▁▁▁▁▁▁▁▁▁▁▁▁▁▁▁▁▁▁▁▁▁▁▁▁▁▁▂▂▂</td></tr><tr><td>test_d_loss</td><td>█▅▁▁▁▁▁▁▁▁▁▁▁▁▁▁▁▁▁▁▁▁▁▁▁▁▁▁▁▁▁▁▁▁▁▁▁▁▁▁</td></tr><tr><td>test_g_loss</td><td>█▁▃▃▄▄▄▄▄▄▄▄▃▃▃▃▃▄▄▄▄▄▄▄▄▄▄▄▄▄▄▄▄▄▄▄▄▄▄▄</td></tr><tr><td>test_imp_loss</td><td>▁▁▁▁▁▁▁▂▂▂▂▂▂▂▂▂▂▂▃▃▃▃▃▃▄▄▄▄▅▅▅▅▆▆▆▆▇▇██</td></tr><tr><td>test_reg_loss</td><td>█▇▆▅▄▃▃▃▂▂▂▂▁▁▁▁▁▁▁▁▁▁▁▁▁▂▂▂▂▂▂▂▂▃▃▃▃▃▄▄</td></tr><tr><td>test_total_g_loss</td><td>█▅▃▂▂▂▁▁▁▁▁▁▁▁▁▁▁▁▁▁▁▁▁▁▁▁▁▁▁▁▁▁▁▁▁▁▁▂▂▂</td></tr><tr><td>total_g_loss</td><td>█▆▄▄▃▃▃▃▃▃▃▃▃▂▂▂▂▂▂▂▂▂▂▂▂▂▂▂▂▂▂▁▁▁▁▁▁▁▁▁</td></tr><tr><td>train_time</td><td>▁</td></tr><tr><td>val_accuracy</td><td>▁▄▅▅▅▅▆▆▇▇▇▇█████████████▇▇▇▇▆▆▆▆▆▆▅▅▅▅▄</td></tr><tr><td>val_c_loss</td><td>█▅▃▂▂▂▂▁▁▁▁▁▁▁▁▁▁▁▁▁▁▁▁▁▁▁▁▁▂▂▂▂▂▂▂▂▂▂▂▂</td></tr><tr><td>val_d_loss</td><td>▁█▄▄▃▃▃▃▃▃▃▃▄▄▄▄▄▃▃▃▃▃▃▃▃▃▃▃▃▃▃▃▃▃▃▃▃▃▃▃</td></tr><tr><td>val_g_loss</td><td>█▁▃▃▄▄▄▄▄▄▄▄▃▃▃▃▃▄▄▄▄▄▄▄▄▄▄▄▄▄▄▄▄▄▄▄▄▄▄▄</td></tr><tr><td>val_imp_loss</td><td>▁▁▁▁▁▂▂▂▂▂▂▂▂▂▂▂▃▃▃▃▃▃▃▄▄▄▄▄▅▅▅▅▆▆▆▇▇▇██</td></tr><tr><td>val_reg_loss</td><td>█▇▆▅▄▃▃▃▂▂▂▂▁▁▁▁▁▁▁▁▁▁▁▁▁▂▂▂▂▂▂▂▂▃▃▃▃▃▄▄</td></tr><tr><td>val_total_g_loss</td><td>█▅▃▂▂▂▂▁▁▁▁▁▁▁▁▁▁▁▁▁▁▁▁▁▁▁▁▁▂▂▂▂▂▂▂▂▂▂▂▂</td></tr></table><br/></div><div class=\"wandb-col\"><h3>Run summary:</h3><br/><table class=\"wandb\"><tr><td>accuracy</td><td>0.89224</td></tr><tr><td>best_val_epoch</td><td>303</td></tr><tr><td>c_loss</td><td>0.33506</td></tr><tr><td>d_loss</td><td>0.49432</td></tr><tr><td>epoch</td><td>599.0</td></tr><tr><td>g_loss</td><td>0.2155</td></tr><tr><td>imp_loss</td><td>0.00054</td></tr><tr><td>reg_loss</td><td>0.00805</td></tr><tr><td>test_accuracy</td><td>0.74524</td></tr><tr><td>test_c_loss</td><td>0.64792</td></tr><tr><td>test_d_loss</td><td>0.49037</td></tr><tr><td>test_g_loss</td><td>0.21532</td></tr><tr><td>test_imp_loss</td><td>0.00053</td></tr><tr><td>test_reg_loss</td><td>0.00805</td></tr><tr><td>test_total_g_loss</td><td>0.87182</td></tr><tr><td>total_g_loss</td><td>0.55915</td></tr><tr><td>train_time</td><td>251888.56</td></tr><tr><td>val_accuracy</td><td>0.68995</td></tr><tr><td>val_c_loss</td><td>0.85261</td></tr><tr><td>val_d_loss</td><td>0.49562</td></tr><tr><td>val_g_loss</td><td>0.22194</td></tr><tr><td>val_imp_loss</td><td>0.00041</td></tr><tr><td>val_reg_loss</td><td>0.00805</td></tr><tr><td>val_total_g_loss</td><td>1.08301</td></tr></table><br/></div></div>"
      ],
      "text/plain": [
       "<IPython.core.display.HTML object>"
      ]
     },
     "metadata": {},
     "output_type": "display_data"
    },
    {
     "data": {
      "text/html": [
       "Synced <strong style=\"color:#cdcd00\">dry-waterfall-22</strong>: <a href=\"https://wandb.ai/barbanish/ajrnn/runs/jhb1w2co\" target=\"_blank\">https://wandb.ai/barbanish/ajrnn/runs/jhb1w2co</a><br/>Synced 4 W&B file(s), 0 media file(s), 0 artifact file(s) and 0 other file(s)"
      ],
      "text/plain": [
       "<IPython.core.display.HTML object>"
      ]
     },
     "metadata": {},
     "output_type": "display_data"
    },
    {
     "data": {
      "text/html": [
       "Find logs at: <code>./wandb/run-20221223_160511-jhb1w2co/logs</code>"
      ],
      "text/plain": [
       "<IPython.core.display.HTML object>"
      ]
     },
     "metadata": {},
     "output_type": "display_data"
    },
    {
     "name": "stdout",
     "output_type": "stream",
     "text": [
      "no overview week48/GRU128-G1-LR3-BS256-REG/seed196\n"
     ]
    }
   ],
   "source": [
    "week = \"week48\"\n",
    "for name in os.listdir(f\"{week}\"):\n",
    "    if name.startswith(\"-\"):\n",
    "      continue\n",
    "    for seed in os.listdir(f\"{week}/{name}\"):\n",
    "      if seed.startswith(\"-\"):\n",
    "        continue\n",
    "      import_wandb(f\"{week}/{name}/{seed}\")"
   ]
  }
 ],
 "metadata": {
  "kernelspec": {
   "display_name": "venv",
   "language": "python",
   "name": "python3"
  },
  "language_info": {
   "codemirror_mode": {
    "name": "ipython",
    "version": 3
   },
   "file_extension": ".py",
   "mimetype": "text/x-python",
   "name": "python",
   "nbconvert_exporter": "python",
   "pygments_lexer": "ipython3",
   "version": "3.10.7"
  },
  "orig_nbformat": 4,
  "vscode": {
   "interpreter": {
    "hash": "11abb7938f87972a7a147dfe2eeaff64b9125be73dc813bcf12e1ed54919820b"
   }
  }
 },
 "nbformat": 4,
 "nbformat_minor": 2
}
