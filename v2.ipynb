{
 "cells": [
  {
   "cell_type": "code",
   "execution_count": 1,
   "metadata": {},
   "outputs": [],
   "source": [
    "import tensorflow as tf\n",
    "from tensorflow.keras import layers\n",
    "from tensorflow import keras"
   ]
  },
  {
   "cell_type": "code",
   "execution_count": 6,
   "metadata": {},
   "outputs": [],
   "source": [
    "class Config(object):\n",
    "    def __init__(self, **entries):\n",
    "        self.__dict__.update(entries)\n",
    "\n",
    "    layer_num = 1\n",
    "    hidden_size = 100\n",
    "    learning_rate = 1e-3\n",
    "    cell_type = 'GRU'\n",
    "    lamda = 1\n",
    "    D_epoch = 1\n",
    "    GPU = '0'\n",
    "    '''User defined'''\n",
    "    batch_size = None  # batch_size for train\n",
    "    epoch = None  # epoch for train\n",
    "    lamda_D = None  # epoch for training of Discriminator\n",
    "    G_epoch = None  # epoch for training of Generator\n",
    "    train_data_filename = None\n",
    "    test_data_filename = None\n",
    "    save = None\n",
    "    verbose = 2"
   ]
  },
  {
   "cell_type": "code",
   "execution_count": 5,
   "metadata": {},
   "outputs": [],
   "source": [
    "from utils import MISSING_VALUE\n",
    "def RNNCell(type, hidden_size):\n",
    "    if type == 'LSTM':\n",
    "        cell = layers.LSTMCell(hidden_size)\n",
    "    elif type == 'GRU':\n",
    "        cell = layers.GRUCell(hidden_size)\n",
    "    return cell"
   ]
  },
  {
   "cell_type": "code",
   "execution_count": 2,
   "metadata": {},
   "outputs": [
    {
     "name": "stdout",
     "output_type": "stream",
     "text": [
      "Metal device set to: "
     ]
    },
    {
     "name": "stderr",
     "output_type": "stream",
     "text": [
      "2022-10-04 14:25:24.790100: I tensorflow/core/common_runtime/pluggable_device/pluggable_device_factory.cc:305] Could not identify NUMA node of platform GPU ID 0, defaulting to 0. Your kernel may not have been built with NUMA support.\n",
      "2022-10-04 14:25:24.791183: I tensorflow/core/common_runtime/pluggable_device/pluggable_device_factory.cc:271] Created TensorFlow device (/job:localhost/replica:0/task:0/device:GPU:0 with 0 MB memory) -> physical PluggableDevice (device: 0, name: METAL, pci bus id: <undefined>)\n"
     ]
    },
    {
     "name": "stdout",
     "output_type": "stream",
     "text": [
      "Apple M1\n",
      "\n",
      "systemMemory: 16.00 GB\n",
      "maxCacheSize: 5.33 GB\n",
      "\n"
     ]
    }
   ],
   "source": [
    "cell = layers.GRU(10)"
   ]
  },
  {
   "cell_type": "code",
   "execution_count": 3,
   "metadata": {},
   "outputs": [
    {
     "ename": "ValueError",
     "evalue": "Input 0 of layer \"gru\" is incompatible with the layer: expected ndim=3, found ndim=2. Full shape received: (8, 5)",
     "output_type": "error",
     "traceback": [
      "\u001b[0;31m---------------------------------------------------------------------------\u001b[0m",
      "\u001b[0;31mValueError\u001b[0m                                Traceback (most recent call last)",
      "\u001b[1;32m/Users/donald/personal/AJ-RNN/v2.ipynb Cell 5\u001b[0m in \u001b[0;36m<cell line: 1>\u001b[0;34m()\u001b[0m\n\u001b[0;32m----> <a href='vscode-notebook-cell:/Users/donald/personal/AJ-RNN/v2.ipynb#W4sZmlsZQ%3D%3D?line=0'>1</a>\u001b[0m cell(tf\u001b[39m.\u001b[39;49mones((\u001b[39m8\u001b[39;49m,\u001b[39m5\u001b[39;49m)))\n",
      "File \u001b[0;32m/opt/homebrew/Caskroom/miniforge/base/envs/tf/lib/python3.10/site-packages/keras/layers/rnn/base_rnn.py:515\u001b[0m, in \u001b[0;36mRNN.__call__\u001b[0;34m(self, inputs, initial_state, constants, **kwargs)\u001b[0m\n\u001b[1;32m    511\u001b[0m inputs, initial_state, constants \u001b[39m=\u001b[39m rnn_utils\u001b[39m.\u001b[39mstandardize_args(\n\u001b[1;32m    512\u001b[0m     inputs, initial_state, constants, \u001b[39mself\u001b[39m\u001b[39m.\u001b[39m_num_constants)\n\u001b[1;32m    514\u001b[0m \u001b[39mif\u001b[39;00m initial_state \u001b[39mis\u001b[39;00m \u001b[39mNone\u001b[39;00m \u001b[39mand\u001b[39;00m constants \u001b[39mis\u001b[39;00m \u001b[39mNone\u001b[39;00m:\n\u001b[0;32m--> 515\u001b[0m   \u001b[39mreturn\u001b[39;00m \u001b[39msuper\u001b[39;49m(RNN, \u001b[39mself\u001b[39;49m)\u001b[39m.\u001b[39;49m\u001b[39m__call__\u001b[39;49m(inputs, \u001b[39m*\u001b[39;49m\u001b[39m*\u001b[39;49mkwargs)\n\u001b[1;32m    517\u001b[0m \u001b[39m# If any of `initial_state` or `constants` are specified and are Keras\u001b[39;00m\n\u001b[1;32m    518\u001b[0m \u001b[39m# tensors, then add them to the inputs and temporarily modify the\u001b[39;00m\n\u001b[1;32m    519\u001b[0m \u001b[39m# input_spec to include them.\u001b[39;00m\n\u001b[1;32m    521\u001b[0m additional_inputs \u001b[39m=\u001b[39m []\n",
      "File \u001b[0;32m/opt/homebrew/Caskroom/miniforge/base/envs/tf/lib/python3.10/site-packages/keras/utils/traceback_utils.py:67\u001b[0m, in \u001b[0;36mfilter_traceback.<locals>.error_handler\u001b[0;34m(*args, **kwargs)\u001b[0m\n\u001b[1;32m     65\u001b[0m \u001b[39mexcept\u001b[39;00m \u001b[39mException\u001b[39;00m \u001b[39mas\u001b[39;00m e:  \u001b[39m# pylint: disable=broad-except\u001b[39;00m\n\u001b[1;32m     66\u001b[0m   filtered_tb \u001b[39m=\u001b[39m _process_traceback_frames(e\u001b[39m.\u001b[39m__traceback__)\n\u001b[0;32m---> 67\u001b[0m   \u001b[39mraise\u001b[39;00m e\u001b[39m.\u001b[39mwith_traceback(filtered_tb) \u001b[39mfrom\u001b[39;00m \u001b[39mNone\u001b[39m\n\u001b[1;32m     68\u001b[0m \u001b[39mfinally\u001b[39;00m:\n\u001b[1;32m     69\u001b[0m   \u001b[39mdel\u001b[39;00m filtered_tb\n",
      "File \u001b[0;32m/opt/homebrew/Caskroom/miniforge/base/envs/tf/lib/python3.10/site-packages/keras/engine/input_spec.py:214\u001b[0m, in \u001b[0;36massert_input_compatibility\u001b[0;34m(input_spec, inputs, layer_name)\u001b[0m\n\u001b[1;32m    212\u001b[0m   ndim \u001b[39m=\u001b[39m shape\u001b[39m.\u001b[39mrank\n\u001b[1;32m    213\u001b[0m   \u001b[39mif\u001b[39;00m ndim \u001b[39m!=\u001b[39m spec\u001b[39m.\u001b[39mndim:\n\u001b[0;32m--> 214\u001b[0m     \u001b[39mraise\u001b[39;00m \u001b[39mValueError\u001b[39;00m(\u001b[39mf\u001b[39m\u001b[39m'\u001b[39m\u001b[39mInput \u001b[39m\u001b[39m{\u001b[39;00minput_index\u001b[39m}\u001b[39;00m\u001b[39m of layer \u001b[39m\u001b[39m\"\u001b[39m\u001b[39m{\u001b[39;00mlayer_name\u001b[39m}\u001b[39;00m\u001b[39m\"\u001b[39m\u001b[39m \u001b[39m\u001b[39m'\u001b[39m\n\u001b[1;32m    215\u001b[0m                      \u001b[39m'\u001b[39m\u001b[39mis incompatible with the layer: \u001b[39m\u001b[39m'\u001b[39m\n\u001b[1;32m    216\u001b[0m                      \u001b[39mf\u001b[39m\u001b[39m'\u001b[39m\u001b[39mexpected ndim=\u001b[39m\u001b[39m{\u001b[39;00mspec\u001b[39m.\u001b[39mndim\u001b[39m}\u001b[39;00m\u001b[39m, found ndim=\u001b[39m\u001b[39m{\u001b[39;00mndim\u001b[39m}\u001b[39;00m\u001b[39m. \u001b[39m\u001b[39m'\u001b[39m\n\u001b[1;32m    217\u001b[0m                      \u001b[39mf\u001b[39m\u001b[39m'\u001b[39m\u001b[39mFull shape received: \u001b[39m\u001b[39m{\u001b[39;00m\u001b[39mtuple\u001b[39m(shape)\u001b[39m}\u001b[39;00m\u001b[39m'\u001b[39m)\n\u001b[1;32m    218\u001b[0m \u001b[39mif\u001b[39;00m spec\u001b[39m.\u001b[39mmax_ndim \u001b[39mis\u001b[39;00m \u001b[39mnot\u001b[39;00m \u001b[39mNone\u001b[39;00m:\n\u001b[1;32m    219\u001b[0m   ndim \u001b[39m=\u001b[39m x\u001b[39m.\u001b[39mshape\u001b[39m.\u001b[39mrank\n",
      "\u001b[0;31mValueError\u001b[0m: Input 0 of layer \"gru\" is incompatible with the layer: expected ndim=3, found ndim=2. Full shape received: (8, 5)"
     ]
    }
   ],
   "source": [
    "cell(tf.ones((8,5)))"
   ]
  },
  {
   "cell_type": "code",
   "execution_count": 4,
   "metadata": {},
   "outputs": [],
   "source": [
    "# inputs (20, 54, 16)\n",
    "# outputs (1060, 16), (20, 100)\n",
    "hidden_size = 100\n",
    "batch_size = 20\n",
    "num_steps = 54\n",
    "input_dimension_size = 16\n",
    "\n",
    "class G2(keras.Sequential):\n",
    "  def __init__(self, *args, **kwargs):\n",
    "    super().__init__(name='G2', *args, **kwargs)\n",
    "    self.add(keras.Input((num_steps, input_dimension_size)))\n",
    "    self.add(layers.GRU(hidden_size, return_state=True))\n",
    "    "
   ]
  },
  {
   "cell_type": "code",
   "execution_count": 28,
   "metadata": {},
   "outputs": [],
   "source": [
    "g2 = layers.GRU(hidden_size, return_state=True, return_sequences=True, stateful=True)\n",
    "inputs = tf.ones((batch_size, num_steps, input_dimension_size))\n",
    "sequences, state = g2(inputs)"
   ]
  },
  {
   "cell_type": "code",
   "execution_count": 17,
   "metadata": {},
   "outputs": [],
   "source": [
    "#state = g2.get_initial_state(inputs)"
   ]
  },
  {
   "cell_type": "code",
   "execution_count": 27,
   "metadata": {},
   "outputs": [
    {
     "ename": "ValueError",
     "evalue": "Input 0 of layer \"gru_4\" is incompatible with the layer: expected ndim=3, found ndim=2. Full shape received: (20, 16)",
     "output_type": "error",
     "traceback": [
      "\u001b[0;31m---------------------------------------------------------------------------\u001b[0m",
      "\u001b[0;31mValueError\u001b[0m                                Traceback (most recent call last)",
      "\u001b[1;32m/Users/donald/personal/AJ-RNN/v2.ipynb Cell 9\u001b[0m in \u001b[0;36m<cell line: 1>\u001b[0;34m()\u001b[0m\n\u001b[0;32m----> <a href='vscode-notebook-cell:/Users/donald/personal/AJ-RNN/v2.ipynb#X30sZmlsZQ%3D%3D?line=0'>1</a>\u001b[0m g2(inputs[:, \u001b[39m0\u001b[39;49m, :])\n",
      "File \u001b[0;32m/opt/homebrew/Caskroom/miniforge/base/envs/tf/lib/python3.10/site-packages/keras/layers/rnn/base_rnn.py:515\u001b[0m, in \u001b[0;36mRNN.__call__\u001b[0;34m(self, inputs, initial_state, constants, **kwargs)\u001b[0m\n\u001b[1;32m    511\u001b[0m inputs, initial_state, constants \u001b[39m=\u001b[39m rnn_utils\u001b[39m.\u001b[39mstandardize_args(\n\u001b[1;32m    512\u001b[0m     inputs, initial_state, constants, \u001b[39mself\u001b[39m\u001b[39m.\u001b[39m_num_constants)\n\u001b[1;32m    514\u001b[0m \u001b[39mif\u001b[39;00m initial_state \u001b[39mis\u001b[39;00m \u001b[39mNone\u001b[39;00m \u001b[39mand\u001b[39;00m constants \u001b[39mis\u001b[39;00m \u001b[39mNone\u001b[39;00m:\n\u001b[0;32m--> 515\u001b[0m   \u001b[39mreturn\u001b[39;00m \u001b[39msuper\u001b[39;49m(RNN, \u001b[39mself\u001b[39;49m)\u001b[39m.\u001b[39;49m\u001b[39m__call__\u001b[39;49m(inputs, \u001b[39m*\u001b[39;49m\u001b[39m*\u001b[39;49mkwargs)\n\u001b[1;32m    517\u001b[0m \u001b[39m# If any of `initial_state` or `constants` are specified and are Keras\u001b[39;00m\n\u001b[1;32m    518\u001b[0m \u001b[39m# tensors, then add them to the inputs and temporarily modify the\u001b[39;00m\n\u001b[1;32m    519\u001b[0m \u001b[39m# input_spec to include them.\u001b[39;00m\n\u001b[1;32m    521\u001b[0m additional_inputs \u001b[39m=\u001b[39m []\n",
      "File \u001b[0;32m/opt/homebrew/Caskroom/miniforge/base/envs/tf/lib/python3.10/site-packages/keras/utils/traceback_utils.py:67\u001b[0m, in \u001b[0;36mfilter_traceback.<locals>.error_handler\u001b[0;34m(*args, **kwargs)\u001b[0m\n\u001b[1;32m     65\u001b[0m \u001b[39mexcept\u001b[39;00m \u001b[39mException\u001b[39;00m \u001b[39mas\u001b[39;00m e:  \u001b[39m# pylint: disable=broad-except\u001b[39;00m\n\u001b[1;32m     66\u001b[0m   filtered_tb \u001b[39m=\u001b[39m _process_traceback_frames(e\u001b[39m.\u001b[39m__traceback__)\n\u001b[0;32m---> 67\u001b[0m   \u001b[39mraise\u001b[39;00m e\u001b[39m.\u001b[39mwith_traceback(filtered_tb) \u001b[39mfrom\u001b[39;00m \u001b[39mNone\u001b[39m\n\u001b[1;32m     68\u001b[0m \u001b[39mfinally\u001b[39;00m:\n\u001b[1;32m     69\u001b[0m   \u001b[39mdel\u001b[39;00m filtered_tb\n",
      "File \u001b[0;32m/opt/homebrew/Caskroom/miniforge/base/envs/tf/lib/python3.10/site-packages/keras/engine/input_spec.py:214\u001b[0m, in \u001b[0;36massert_input_compatibility\u001b[0;34m(input_spec, inputs, layer_name)\u001b[0m\n\u001b[1;32m    212\u001b[0m   ndim \u001b[39m=\u001b[39m shape\u001b[39m.\u001b[39mrank\n\u001b[1;32m    213\u001b[0m   \u001b[39mif\u001b[39;00m ndim \u001b[39m!=\u001b[39m spec\u001b[39m.\u001b[39mndim:\n\u001b[0;32m--> 214\u001b[0m     \u001b[39mraise\u001b[39;00m \u001b[39mValueError\u001b[39;00m(\u001b[39mf\u001b[39m\u001b[39m'\u001b[39m\u001b[39mInput \u001b[39m\u001b[39m{\u001b[39;00minput_index\u001b[39m}\u001b[39;00m\u001b[39m of layer \u001b[39m\u001b[39m\"\u001b[39m\u001b[39m{\u001b[39;00mlayer_name\u001b[39m}\u001b[39;00m\u001b[39m\"\u001b[39m\u001b[39m \u001b[39m\u001b[39m'\u001b[39m\n\u001b[1;32m    215\u001b[0m                      \u001b[39m'\u001b[39m\u001b[39mis incompatible with the layer: \u001b[39m\u001b[39m'\u001b[39m\n\u001b[1;32m    216\u001b[0m                      \u001b[39mf\u001b[39m\u001b[39m'\u001b[39m\u001b[39mexpected ndim=\u001b[39m\u001b[39m{\u001b[39;00mspec\u001b[39m.\u001b[39mndim\u001b[39m}\u001b[39;00m\u001b[39m, found ndim=\u001b[39m\u001b[39m{\u001b[39;00mndim\u001b[39m}\u001b[39;00m\u001b[39m. \u001b[39m\u001b[39m'\u001b[39m\n\u001b[1;32m    217\u001b[0m                      \u001b[39mf\u001b[39m\u001b[39m'\u001b[39m\u001b[39mFull shape received: \u001b[39m\u001b[39m{\u001b[39;00m\u001b[39mtuple\u001b[39m(shape)\u001b[39m}\u001b[39;00m\u001b[39m'\u001b[39m)\n\u001b[1;32m    218\u001b[0m \u001b[39mif\u001b[39;00m spec\u001b[39m.\u001b[39mmax_ndim \u001b[39mis\u001b[39;00m \u001b[39mnot\u001b[39;00m \u001b[39mNone\u001b[39;00m:\n\u001b[1;32m    219\u001b[0m   ndim \u001b[39m=\u001b[39m x\u001b[39m.\u001b[39mshape\u001b[39m.\u001b[39mrank\n",
      "\u001b[0;31mValueError\u001b[0m: Input 0 of layer \"gru_4\" is incompatible with the layer: expected ndim=3, found ndim=2. Full shape received: (20, 16)"
     ]
    }
   ],
   "source": [
    "g2(inputs[:, 0, :])"
   ]
  },
  {
   "cell_type": "code",
   "execution_count": 29,
   "metadata": {},
   "outputs": [
    {
     "data": {
      "text/plain": [
       "<tf.Tensor: shape=(1080, 100), dtype=float32, numpy=\n",
       "array([[ 0.09465797,  0.11787497,  0.15286814, ..., -0.02413253,\n",
       "         0.36121944,  0.02741932],\n",
       "       [ 0.16339351,  0.18988925,  0.18446703, ..., -0.05323631,\n",
       "         0.48296183,  0.05477516],\n",
       "       [ 0.20765798,  0.22633107,  0.18031006, ..., -0.07515536,\n",
       "         0.5225322 ,  0.07717809],\n",
       "       ...,\n",
       "       [ 0.2734821 ,  0.25643003,  0.16249922, ..., -0.11938749,\n",
       "         0.54036826,  0.12415558],\n",
       "       [ 0.2734821 ,  0.25643003,  0.16249922, ..., -0.11938749,\n",
       "         0.54036826,  0.12415558],\n",
       "       [ 0.2734821 ,  0.25643003,  0.16249922, ..., -0.11938749,\n",
       "         0.54036826,  0.12415558]], dtype=float32)>"
      ]
     },
     "execution_count": 29,
     "metadata": {},
     "output_type": "execute_result"
    }
   ],
   "source": [
    "prediction_target_hidden_output = sequences#[:-1]\n",
    "tf.reshape(tensor=tf.concat(values=prediction_target_hidden_output, axis=1), shape=[-1, hidden_size])"
   ]
  },
  {
   "cell_type": "code",
   "execution_count": 28,
   "metadata": {},
   "outputs": [
    {
     "data": {
      "text/plain": [
       "<tf.Tensor: shape=(19, 54, 100), dtype=float32, numpy=\n",
       "array([[[ 0.0213209 , -0.2767173 ,  0.1447619 , ..., -0.00327762,\n",
       "          0.11568137, -0.02670568],\n",
       "        [ 0.0253525 , -0.3969433 ,  0.24228829, ..., -0.02031945,\n",
       "          0.19410197, -0.0963363 ],\n",
       "        [ 0.02189449, -0.4503873 ,  0.29757336, ..., -0.03708171,\n",
       "          0.24474704, -0.15989162],\n",
       "        ...,\n",
       "        [ 0.01442947, -0.49457717,  0.37103027, ..., -0.08089819,\n",
       "          0.31733423, -0.26936498],\n",
       "        [ 0.01442947, -0.49457717,  0.37103027, ..., -0.08089819,\n",
       "          0.31733423, -0.26936498],\n",
       "        [ 0.01442947, -0.49457717,  0.37103027, ..., -0.08089819,\n",
       "          0.31733423, -0.26936498]],\n",
       "\n",
       "       [[ 0.0213209 , -0.2767173 ,  0.1447619 , ..., -0.00327762,\n",
       "          0.11568137, -0.02670568],\n",
       "        [ 0.0253525 , -0.3969433 ,  0.24228829, ..., -0.02031945,\n",
       "          0.19410197, -0.0963363 ],\n",
       "        [ 0.02189449, -0.4503873 ,  0.29757336, ..., -0.03708171,\n",
       "          0.24474704, -0.15989162],\n",
       "        ...,\n",
       "        [ 0.01442947, -0.49457717,  0.37103027, ..., -0.08089819,\n",
       "          0.31733423, -0.26936498],\n",
       "        [ 0.01442947, -0.49457717,  0.37103027, ..., -0.08089819,\n",
       "          0.31733423, -0.26936498],\n",
       "        [ 0.01442947, -0.49457717,  0.37103027, ..., -0.08089819,\n",
       "          0.31733423, -0.26936498]],\n",
       "\n",
       "       [[ 0.0213209 , -0.2767173 ,  0.1447619 , ..., -0.00327762,\n",
       "          0.11568137, -0.02670568],\n",
       "        [ 0.0253525 , -0.3969433 ,  0.24228829, ..., -0.02031945,\n",
       "          0.19410197, -0.0963363 ],\n",
       "        [ 0.02189449, -0.4503873 ,  0.29757336, ..., -0.03708171,\n",
       "          0.24474704, -0.15989162],\n",
       "        ...,\n",
       "        [ 0.01442947, -0.49457717,  0.37103027, ..., -0.08089819,\n",
       "          0.31733423, -0.26936498],\n",
       "        [ 0.01442947, -0.49457717,  0.37103027, ..., -0.08089819,\n",
       "          0.31733423, -0.26936498],\n",
       "        [ 0.01442947, -0.49457717,  0.37103027, ..., -0.08089819,\n",
       "          0.31733423, -0.26936498]],\n",
       "\n",
       "       ...,\n",
       "\n",
       "       [[ 0.0213209 , -0.2767173 ,  0.1447619 , ..., -0.00327762,\n",
       "          0.11568137, -0.02670568],\n",
       "        [ 0.0253525 , -0.3969433 ,  0.24228829, ..., -0.02031945,\n",
       "          0.19410197, -0.0963363 ],\n",
       "        [ 0.02189449, -0.4503873 ,  0.29757336, ..., -0.03708171,\n",
       "          0.24474704, -0.15989162],\n",
       "        ...,\n",
       "        [ 0.01442947, -0.49457717,  0.37103027, ..., -0.08089819,\n",
       "          0.31733423, -0.26936498],\n",
       "        [ 0.01442947, -0.49457717,  0.37103027, ..., -0.08089819,\n",
       "          0.31733423, -0.26936498],\n",
       "        [ 0.01442947, -0.49457717,  0.37103027, ..., -0.08089819,\n",
       "          0.31733423, -0.26936498]],\n",
       "\n",
       "       [[ 0.0213209 , -0.2767173 ,  0.1447619 , ..., -0.00327762,\n",
       "          0.11568137, -0.02670568],\n",
       "        [ 0.0253525 , -0.3969433 ,  0.24228829, ..., -0.02031945,\n",
       "          0.19410197, -0.0963363 ],\n",
       "        [ 0.02189449, -0.4503873 ,  0.29757336, ..., -0.03708171,\n",
       "          0.24474704, -0.15989162],\n",
       "        ...,\n",
       "        [ 0.01442947, -0.49457717,  0.37103027, ..., -0.08089819,\n",
       "          0.31733423, -0.26936498],\n",
       "        [ 0.01442947, -0.49457717,  0.37103027, ..., -0.08089819,\n",
       "          0.31733423, -0.26936498],\n",
       "        [ 0.01442947, -0.49457717,  0.37103027, ..., -0.08089819,\n",
       "          0.31733423, -0.26936498]],\n",
       "\n",
       "       [[ 0.0213209 , -0.2767173 ,  0.1447619 , ..., -0.00327762,\n",
       "          0.11568137, -0.02670568],\n",
       "        [ 0.0253525 , -0.3969433 ,  0.24228829, ..., -0.02031945,\n",
       "          0.19410197, -0.0963363 ],\n",
       "        [ 0.02189449, -0.4503873 ,  0.29757336, ..., -0.03708171,\n",
       "          0.24474704, -0.15989162],\n",
       "        ...,\n",
       "        [ 0.01442947, -0.49457717,  0.37103027, ..., -0.08089819,\n",
       "          0.31733423, -0.26936498],\n",
       "        [ 0.01442947, -0.49457717,  0.37103027, ..., -0.08089819,\n",
       "          0.31733423, -0.26936498],\n",
       "        [ 0.01442947, -0.49457717,  0.37103027, ..., -0.08089819,\n",
       "          0.31733423, -0.26936498]]], dtype=float32)>"
      ]
     },
     "execution_count": 28,
     "metadata": {},
     "output_type": "execute_result"
    }
   ],
   "source": [
    "prediction_target_hidden_output"
   ]
  },
  {
   "cell_type": "code",
   "execution_count": 29,
   "metadata": {},
   "outputs": [],
   "source": [
    "inputs = tf.ones((20,54,16))"
   ]
  },
  {
   "cell_type": "code",
   "execution_count": 31,
   "metadata": {},
   "outputs": [
    {
     "name": "stdout",
     "output_type": "stream",
     "text": [
      "i==0\n",
      "i>0\n",
      "else\n",
      "i>0\n",
      "else\n",
      "i>0\n",
      "else\n",
      "i>0\n",
      "else\n",
      "i>0\n",
      "else\n",
      "i>0\n",
      "else\n",
      "i>0\n",
      "else\n",
      "i>0\n",
      "else\n",
      "i>0\n",
      "else\n"
     ]
    }
   ],
   "source": [
    "for i in range(10):\n",
    "  if i > 0:\n",
    "    print(\"i>0\")\n",
    "  if i == 0:\n",
    "    print(\"i==0\")\n",
    "  else:\n",
    "    print(\"else\")"
   ]
  },
  {
   "cell_type": "code",
   "execution_count": 60,
   "metadata": {},
   "outputs": [],
   "source": [
    "class Generator(layers.Layer):\n",
    "\n",
    "    def __init__(self, config, *args, **kwargs):\n",
    "        super().__init__(name='Generator_LSTM', *args, **kwargs, )\n",
    "        self.batch_size = config.batch_size  # configurable\n",
    "        self.hidden_size = config.hidden_size  # congigurable for GRU/LSTM\n",
    "        self.num_steps = config.num_steps  # length of input array\n",
    "        # dimension of input eleemnt array univariate 1\n",
    "        self.input_dimension_size = config.input_dimension_size\n",
    "        self.cell_type = config.cell_type  # RNN Cell type\n",
    "        self.lamda = config.lamda  # coefficient that balances the prediction loss\n",
    "        self.class_num = config.class_num  # number of targes\n",
    "        self.layer_num = config.layer_num  # number of layers of AJRNN\n",
    "\n",
    "        with tf.compat.v1.variable_scope(self.name):\n",
    "            # project layer weight W and bias\n",
    "            self.W = tf.Variable(tf.random.truncated_normal(\n",
    "                [self.hidden_size, self.input_dimension_size], stddev=0.1), dtype=tf.float32, name='Project_W')\n",
    "            self.bias = tf.Variable(tf.constant(\n",
    "                0.1, shape=[self.input_dimension_size]), dtype=tf.float32, name='Project_bias')\n",
    "            # lstm_keep_prob, classfication_keep_prob = 1.0, 1.0\n",
    "            # construct cells with the specific layer_num\n",
    "            self.mulrnn_cell = tf.keras.layers.StackedRNNCells(\n",
    "                [RNNCell(type=self.cell_type, hidden_size=self.hidden_size) for _ in range(self.layer_num)]\n",
    "            )\n",
    "\n",
    "        self.dense1 = layers.Dense(self.class_num)\n",
    "    \n",
    "    @tf.compat.v1.keras.utils.track_tf1_style_variables\n",
    "    def __call__(self, input): # , prediction_target, mask, label_target):\n",
    "\n",
    "        with tf.compat.v1.variable_scope(self.name):\n",
    "\n",
    "            # initialize state to zero\n",
    "            init_state = self.mulrnn_cell.get_initial_state(batch_size=self.batch_size, dtype=tf.float32)\n",
    "            state = init_state\n",
    "\n",
    "            outputs = list()\n",
    "\n",
    "            # makes cell run\n",
    "            # outputs has list of 'num_steps' with each element's shape (batch_size, hidden_size)\n",
    "            with tf.compat.v1.variable_scope(\"RNN\"):\n",
    "                for time_step in range(self.num_steps):\n",
    "                    if time_step > 0:\n",
    "                        tf.compat.v1.get_variable_scope().reuse_variables()\n",
    "\n",
    "                    if time_step == 0:\n",
    "                        (cell_output, state) = self.mulrnn_cell(input[:, time_step, :], state)\n",
    "                        outputs.append(cell_output)\n",
    "\n",
    "                    else:\n",
    "                        # comparison has shape (batch_size, self.input_dimension_size) with elements 1 (means missing) when equal or 0 (not missing) otherwise\n",
    "                        comparison = tf.equal(input[:, time_step, :], tf.constant(MISSING_VALUE))\n",
    "                        current_prediction_output = tf.matmul(outputs[time_step - 1], self.W) + self.bias\n",
    "                        # change the current_input, select current_prediction_output when 1 (missing) or use input when 0 (not missing)\n",
    "                        current_input = tf.where(comparison, current_prediction_output, input[:, time_step, :])\n",
    "                        (cell_output, state) = self.mulrnn_cell(current_input, state)\n",
    "                        outputs.append(cell_output)\n",
    "\n",
    "            # last_cell has the last_time_step of shape (batch_size, hidden_size)\n",
    "            last_cell = outputs[-1]\n",
    "\n",
    "            # prediction_target_hidden_output has list of 'num_steps - 1' with each element's shape (batch_size, hidden_size)\n",
    "            prediction_target_hidden_output = outputs[:-1]\n",
    "\n",
    "            # unfolded outputs into the [batch, hidden_size * (numsteps-1)], and then reshape it into [batch * (numsteps-1), hidden_size]\n",
    "            prediction_hidden_output = tf.reshape(tensor=tf.concat(values=prediction_target_hidden_output, axis=1), shape=[-1, self.hidden_size])\n",
    "\n",
    "            # prediction has shape (batch * (numsteps - 1), self.input_dimension_size)\n",
    "            prediction = tf.add(tf.matmul(prediction_hidden_output, self.W), self.bias, name='prediction')\n",
    "\n",
    "           \n",
    "            #with tf.compat.v1.variable_scope('Softmax_layer'):\n",
    "            label_logits = self.dense1(last_cell)\n",
    "                \n",
    "                \n",
    "           \n",
    "        \n",
    "        return label_logits\n",
    "        return prediction, label_logits, last_cell"
   ]
  },
  {
   "cell_type": "code",
   "execution_count": 52,
   "metadata": {},
   "outputs": [
    {
     "data": {
      "text/plain": [
       "20"
      ]
     },
     "execution_count": 52,
     "metadata": {},
     "output_type": "execute_result"
    }
   ],
   "source": [
    "args = {\n",
    "  'batch_size': 20,\n",
    "  'epoch': 3,\n",
    "  'lamda_D': 1.0,\n",
    "  'G_epoch': 5,\n",
    "  'train_data_filename': 'SITS',\n",
    "  'test_data_filename': None,\n",
    "  'layer_num': 1,\n",
    "  'hidden_size': 100,\n",
    "  'learning_rate': 0.001,\n",
    "  'cell_type': 'GRU',\n",
    "  'lamda': 1,\n",
    "  'D_epoch': 1,\n",
    "  'GPU': '0',\n",
    "  'save': None,\n",
    "  'verbose': 1,\n",
    "  'num_steps': 54,\n",
    "  'input_dimension_size': 16,\n",
    "  'class_num': 8}\n",
    "\n",
    "config = Config( **args)\n",
    "config.batch_size"
   ]
  },
  {
   "cell_type": "code",
   "execution_count": 61,
   "metadata": {},
   "outputs": [],
   "source": [
    "g = Generator(config)\n",
    "#(20, 54, 16)"
   ]
  },
  {
   "cell_type": "code",
   "execution_count": 63,
   "metadata": {},
   "outputs": [
    {
     "data": {
      "text/plain": [
       "<tf.Tensor: shape=(20, 8), dtype=float32, numpy=\n",
       "array([[ 0.20953533,  0.19519186, -0.6723579 , -0.79262966,  0.01815289,\n",
       "         0.25061285, -0.49603194,  0.10389157],\n",
       "       [ 0.20953533,  0.19519186, -0.6723579 , -0.79262966,  0.01815289,\n",
       "         0.25061285, -0.49603194,  0.10389157],\n",
       "       [ 0.20953533,  0.19519186, -0.6723579 , -0.79262966,  0.01815289,\n",
       "         0.25061285, -0.49603194,  0.10389157],\n",
       "       [ 0.20953533,  0.19519186, -0.6723579 , -0.79262966,  0.01815289,\n",
       "         0.25061285, -0.49603194,  0.10389157],\n",
       "       [ 0.20953533,  0.19519186, -0.6723579 , -0.79262966,  0.01815289,\n",
       "         0.25061285, -0.49603194,  0.10389157],\n",
       "       [ 0.20953533,  0.19519186, -0.6723579 , -0.79262966,  0.01815289,\n",
       "         0.25061285, -0.49603194,  0.10389157],\n",
       "       [ 0.20953533,  0.19519186, -0.6723579 , -0.79262966,  0.01815289,\n",
       "         0.25061285, -0.49603194,  0.10389157],\n",
       "       [ 0.20953533,  0.19519186, -0.6723579 , -0.79262966,  0.01815289,\n",
       "         0.25061285, -0.49603194,  0.10389157],\n",
       "       [ 0.20953533,  0.19519186, -0.6723579 , -0.79262966,  0.01815289,\n",
       "         0.25061285, -0.49603194,  0.10389157],\n",
       "       [ 0.20953533,  0.19519186, -0.6723579 , -0.79262966,  0.01815289,\n",
       "         0.25061285, -0.49603194,  0.10389157],\n",
       "       [ 0.20953533,  0.19519186, -0.6723579 , -0.79262966,  0.01815289,\n",
       "         0.25061285, -0.49603194,  0.10389157],\n",
       "       [ 0.20953533,  0.19519186, -0.6723579 , -0.79262966,  0.01815289,\n",
       "         0.25061285, -0.49603194,  0.10389157],\n",
       "       [ 0.20953533,  0.19519186, -0.6723579 , -0.79262966,  0.01815289,\n",
       "         0.25061285, -0.49603194,  0.10389157],\n",
       "       [ 0.20953533,  0.19519186, -0.6723579 , -0.79262966,  0.01815289,\n",
       "         0.25061285, -0.49603194,  0.10389157],\n",
       "       [ 0.20953533,  0.19519186, -0.6723579 , -0.79262966,  0.01815289,\n",
       "         0.25061285, -0.49603194,  0.10389157],\n",
       "       [ 0.20953533,  0.19519186, -0.6723579 , -0.79262966,  0.01815289,\n",
       "         0.25061285, -0.49603194,  0.10389157],\n",
       "       [ 0.20953533,  0.19519186, -0.6723579 , -0.79262966,  0.01815289,\n",
       "         0.25061285, -0.49603194,  0.10389157],\n",
       "       [ 0.20953533,  0.19519186, -0.6723579 , -0.79262966,  0.01815289,\n",
       "         0.25061285, -0.49603194,  0.10389157],\n",
       "       [ 0.20953533,  0.19519186, -0.6723579 , -0.79262966,  0.01815289,\n",
       "         0.25061285, -0.49603194,  0.10389157],\n",
       "       [ 0.20953533,  0.19519186, -0.6723579 , -0.79262966,  0.01815289,\n",
       "         0.25061285, -0.49603194,  0.10389157]], dtype=float32)>"
      ]
     },
     "execution_count": 63,
     "metadata": {},
     "output_type": "execute_result"
    }
   ],
   "source": [
    "g(tf.ones((20, 54, 16)))"
   ]
  },
  {
   "cell_type": "code",
   "execution_count": 66,
   "metadata": {},
   "outputs": [
    {
     "data": {
      "text/plain": [
       "[<tf.Variable 'Generator_LSTM/Project_W:0' shape=(100, 16) dtype=float32, numpy=\n",
       " array([[-0.16740161,  0.14539148, -0.12421192, ...,  0.05829823,\n",
       "          0.19561909,  0.05258258],\n",
       "        [ 0.06998283,  0.00174662, -0.06391335, ..., -0.04794777,\n",
       "          0.10501041,  0.1325346 ],\n",
       "        [-0.11309123, -0.07756921, -0.05660299, ...,  0.03700384,\n",
       "         -0.07048105, -0.02705686],\n",
       "        ...,\n",
       "        [ 0.10210301, -0.0171556 ,  0.03799283, ..., -0.01746551,\n",
       "          0.05699409,  0.00748228],\n",
       "        [-0.04427364, -0.1631882 , -0.11639275, ...,  0.1528422 ,\n",
       "         -0.00951483,  0.11049787],\n",
       "        [ 0.02555117, -0.06583053,  0.03697964, ...,  0.19372034,\n",
       "          0.01354282, -0.05677392]], dtype=float32)>,\n",
       " <tf.Variable 'Generator_LSTM/Project_bias:0' shape=(16,) dtype=float32, numpy=\n",
       " array([0.1, 0.1, 0.1, 0.1, 0.1, 0.1, 0.1, 0.1, 0.1, 0.1, 0.1, 0.1, 0.1,\n",
       "        0.1, 0.1, 0.1], dtype=float32)>,\n",
       " <tf.Variable 'Generator_LSTM/RNN/stacked_rnn_cells_2/gru_cell_2/kernel:0' shape=(16, 300) dtype=float32, numpy=\n",
       " array([[-0.05186781,  0.08993611,  0.05096899, ...,  0.01778059,\n",
       "         -0.01474522, -0.02473   ],\n",
       "        [ 0.02985546,  0.00268246, -0.0522424 , ...,  0.00120564,\n",
       "          0.03059129,  0.08112065],\n",
       "        [-0.0810975 ,  0.01220541, -0.1089381 , ..., -0.08778563,\n",
       "         -0.06360076,  0.05842927],\n",
       "        ...,\n",
       "        [-0.07000627, -0.03421982,  0.13466395, ..., -0.00850575,\n",
       "          0.11897798,  0.03906314],\n",
       "        [ 0.05707301,  0.11106488, -0.02263271, ..., -0.03969575,\n",
       "          0.0989995 , -0.00966631],\n",
       "        [ 0.12743135,  0.12914003, -0.02017956, ...,  0.12911473,\n",
       "          0.04336137, -0.01877497]], dtype=float32)>,\n",
       " <tf.Variable 'Generator_LSTM/RNN/stacked_rnn_cells_2/gru_cell_2/recurrent_kernel:0' shape=(100, 300) dtype=float32, numpy=\n",
       " array([[ 0.00887287,  0.05280196, -0.00339254, ..., -0.05440965,\n",
       "         -0.01655695, -0.05990775],\n",
       "        [-0.01362333, -0.03476799,  0.15892878, ...,  0.00073747,\n",
       "         -0.09541567,  0.04469337],\n",
       "        [-0.06186617,  0.02506297,  0.07017362, ...,  0.1059191 ,\n",
       "         -0.03790775,  0.09627309],\n",
       "        ...,\n",
       "        [ 0.06701079, -0.05736611, -0.07891959, ...,  0.05469544,\n",
       "          0.03057077, -0.11279432],\n",
       "        [ 0.05436769, -0.16961867, -0.11041591, ..., -0.01662646,\n",
       "         -0.00571781, -0.11174167],\n",
       "        [-0.05108983,  0.00298497,  0.08722608, ..., -0.06182755,\n",
       "          0.00570342, -0.03577902]], dtype=float32)>,\n",
       " <tf.Variable 'Generator_LSTM/RNN/stacked_rnn_cells_2/gru_cell_2/bias:0' shape=(2, 300) dtype=float32, numpy=\n",
       " array([[0., 0., 0., 0., 0., 0., 0., 0., 0., 0., 0., 0., 0., 0., 0., 0.,\n",
       "         0., 0., 0., 0., 0., 0., 0., 0., 0., 0., 0., 0., 0., 0., 0., 0.,\n",
       "         0., 0., 0., 0., 0., 0., 0., 0., 0., 0., 0., 0., 0., 0., 0., 0.,\n",
       "         0., 0., 0., 0., 0., 0., 0., 0., 0., 0., 0., 0., 0., 0., 0., 0.,\n",
       "         0., 0., 0., 0., 0., 0., 0., 0., 0., 0., 0., 0., 0., 0., 0., 0.,\n",
       "         0., 0., 0., 0., 0., 0., 0., 0., 0., 0., 0., 0., 0., 0., 0., 0.,\n",
       "         0., 0., 0., 0., 0., 0., 0., 0., 0., 0., 0., 0., 0., 0., 0., 0.,\n",
       "         0., 0., 0., 0., 0., 0., 0., 0., 0., 0., 0., 0., 0., 0., 0., 0.,\n",
       "         0., 0., 0., 0., 0., 0., 0., 0., 0., 0., 0., 0., 0., 0., 0., 0.,\n",
       "         0., 0., 0., 0., 0., 0., 0., 0., 0., 0., 0., 0., 0., 0., 0., 0.,\n",
       "         0., 0., 0., 0., 0., 0., 0., 0., 0., 0., 0., 0., 0., 0., 0., 0.,\n",
       "         0., 0., 0., 0., 0., 0., 0., 0., 0., 0., 0., 0., 0., 0., 0., 0.,\n",
       "         0., 0., 0., 0., 0., 0., 0., 0., 0., 0., 0., 0., 0., 0., 0., 0.,\n",
       "         0., 0., 0., 0., 0., 0., 0., 0., 0., 0., 0., 0., 0., 0., 0., 0.,\n",
       "         0., 0., 0., 0., 0., 0., 0., 0., 0., 0., 0., 0., 0., 0., 0., 0.,\n",
       "         0., 0., 0., 0., 0., 0., 0., 0., 0., 0., 0., 0., 0., 0., 0., 0.,\n",
       "         0., 0., 0., 0., 0., 0., 0., 0., 0., 0., 0., 0., 0., 0., 0., 0.,\n",
       "         0., 0., 0., 0., 0., 0., 0., 0., 0., 0., 0., 0., 0., 0., 0., 0.,\n",
       "         0., 0., 0., 0., 0., 0., 0., 0., 0., 0., 0., 0.],\n",
       "        [0., 0., 0., 0., 0., 0., 0., 0., 0., 0., 0., 0., 0., 0., 0., 0.,\n",
       "         0., 0., 0., 0., 0., 0., 0., 0., 0., 0., 0., 0., 0., 0., 0., 0.,\n",
       "         0., 0., 0., 0., 0., 0., 0., 0., 0., 0., 0., 0., 0., 0., 0., 0.,\n",
       "         0., 0., 0., 0., 0., 0., 0., 0., 0., 0., 0., 0., 0., 0., 0., 0.,\n",
       "         0., 0., 0., 0., 0., 0., 0., 0., 0., 0., 0., 0., 0., 0., 0., 0.,\n",
       "         0., 0., 0., 0., 0., 0., 0., 0., 0., 0., 0., 0., 0., 0., 0., 0.,\n",
       "         0., 0., 0., 0., 0., 0., 0., 0., 0., 0., 0., 0., 0., 0., 0., 0.,\n",
       "         0., 0., 0., 0., 0., 0., 0., 0., 0., 0., 0., 0., 0., 0., 0., 0.,\n",
       "         0., 0., 0., 0., 0., 0., 0., 0., 0., 0., 0., 0., 0., 0., 0., 0.,\n",
       "         0., 0., 0., 0., 0., 0., 0., 0., 0., 0., 0., 0., 0., 0., 0., 0.,\n",
       "         0., 0., 0., 0., 0., 0., 0., 0., 0., 0., 0., 0., 0., 0., 0., 0.,\n",
       "         0., 0., 0., 0., 0., 0., 0., 0., 0., 0., 0., 0., 0., 0., 0., 0.,\n",
       "         0., 0., 0., 0., 0., 0., 0., 0., 0., 0., 0., 0., 0., 0., 0., 0.,\n",
       "         0., 0., 0., 0., 0., 0., 0., 0., 0., 0., 0., 0., 0., 0., 0., 0.,\n",
       "         0., 0., 0., 0., 0., 0., 0., 0., 0., 0., 0., 0., 0., 0., 0., 0.,\n",
       "         0., 0., 0., 0., 0., 0., 0., 0., 0., 0., 0., 0., 0., 0., 0., 0.,\n",
       "         0., 0., 0., 0., 0., 0., 0., 0., 0., 0., 0., 0., 0., 0., 0., 0.,\n",
       "         0., 0., 0., 0., 0., 0., 0., 0., 0., 0., 0., 0., 0., 0., 0., 0.,\n",
       "         0., 0., 0., 0., 0., 0., 0., 0., 0., 0., 0., 0.]], dtype=float32)>,\n",
       " <tf.Variable 'Generator_LSTM/Softmax_layer/dense_16/kernel:0' shape=(100, 8) dtype=float32, numpy=\n",
       " array([[-0.08872165,  0.15383874,  0.08718418, -0.23253956,  0.1355265 ,\n",
       "         -0.05154756, -0.0977549 ,  0.23201083],\n",
       "        [ 0.21595241,  0.02650855, -0.1580794 , -0.17231858, -0.1733361 ,\n",
       "          0.0164095 ,  0.03342341,  0.00457501],\n",
       "        [-0.00823852, -0.16225491, -0.06113046, -0.00372095,  0.03159164,\n",
       "         -0.13778749, -0.14979406,  0.2351542 ],\n",
       "        [-0.06151551, -0.05690864,  0.12836896,  0.085851  , -0.04745707,\n",
       "          0.13391252,  0.08428787,  0.11028932],\n",
       "        [ 0.02453397, -0.18409047,  0.07014416,  0.23055355,  0.1510217 ,\n",
       "          0.09649818,  0.21583845, -0.2248721 ],\n",
       "        [ 0.20552613,  0.07133596, -0.08643869, -0.23517638,  0.1985646 ,\n",
       "         -0.05549346,  0.12843902,  0.1956998 ],\n",
       "        [ 0.03540875,  0.13828273, -0.0334809 , -0.1455746 ,  0.11561222,\n",
       "         -0.03883427,  0.14960076, -0.14086926],\n",
       "        [ 0.06869106, -0.15799482, -0.02431868,  0.04986934,  0.14901806,\n",
       "         -0.04102856, -0.1115822 , -0.14572251],\n",
       "        [ 0.12406711,  0.15746059, -0.00260344,  0.08797912, -0.09415881,\n",
       "         -0.10969858,  0.15739809,  0.06122865],\n",
       "        [-0.16431697, -0.01393346,  0.0914643 ,  0.21712472,  0.20653896,\n",
       "          0.0141387 , -0.13597119, -0.04993738],\n",
       "        [-0.15812436, -0.03615834,  0.08169173, -0.10115947, -0.03918791,\n",
       "          0.11655824,  0.18774764,  0.2129515 ],\n",
       "        [-0.19012275,  0.20900123,  0.09073071,  0.22957157,  0.23217104,\n",
       "         -0.13952743, -0.11125672,  0.1386062 ],\n",
       "        [ 0.10358943, -0.01015548, -0.13498181,  0.13393919,  0.20368014,\n",
       "          0.02949943, -0.01140623, -0.09171817],\n",
       "        [ 0.01828323, -0.20564723,  0.06361039,  0.06768094, -0.07438278,\n",
       "          0.16310577, -0.1340684 , -0.18503265],\n",
       "        [-0.1726445 ,  0.2150449 ,  0.06989397,  0.02590622, -0.22454223,\n",
       "          0.11353536, -0.06788991, -0.09468436],\n",
       "        [ 0.08959635, -0.13619366, -0.23152691, -0.03557976, -0.19653744,\n",
       "         -0.04354601,  0.0361094 , -0.0003655 ],\n",
       "        [-0.1375431 , -0.20101708,  0.18121009, -0.1551607 , -0.03634863,\n",
       "          0.22658803, -0.02989465, -0.17263411],\n",
       "        [-0.17997923,  0.17379512, -0.14787267, -0.07613312,  0.10221268,\n",
       "         -0.04893626, -0.23399587,  0.19131263],\n",
       "        [ 0.14100297,  0.13829301,  0.20391162,  0.20546414,  0.19041367,\n",
       "         -0.14799017, -0.00073864,  0.14782782],\n",
       "        [ 0.15855421, -0.20959567, -0.22223932,  0.07804398, -0.08643763,\n",
       "         -0.19314513, -0.09234509, -0.23463078],\n",
       "        [ 0.06280275, -0.16279069,  0.08282934,  0.1921749 , -0.07653137,\n",
       "         -0.01624739, -0.09250401, -0.0293836 ],\n",
       "        [ 0.11754222,  0.11107217, -0.02248225, -0.00452635, -0.146639  ,\n",
       "          0.00955784,  0.17615826, -0.01451115],\n",
       "        [ 0.06567885,  0.06916057,  0.21800931, -0.04238321,  0.17225473,\n",
       "          0.18210255, -0.10467193,  0.18185668],\n",
       "        [-0.13294353, -0.09845228, -0.21706358,  0.14786975,  0.14801405,\n",
       "          0.01027983, -0.17679119,  0.02302729],\n",
       "        [ 0.1299084 ,  0.05583327, -0.11815178,  0.18545924, -0.10171568,\n",
       "          0.09584902, -0.11209353, -0.02676813],\n",
       "        [-0.01580855, -0.20750344, -0.04667753,  0.09094502, -0.17514168,\n",
       "         -0.1283617 , -0.07688035,  0.01551573],\n",
       "        [ 0.04310171, -0.1332272 ,  0.01518275, -0.21143275, -0.2170751 ,\n",
       "         -0.03833993,  0.13642408, -0.21503457],\n",
       "        [ 0.22135194, -0.00416635, -0.06099036, -0.07761489, -0.22268754,\n",
       "          0.23455913,  0.01024248, -0.13997334],\n",
       "        [ 0.10288624,  0.16152005,  0.21413998,  0.18909065,  0.06052501,\n",
       "         -0.19506977,  0.03205211, -0.100109  ],\n",
       "        [-0.1469419 ,  0.07819258,  0.05610694, -0.21485329, -0.00176011,\n",
       "          0.06952561, -0.06799152, -0.08469307],\n",
       "        [-0.07681532,  0.11271574, -0.1578635 , -0.03980607,  0.13500197,\n",
       "         -0.01933034, -0.03447691,  0.02971925],\n",
       "        [-0.21630369,  0.11936031, -0.14936337, -0.09047405, -0.09200433,\n",
       "         -0.1951063 ,  0.11908071, -0.03575435],\n",
       "        [ 0.13564686, -0.18096514, -0.06950819,  0.00338872, -0.15807259,\n",
       "          0.0193695 ,  0.03609715, -0.15629753],\n",
       "        [ 0.1417798 , -0.07314771, -0.09081168,  0.22159638, -0.03141165,\n",
       "          0.00862499,  0.16761129, -0.13217038],\n",
       "        [ 0.12299506, -0.21324979,  0.00620525,  0.223161  , -0.07852682,\n",
       "         -0.22084212, -0.09958604,  0.04118203],\n",
       "        [ 0.12100811,  0.09711753,  0.02775605, -0.04672135,  0.15921788,\n",
       "          0.1249776 ,  0.01899402,  0.01152846],\n",
       "        [ 0.18693118, -0.03517413,  0.08599176, -0.15320835, -0.03944708,\n",
       "          0.1565774 , -0.08783869, -0.16439644],\n",
       "        [-0.12440418,  0.0304143 , -0.0252222 , -0.04230151,  0.05106877,\n",
       "          0.00458844, -0.08936238, -0.19849063],\n",
       "        [ 0.03669141, -0.159161  ,  0.06173985,  0.10629524,  0.15994982,\n",
       "          0.18801384,  0.07062052, -0.19042362],\n",
       "        [-0.20477451,  0.04859985,  0.01234166, -0.09775236, -0.06209259,\n",
       "          0.1944709 ,  0.20325817,  0.14612491],\n",
       "        [ 0.18336587, -0.05558652, -0.01643182, -0.10990043,  0.03485037,\n",
       "          0.20297854,  0.22190012, -0.11078384],\n",
       "        [-0.00700335,  0.07045491, -0.19763972, -0.21904683,  0.07704444,\n",
       "          0.04341041,  0.1878195 , -0.02260734],\n",
       "        [-0.20788775,  0.02097206, -0.20630461, -0.23343217, -0.20982315,\n",
       "         -0.09076481, -0.19718426, -0.20784691],\n",
       "        [ 0.0476936 , -0.03478672, -0.09310913,  0.12697215,  0.02974962,\n",
       "         -0.23449478,  0.20758002, -0.09131755],\n",
       "        [-0.04408488,  0.18696006,  0.20379092, -0.22929762,  0.116109  ,\n",
       "         -0.08071807,  0.18851723,  0.14567433],\n",
       "        [ 0.12235145, -0.13927397,  0.14524783,  0.0304275 , -0.14000604,\n",
       "          0.11803944, -0.19529963, -0.00549433],\n",
       "        [-0.07689923,  0.18664484,  0.0880193 ,  0.16485314, -0.18618466,\n",
       "         -0.23553166,  0.07264374,  0.0812148 ],\n",
       "        [ 0.04235353, -0.00194089,  0.09691124, -0.14357026, -0.11900832,\n",
       "         -0.08888136, -0.02728778, -0.14774618],\n",
       "        [-0.00436489,  0.23407398, -0.15344605, -0.14731593, -0.10571177,\n",
       "          0.05524524,  0.227556  , -0.0341154 ],\n",
       "        [ 0.1632467 ,  0.02276228,  0.21589448,  0.07581528, -0.13320899,\n",
       "          0.19031905, -0.05055593, -0.16320175],\n",
       "        [ 0.07834582,  0.11639251,  0.17768769,  0.16392697, -0.1286473 ,\n",
       "         -0.00350313,  0.12646218,  0.14188348],\n",
       "        [ 0.13128047,  0.10603298,  0.18740378,  0.13970517,  0.05714159,\n",
       "         -0.22612886,  0.06225853,  0.02842267],\n",
       "        [ 0.06426491, -0.05378589, -0.02435285, -0.11503128,  0.11669125,\n",
       "          0.01957132,  0.03534378,  0.05727397],\n",
       "        [ 0.15736936,  0.20181553,  0.17937194,  0.19641568, -0.14273115,\n",
       "          0.07726438, -0.14744166, -0.07978454],\n",
       "        [-0.20687927,  0.09397821,  0.09514259,  0.21453078, -0.14444703,\n",
       "          0.05910186, -0.19003211, -0.14569524],\n",
       "        [ 0.23343809,  0.05050097, -0.15407382,  0.22586446,  0.0697064 ,\n",
       "          0.17460315, -0.14328367, -0.07347792],\n",
       "        [-0.15632513,  0.13618283, -0.12933996,  0.21373685,  0.06028427,\n",
       "          0.06470092,  0.16274254, -0.03143351],\n",
       "        [-0.11652688, -0.00471528,  0.22531115, -0.09657545,  0.21555932,\n",
       "          0.0228882 , -0.10675701,  0.16602896],\n",
       "        [-0.01449665,  0.0384834 ,  0.02959828,  0.11744089,  0.06783216,\n",
       "          0.0913779 , -0.21492083,  0.10991819],\n",
       "        [ 0.05293311,  0.19702186, -0.03687878,  0.08232476, -0.18300629,\n",
       "          0.14613162, -0.05538753,  0.09689702],\n",
       "        [-0.20281917,  0.17031462,  0.21385436, -0.19666056, -0.20553315,\n",
       "          0.12629001,  0.16747023, -0.10274845],\n",
       "        [ 0.03588854, -0.16829658, -0.18101853, -0.00325283,  0.07376097,\n",
       "         -0.09294628, -0.14838052,  0.03989144],\n",
       "        [-0.06368276, -0.08055988,  0.21576889, -0.00488511,  0.20591168,\n",
       "          0.13258196,  0.12179114,  0.053726  ],\n",
       "        [ 0.02250491,  0.08426167, -0.19278732,  0.04845886, -0.12472916,\n",
       "          0.13969646, -0.15750232,  0.12504683],\n",
       "        [ 0.19063272, -0.19235592, -0.11570029, -0.13348582,  0.03349055,\n",
       "          0.02681191,  0.21432362, -0.21766746],\n",
       "        [ 0.08015107,  0.2084632 , -0.08966461, -0.14304793,  0.12595598,\n",
       "          0.10853712,  0.23088391, -0.0825541 ],\n",
       "        [-0.17678866, -0.18074036, -0.10237233,  0.0248123 ,  0.04191752,\n",
       "         -0.17095554,  0.074578  , -0.19230585],\n",
       "        [ 0.01389885,  0.22245152, -0.21918379, -0.21142045,  0.13755281,\n",
       "          0.21203123,  0.18024488,  0.18910582],\n",
       "        [ 0.2138366 ,  0.16251116, -0.23297401, -0.1642851 ,  0.1234438 ,\n",
       "         -0.11652879,  0.11282413, -0.11692356],\n",
       "        [ 0.1949289 , -0.04323958,  0.1264361 , -0.20788163,  0.13036196,\n",
       "         -0.1682696 , -0.17127973,  0.19527759],\n",
       "        [ 0.00625387, -0.19385701,  0.19497009,  0.04264985, -0.06960715,\n",
       "         -0.04402536,  0.08399703,  0.1491823 ],\n",
       "        [-0.20728754, -0.10544749, -0.05095273,  0.02468874, -0.18154564,\n",
       "         -0.03002143,  0.0316814 , -0.17437354],\n",
       "        [-0.13546368, -0.09066007, -0.23076372,  0.12399514, -0.16110244,\n",
       "          0.18167843, -0.15143791, -0.15168825],\n",
       "        [ 0.20684858,  0.07849143,  0.22972567,  0.14182393,  0.18801056,\n",
       "          0.06067489, -0.02802384,  0.06571434],\n",
       "        [ 0.10960732,  0.07664068,  0.06334071, -0.16555062, -0.00426143,\n",
       "          0.00206228,  0.05232744,  0.13875963],\n",
       "        [-0.13872   ,  0.02087776, -0.18634228, -0.02882907, -0.14513206,\n",
       "         -0.04279985,  0.06373243,  0.21272863],\n",
       "        [-0.00354365, -0.19279817, -0.22872533,  0.08938061, -0.0873974 ,\n",
       "         -0.1035212 , -0.12324289, -0.2217584 ],\n",
       "        [-0.00377962,  0.07814346,  0.18202443, -0.14687845, -0.2242296 ,\n",
       "          0.0640424 , -0.15503235,  0.20352657],\n",
       "        [-0.08617446,  0.07777925, -0.17913294,  0.1842459 , -0.13997906,\n",
       "         -0.19641116, -0.12643577,  0.03803732],\n",
       "        [-0.0397995 , -0.02219161,  0.22823717, -0.17608492, -0.05872405,\n",
       "         -0.01708718,  0.14551656, -0.15410669],\n",
       "        [-0.23388568,  0.11164083,  0.06907301, -0.02018829, -0.20165801,\n",
       "          0.1027353 , -0.19786519,  0.1544678 ],\n",
       "        [ 0.22777192, -0.15346888,  0.14867182,  0.19113226, -0.15113439,\n",
       "         -0.04311538,  0.07427718,  0.0065344 ],\n",
       "        [-0.14835016, -0.16872923, -0.21937305, -0.13844167, -0.06069978,\n",
       "          0.20037167,  0.19721667, -0.02842227],\n",
       "        [ 0.22470723,  0.1860509 ,  0.22379448,  0.0948462 ,  0.11131461,\n",
       "         -0.03014006,  0.11958747, -0.22932364],\n",
       "        [-0.10259639, -0.19195889, -0.1214117 ,  0.19899888, -0.1735397 ,\n",
       "         -0.14662978, -0.17220871, -0.09467638],\n",
       "        [-0.12784229, -0.2248091 , -0.09226839,  0.13343091, -0.13306147,\n",
       "         -0.17696619,  0.11582144,  0.1779313 ],\n",
       "        [ 0.09959109, -0.12015218, -0.09173492, -0.05921666, -0.08916065,\n",
       "         -0.20700386, -0.19408533, -0.01306744],\n",
       "        [ 0.18001442, -0.03989767, -0.01309048, -0.13957755, -0.23300278,\n",
       "          0.00852647, -0.14898428, -0.20440687],\n",
       "        [ 0.00968018, -0.14748734, -0.09755282,  0.10572048, -0.2061666 ,\n",
       "          0.0514331 , -0.19976303,  0.18694071],\n",
       "        [ 0.10772161, -0.05539034,  0.00968383,  0.19473968,  0.02843244,\n",
       "          0.10668217,  0.07544629, -0.01719512],\n",
       "        [ 0.01214211,  0.20658301,  0.07061036, -0.1484144 ,  0.14035182,\n",
       "         -0.06311266, -0.19337036, -0.01373088],\n",
       "        [ 0.03501494,  0.01152986, -0.01164754, -0.02806272,  0.20369886,\n",
       "         -0.01361248,  0.11179407, -0.09530818],\n",
       "        [-0.06711879,  0.06358565, -0.05708031, -0.02325961,  0.17817082,\n",
       "         -0.00222844, -0.12797537,  0.13000573],\n",
       "        [-0.08055516, -0.02016401,  0.08082058,  0.15611081,  0.12598665,\n",
       "         -0.17647666, -0.0335685 ,  0.08360709],\n",
       "        [-0.10405202,  0.182074  , -0.0606945 , -0.14640713, -0.00312881,\n",
       "         -0.09428896,  0.04386784,  0.03083925],\n",
       "        [-0.15859169,  0.03055485,  0.1894279 ,  0.189476  ,  0.22869952,\n",
       "         -0.21295634,  0.00470123, -0.11091893],\n",
       "        [-0.13494825,  0.07937033,  0.1342317 ,  0.01779424,  0.05488835,\n",
       "          0.07080705, -0.18164562,  0.2176099 ],\n",
       "        [ 0.02121089,  0.20293213,  0.18908267, -0.2250517 , -0.22960496,\n",
       "         -0.06264573,  0.1499445 ,  0.09431435],\n",
       "        [-0.1961774 ,  0.12278108, -0.15700212, -0.17165354,  0.12127908,\n",
       "          0.17046379,  0.00262384,  0.17072256],\n",
       "        [ 0.05856489,  0.0314623 , -0.19358715,  0.15517564, -0.09797946,\n",
       "          0.20187639,  0.06419785,  0.17582496]], dtype=float32)>,\n",
       " <tf.Variable 'Generator_LSTM/Softmax_layer/dense_16/bias:0' shape=(8,) dtype=float32, numpy=array([0., 0., 0., 0., 0., 0., 0., 0.], dtype=float32)>]"
      ]
     },
     "execution_count": 66,
     "metadata": {},
     "output_type": "execute_result"
    }
   ],
   "source": [
    "g.trainable_variables"
   ]
  },
  {
   "cell_type": "code",
   "execution_count": 93,
   "metadata": {},
   "outputs": [],
   "source": [
    "d = keras.Sequential([layers.Input(20),layers.Dense(8)])"
   ]
  },
  {
   "cell_type": "code",
   "execution_count": 92,
   "metadata": {},
   "outputs": [
    {
     "ename": "ValueError",
     "evalue": "Input 0 of layer \"sequential_6\" is incompatible with the layer: expected shape=(None, 100), found shape=(100, 20)",
     "output_type": "error",
     "traceback": [
      "\u001b[0;31m---------------------------------------------------------------------------\u001b[0m",
      "\u001b[0;31mValueError\u001b[0m                                Traceback (most recent call last)",
      "\u001b[1;32m/Users/donald/personal/AJ-RNN/v2.ipynb Cell 10\u001b[0m in \u001b[0;36m<cell line: 1>\u001b[0;34m()\u001b[0m\n\u001b[0;32m----> <a href='vscode-notebook-cell:/Users/donald/personal/AJ-RNN/v2.ipynb#X20sZmlsZQ%3D%3D?line=0'>1</a>\u001b[0m d(tf\u001b[39m.\u001b[39;49mones((\u001b[39m100\u001b[39;49m, \u001b[39m20\u001b[39;49m)))\n",
      "File \u001b[0;32m/opt/homebrew/Caskroom/miniforge/base/envs/tf/lib/python3.10/site-packages/keras/utils/traceback_utils.py:67\u001b[0m, in \u001b[0;36mfilter_traceback.<locals>.error_handler\u001b[0;34m(*args, **kwargs)\u001b[0m\n\u001b[1;32m     65\u001b[0m \u001b[39mexcept\u001b[39;00m \u001b[39mException\u001b[39;00m \u001b[39mas\u001b[39;00m e:  \u001b[39m# pylint: disable=broad-except\u001b[39;00m\n\u001b[1;32m     66\u001b[0m   filtered_tb \u001b[39m=\u001b[39m _process_traceback_frames(e\u001b[39m.\u001b[39m__traceback__)\n\u001b[0;32m---> 67\u001b[0m   \u001b[39mraise\u001b[39;00m e\u001b[39m.\u001b[39mwith_traceback(filtered_tb) \u001b[39mfrom\u001b[39;00m \u001b[39mNone\u001b[39m\n\u001b[1;32m     68\u001b[0m \u001b[39mfinally\u001b[39;00m:\n\u001b[1;32m     69\u001b[0m   \u001b[39mdel\u001b[39;00m filtered_tb\n",
      "File \u001b[0;32m/opt/homebrew/Caskroom/miniforge/base/envs/tf/lib/python3.10/site-packages/keras/engine/input_spec.py:264\u001b[0m, in \u001b[0;36massert_input_compatibility\u001b[0;34m(input_spec, inputs, layer_name)\u001b[0m\n\u001b[1;32m    262\u001b[0m \u001b[39mif\u001b[39;00m spec_dim \u001b[39mis\u001b[39;00m \u001b[39mnot\u001b[39;00m \u001b[39mNone\u001b[39;00m \u001b[39mand\u001b[39;00m dim \u001b[39mis\u001b[39;00m \u001b[39mnot\u001b[39;00m \u001b[39mNone\u001b[39;00m:\n\u001b[1;32m    263\u001b[0m   \u001b[39mif\u001b[39;00m spec_dim \u001b[39m!=\u001b[39m dim:\n\u001b[0;32m--> 264\u001b[0m     \u001b[39mraise\u001b[39;00m \u001b[39mValueError\u001b[39;00m(\u001b[39mf\u001b[39m\u001b[39m'\u001b[39m\u001b[39mInput \u001b[39m\u001b[39m{\u001b[39;00minput_index\u001b[39m}\u001b[39;00m\u001b[39m of layer \u001b[39m\u001b[39m\"\u001b[39m\u001b[39m{\u001b[39;00mlayer_name\u001b[39m}\u001b[39;00m\u001b[39m\"\u001b[39m\u001b[39m is \u001b[39m\u001b[39m'\u001b[39m\n\u001b[1;32m    265\u001b[0m                      \u001b[39m'\u001b[39m\u001b[39mincompatible with the layer: \u001b[39m\u001b[39m'\u001b[39m\n\u001b[1;32m    266\u001b[0m                      \u001b[39mf\u001b[39m\u001b[39m'\u001b[39m\u001b[39mexpected shape=\u001b[39m\u001b[39m{\u001b[39;00mspec\u001b[39m.\u001b[39mshape\u001b[39m}\u001b[39;00m\u001b[39m, \u001b[39m\u001b[39m'\u001b[39m\n\u001b[1;32m    267\u001b[0m                      \u001b[39mf\u001b[39m\u001b[39m'\u001b[39m\u001b[39mfound shape=\u001b[39m\u001b[39m{\u001b[39;00mdisplay_shape(x\u001b[39m.\u001b[39mshape)\u001b[39m}\u001b[39;00m\u001b[39m'\u001b[39m)\n",
      "\u001b[0;31mValueError\u001b[0m: Input 0 of layer \"sequential_6\" is incompatible with the layer: expected shape=(None, 100), found shape=(100, 20)"
     ]
    }
   ],
   "source": [
    "d(tf.ones((100, 20)))"
   ]
  },
  {
   "cell_type": "code",
   "execution_count": 112,
   "metadata": {},
   "outputs": [
    {
     "data": {
      "text/plain": [
       "<tf.Tensor: shape=(1,), dtype=float32, numpy=array([10.986122], dtype=float32)>"
      ]
     },
     "execution_count": 112,
     "metadata": {},
     "output_type": "execute_result"
    }
   ],
   "source": [
    "logits = [[1.0, 1.0, 1.0]]\n",
    "labels = [[10.0, 0.0, 0.0]]\n",
    "tf.nn.softmax_cross_entropy_with_logits(labels=labels, logits=logits)"
   ]
  },
  {
   "cell_type": "code",
   "execution_count": 114,
   "metadata": {},
   "outputs": [
    {
     "data": {
      "text/plain": [
       "array([1.3132615 , 0.31326157, 0.6931472 , 0.31326157, 1.3132615 ,\n",
       "       0.6931472 , 0.6931472 ], dtype=float32)"
      ]
     },
     "execution_count": 114,
     "metadata": {},
     "output_type": "execute_result"
    }
   ],
   "source": [
    "logits = tf.constant([1., -1., 0., 1., -1., 0., 0.])\n",
    "labels = tf.constant([0., 0., 0., 1., 1., 1., 0.5])\n",
    "tf.nn.sigmoid_cross_entropy_with_logits(labels=labels, logits=logits).numpy()\n",
    "\n"
   ]
  }
 ],
 "metadata": {
  "kernelspec": {
   "display_name": "Python 3.10.5 ('tf')",
   "language": "python",
   "name": "python3"
  },
  "language_info": {
   "codemirror_mode": {
    "name": "ipython",
    "version": 3
   },
   "file_extension": ".py",
   "mimetype": "text/x-python",
   "name": "python",
   "nbconvert_exporter": "python",
   "pygments_lexer": "ipython3",
   "version": "3.10.5"
  },
  "orig_nbformat": 4,
  "vscode": {
   "interpreter": {
    "hash": "52ee2977380704a66854748a73250e0671a9318bd5b3fd45a3df9f851ae61629"
   }
  }
 },
 "nbformat": 4,
 "nbformat_minor": 2
}
